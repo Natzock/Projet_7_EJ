{
 "cells": [
  {
   "cell_type": "code",
   "execution_count": 1,
   "id": "8b231406-1b50-4740-b76d-41c95366b664",
   "metadata": {},
   "outputs": [],
   "source": [
    "import mlflow\n",
    "import mlflow.sklearn\n",
    "from mlflow.models import infer_signature\n",
    "import pandas as pd\n",
    "import numpy as np\n",
    "import seaborn as sns\n",
    "from sklearn import datasets\n",
    "from sklearn.model_selection import train_test_split, GridSearchCV,  KFold, StratifiedKFold, RandomizedSearchCV\n",
    "from sklearn.linear_model import LogisticRegression\n",
    "from sklearn.ensemble import RandomForestClassifier\n",
    "from sklearn.metrics import accuracy_score, precision_score, recall_score, f1_score\n",
    "from sklearn.feature_selection import SelectKBest, f_classif\n",
    "import gc\n",
    "import time\n",
    "from contextlib import contextmanager\n",
    "from lightgbm import LGBMClassifier\n",
    "from sklearn.metrics import roc_auc_score, roc_curve, accuracy_score, confusion_matrix\n",
    "from xgboost import XGBClassifier\n",
    "from imblearn.over_sampling import SMOTE\n",
    "from sklearn.pipeline import Pipeline\n",
    "from sklearn.impute import SimpleImputer\n",
    "from imblearn.pipeline import Pipeline as imbPipeline\n",
    "from collections import Counter\n",
    "import matplotlib.pyplot as plt\n",
    "import seaborn as sns\n",
    "import warnings\n",
    "import mlflow\n",
    "import mlflow.lightgbm\n",
    "import lightgbm as lgb\n",
    "import re\n",
    "from sklearn.preprocessing import LabelEncoder, StandardScaler"
   ]
  },
  {
   "cell_type": "markdown",
   "id": "b4582e84-e655-43ff-b89e-c301c0f80607",
   "metadata": {},
   "source": [
    "## charger les données"
   ]
  },
  {
   "cell_type": "code",
   "execution_count": 3,
   "id": "f40beedc-4368-4ed7-873d-841fe466fcf7",
   "metadata": {},
   "outputs": [],
   "source": [
    "data = pd.read_csv(\"../data/preprocess_table.csv\")"
   ]
  },
  {
   "cell_type": "markdown",
   "id": "40073aeb-e8fe-4d55-ba5b-cde2c6686f1d",
   "metadata": {},
   "source": [
    "## classe déséquilibrée"
   ]
  },
  {
   "cell_type": "code",
   "execution_count": 4,
   "id": "6398aaa7-21e1-4456-b799-4b0c13f0677e",
   "metadata": {},
   "outputs": [
    {
     "name": "stdout",
     "output_type": "stream",
     "text": [
      "Counter({0.0: 282682, 1.0: 24825})\n"
     ]
    }
   ],
   "source": [
    "# Séparer les caractéristiques (X) et les étiquettes (y)\n",
    "X = data.drop(columns=['TARGET'])\n",
    "y = data['TARGET']\n",
    "# summarize class distribution\n",
    "counter = Counter(y)\n",
    "print(counter)"
   ]
  },
  {
   "cell_type": "code",
   "execution_count": 5,
   "id": "0bad5d08-7603-4fa6-a6e9-3508cbb61043",
   "metadata": {},
   "outputs": [
    {
     "data": {
      "text/plain": [
       "(307507, 776)"
      ]
     },
     "execution_count": 5,
     "metadata": {},
     "output_type": "execute_result"
    }
   ],
   "source": [
    "X.shape"
   ]
  },
  {
   "cell_type": "markdown",
   "id": "5b41b49f-d553-4c52-b764-0d91d2bde951",
   "metadata": {},
   "source": [
    "### traitement des données"
   ]
  },
  {
   "cell_type": "code",
   "execution_count": 6,
   "id": "a27cfe68-842e-4aea-97e9-92a96c4b27cb",
   "metadata": {},
   "outputs": [],
   "source": [
    "# Séparation des données\n",
    "X_train, X_test, y_train, y_test = train_test_split(X, y, test_size=0.2, random_state=42, stratify=y)"
   ]
  },
  {
   "cell_type": "code",
   "execution_count": 7,
   "id": "5284e989-5dba-4f82-8b19-ff545bb01df0",
   "metadata": {},
   "outputs": [],
   "source": [
    "# imputation\n",
    "imputer = SimpleImputer(strategy='mean')\n",
    "X_train = imputer.fit_transform(X_train)\n",
    "X_test = imputer.transform(X_test)"
   ]
  },
  {
   "cell_type": "code",
   "execution_count": 8,
   "id": "946fcb70-da7a-4796-85b2-5d7ed444c846",
   "metadata": {},
   "outputs": [],
   "source": [
    "# Normalisation des données\n",
    "scaler = StandardScaler()\n",
    "X_train = scaler.fit_transform(X_train)\n",
    "X_test = scaler.transform(X_test)"
   ]
  },
  {
   "cell_type": "code",
   "execution_count": 9,
   "id": "78b83fd8-5b80-4ee8-9654-c5da5ecb8dec",
   "metadata": {},
   "outputs": [
    {
     "name": "stdout",
     "output_type": "stream",
     "text": [
      "Counter({0.0: 226145, 1.0: 19860})\n"
     ]
    }
   ],
   "source": [
    "counter = Counter(y_train)\n",
    "print(counter)\n",
    "\n"
   ]
  },
  {
   "cell_type": "markdown",
   "id": "b43377db-7c55-4588-b3f8-a5f4871eef54",
   "metadata": {},
   "source": [
    "## configurer ML_flow"
   ]
  },
  {
   "cell_type": "code",
   "execution_count": 10,
   "id": "3c5636af-b306-45b4-a6fa-0e20f0b019a7",
   "metadata": {},
   "outputs": [],
   "source": [
    "#définition du serveur de suivi mlflow\n",
    "mlflow.set_tracking_uri(uri=\"http://127.0.0.1:5000/\")  #équivalent à http://localhost:5000\n",
    "# le lancer sur un prompt : mlflow server --host 127.0.0.1 --port 5000"
   ]
  },
  {
   "cell_type": "markdown",
   "id": "aed8b1e1-9bfb-4a3f-92c5-70528567600a",
   "metadata": {},
   "source": [
    "### score"
   ]
  },
  {
   "cell_type": "code",
   "execution_count": 11,
   "id": "6b1775a6-fa84-43ca-9c09-2bd11ff0e015",
   "metadata": {},
   "outputs": [],
   "source": [
    "# Définir la fonction de coût\n",
    "def cost_function(y_true, y_pred_prob, threshold, cost_fn=10, cost_fp=1):\n",
    "    y_pred = (y_pred_prob >= threshold).astype(int)\n",
    "    tn, fp, fn, tp = confusion_matrix(y_true, y_pred).ravel()\n",
    "    cost = (fn * cost_fn) + (fp * cost_fp)\n",
    "    return cost"
   ]
  },
  {
   "cell_type": "markdown",
   "id": "b9523f56-c9dd-4373-b455-e26952e83b0b",
   "metadata": {},
   "source": [
    "## ligthGBM"
   ]
  },
  {
   "cell_type": "code",
   "execution_count": 12,
   "id": "055f289d-8a26-4f69-8c9c-6f49d70d791b",
   "metadata": {},
   "outputs": [],
   "source": [
    "train_data = lgb.Dataset(X_train, label=y_train)\n",
    "test_data = lgb.Dataset(X_test, label=y_test, reference=train_data)\n"
   ]
  },
  {
   "cell_type": "code",
   "execution_count": 13,
   "id": "685a4525-d9d2-4793-be17-020f3a860c68",
   "metadata": {},
   "outputs": [
    {
     "name": "stdout",
     "output_type": "stream",
     "text": [
      "[LightGBM] [Info] Number of positive: 19860, number of negative: 226145\n",
      "[LightGBM] [Info] Auto-choosing col-wise multi-threading, the overhead of testing was 1.450892 seconds.\n",
      "You can set `force_col_wise=true` to remove the overhead.\n",
      "[LightGBM] [Info] Total Bins 99257\n",
      "[LightGBM] [Info] Number of data points in the train set: 246005, number of used features: 741\n",
      "[LightGBM] [Info] [binary:BoostFromScore]: pavg=0.080730 -> initscore=-2.432469\n",
      "[LightGBM] [Info] Start training from score -2.432469\n"
     ]
    }
   ],
   "source": [
    "# Paramètres du modèle\n",
    "params = {\n",
    "    'boosting_type': 'gbdt',\n",
    "    'objective': 'binary',\n",
    "    'metric': 'auc',\n",
    "    'is_unbalance': True,\n",
    "    \n",
    "    'learning_rate': 0.01,\n",
    "    'num_leaves': 31,\n",
    "    'max_depth': 10,\n",
    "    'min_child_samples': 20,\n",
    "    'feature_fraction': 0.8,\n",
    "    'bagging_fraction': 0.8,\n",
    "    'bagging_freq': 5,\n",
    "    'reg_alpha': 0.1,\n",
    "    'reg_lambda': 0.1\n",
    "}\n",
    "\n",
    "\n",
    "gbm = lgb.train(params, train_data, num_boost_round=100, valid_sets=[test_data])\n",
    "\n",
    "\n"
   ]
  },
  {
   "cell_type": "code",
   "execution_count": 14,
   "id": "60084115-a020-4598-a450-00d9a7197f10",
   "metadata": {},
   "outputs": [
    {
     "name": "stderr",
     "output_type": "stream",
     "text": [
      "Successfully registered model 'LGBM_total'.\n",
      "2025/04/14 20:53:41 INFO mlflow.store.model_registry.abstract_store: Waiting up to 300 seconds for model version to finish creation. Model name: LGBM_total, version 1\n"
     ]
    },
    {
     "name": "stdout",
     "output_type": "stream",
     "text": [
      "🏃 View run selective-ray-381 at: http://127.0.0.1:5000/#/experiments/0/runs/d61d453c57b046b39e05c66371cdb7d3\n",
      "🧪 View experiment at: http://127.0.0.1:5000/#/experiments/0\n"
     ]
    },
    {
     "name": "stderr",
     "output_type": "stream",
     "text": [
      "Created version '1' of model 'LGBM_total'.\n"
     ]
    }
   ],
   "source": [
    "# Démarrer une run MLflow\n",
    "with mlflow.start_run() as run:\n",
    "    # Enregistrer les paramètres du modèle\n",
    "    mlflow.log_param(\"model_type\", \"LightGBM\")\n",
    "\n",
    "    \n",
    "    # Prédire les probabilités\n",
    "    y_pred_prob = gbm.predict(X_test, num_iteration=gbm.best_iteration)\n",
    "    # Calculer l'AUC\n",
    "    auc = roc_auc_score(y_test, y_pred_prob)\n",
    "    mlflow.log_metric(\"auc\", auc)\n",
    "\n",
    "    # Optimiser le seuil de décision\n",
    "    thresholds = np.linspace(0, 1, 100)\n",
    "    costs = [cost_function(y_test, y_pred_prob, threshold) for threshold in thresholds]\n",
    "    best_threshold = thresholds[np.argmin(costs)]\n",
    "\n",
    "    # Enregistrer le meilleur seuil\n",
    "    mlflow.log_param(\"best_threshold\", best_threshold)\n",
    "\n",
    "    # Évaluer le modèle avec le meilleur seuil\n",
    "    y_pred = (y_pred_prob >= best_threshold).astype(int)\n",
    "    min_cost = min(costs)\n",
    "    mlflow.log_metric(\"min_cost\", min_cost)\n",
    "\n",
    "    # Enregistrer le modèle avec un exemple d'entrée pour la signature\n",
    "    signature = mlflow.models.infer_signature(X_train, gbm.predict(X_train))\n",
    "    mlflow.lightgbm.log_model(gbm, \"LGBM\", signature=signature)\n",
    "\n",
    "    # Enregistrer le modèle dans le Model Registry\n",
    "    model_uri = f\"runs:/{run.info.run_id}/model\"\n",
    "    mlflow.register_model(model_uri, \"LGBM_total\")"
   ]
  },
  {
   "cell_type": "code",
   "execution_count": 15,
   "id": "d45ad189-6fd8-4a8f-9671-1eb497816d9f",
   "metadata": {},
   "outputs": [
    {
     "data": {
      "text/plain": [
       "'runs:/d61d453c57b046b39e05c66371cdb7d3/model'"
      ]
     },
     "execution_count": 15,
     "metadata": {},
     "output_type": "execute_result"
    }
   ],
   "source": [
    "model_uri"
   ]
  },
  {
   "cell_type": "code",
   "execution_count": 16,
   "id": "f92b8031-0013-43c3-b2fb-461f34c3331b",
   "metadata": {
    "scrolled": true
   },
   "outputs": [
    {
     "data": {
      "image/png": "[encoded data removed]",
      "text/plain": [
       "<Figure size 640x480 with 1 Axes>"
      ]
     },
     "metadata": {},
     "output_type": "display_data"
    }
   ],
   "source": [
    "# Tracer la courbe ROC\n",
    "fpr, tpr, thresholds = roc_curve(y_test, y_pred_prob)\n",
    "plt.figure()\n",
    "plt.plot(fpr, tpr, color='darkorange', lw=2, label='Courbe ROC (AUC = %0.2f)' % auc)\n",
    "plt.plot([0, 1], [0, 1], color='navy', lw=2, linestyle='--')\n",
    "plt.xlim([0.0, 1.0])\n",
    "plt.ylim([0.0, 1.05])\n",
    "plt.xlabel('Taux de faux positifs')\n",
    "plt.ylabel('Taux de vrais positifs')\n",
    "plt.title('Courbe ROC')\n",
    "plt.legend(loc=\"lower right\")\n",
    "plt.show()"
   ]
  },
  {
   "cell_type": "markdown",
   "id": "c50b4edf-0cc7-40a9-ae74-ed2213a19aa4",
   "metadata": {},
   "source": [
    "### optimisation lgbm"
   ]
  },
  {
   "cell_type": "code",
   "execution_count": 17,
   "id": "85fe5e45-944d-46b6-8a8b-32c2422cde39",
   "metadata": {},
   "outputs": [],
   "source": [
    "# Créer un pipeline avec SMOTE et LightGBM\n",
    "pipeline = imbPipeline([\n",
    "    ('smote', SMOTE(random_state=42)),\n",
    "    ('lgbm', lgb.LGBMClassifier(boosting_type='gbdt', objective='binary', metric='auc', random_state=42))\n",
    "])"
   ]
  },
  {
   "cell_type": "code",
   "execution_count": 18,
   "id": "0980d009-8390-48db-8106-463a67411953",
   "metadata": {},
   "outputs": [],
   "source": [
    "\n",
    "\n",
    "# Définir les hyperparamètres à tester\n",
    "param_grid = {\n",
    "    'lgbm__learning_rate': [0.01, 0.1],\n",
    "    'lgbm__num_leaves': [31, 50],\n",
    "    'lgbm__max_depth': [10, 20],\n",
    "    'lgbm__min_child_samples': [20, 30],\n",
    "    'lgbm__feature_fraction': [0.8, 1.0],\n",
    "    'lgbm__bagging_fraction': [0.8, 1.0],\n",
    "    'lgbm__bagging_freq': [5, 10],\n",
    "    'lgbm__reg_alpha': [0.1, 0.5],\n",
    "    'lgbm__reg_lambda': [0.1, 0.5],\n",
    "    'lgbm__scale_pos_weight': [1, 10]  # Utiliser scale_pos_weight pour gérer le déséquilibre\n",
    "\n",
    "}    \n"
   ]
  },
  {
   "cell_type": "markdown",
   "id": "2300d9d0-4412-436a-aa2e-6b78a1a32b8d",
   "metadata": {},
   "source": [
    "#### learning rate"
   ]
  },
  {
   "cell_type": "code",
   "execution_count": 19,
   "id": "0eb9065e-1737-481d-88b5-2cbb7f7f1bb1",
   "metadata": {},
   "outputs": [],
   "source": [
    "param_grid_lr = {\n",
    "    'lgbm__learning_rate': [0.01, 0.1]\n",
    "}"
   ]
  },
  {
   "cell_type": "code",
   "execution_count": 24,
   "id": "7247e36e-d8e3-4d8b-9262-837ba535f8c2",
   "metadata": {},
   "outputs": [],
   "source": [
    "\n",
    "\n",
    "# Configurer GridSearchCV\n",
    "grid_search = GridSearchCV(pipeline, param_grid_lr, cv=3, scoring='roc_auc', n_jobs=1)\n"
   ]
  },
  {
   "cell_type": "code",
   "execution_count": 25,
   "id": "22827681-97a2-445a-9933-1a3d3cdd0615",
   "metadata": {},
   "outputs": [
    {
     "name": "stdout",
     "output_type": "stream",
     "text": [
      "[LightGBM] [Info] Number of positive: 150763, number of negative: 150763\n",
      "[LightGBM] [Info] Auto-choosing col-wise multi-threading, the overhead of testing was 2.089949 seconds.\n",
      "You can set `force_col_wise=true` to remove the overhead.\n",
      "[LightGBM] [Info] Total Bins 175552\n",
      "[LightGBM] [Info] Number of data points in the train set: 301526, number of used features: 742\n",
      "[LightGBM] [Info] [binary:BoostFromScore]: pavg=0.500000 -> initscore=0.000000\n"
     ]
    },
    {
     "name": "stderr",
     "output_type": "stream",
     "text": [
      "C:\\Users\\Emmanuel\\anaconda3\\envs\\P7_py311\\Lib\\site-packages\\sklearn\\utils\\validation.py:2739: UserWarning: X does not have valid feature names, but LGBMClassifier was fitted with feature names\n",
      "  warnings.warn(\n"
     ]
    },
    {
     "name": "stdout",
     "output_type": "stream",
     "text": [
      "[LightGBM] [Info] Number of positive: 150763, number of negative: 150763\n",
      "[LightGBM] [Info] Auto-choosing col-wise multi-threading, the overhead of testing was 1.925698 seconds.\n",
      "You can set `force_col_wise=true` to remove the overhead.\n",
      "[LightGBM] [Info] Total Bins 175680\n",
      "[LightGBM] [Info] Number of data points in the train set: 301526, number of used features: 743\n",
      "[LightGBM] [Info] [binary:BoostFromScore]: pavg=0.500000 -> initscore=0.000000\n"
     ]
    },
    {
     "name": "stderr",
     "output_type": "stream",
     "text": [
      "C:\\Users\\Emmanuel\\anaconda3\\envs\\P7_py311\\Lib\\site-packages\\sklearn\\utils\\validation.py:2739: UserWarning: X does not have valid feature names, but LGBMClassifier was fitted with feature names\n",
      "  warnings.warn(\n"
     ]
    },
    {
     "name": "stdout",
     "output_type": "stream",
     "text": [
      "[LightGBM] [Info] Number of positive: 150764, number of negative: 150764\n",
      "[LightGBM] [Info] Auto-choosing col-wise multi-threading, the overhead of testing was 1.960180 seconds.\n",
      "You can set `force_col_wise=true` to remove the overhead.\n",
      "[LightGBM] [Info] Total Bins 175516\n",
      "[LightGBM] [Info] Number of data points in the train set: 301528, number of used features: 743\n",
      "[LightGBM] [Info] [binary:BoostFromScore]: pavg=0.500000 -> initscore=0.000000\n"
     ]
    },
    {
     "name": "stderr",
     "output_type": "stream",
     "text": [
      "C:\\Users\\Emmanuel\\anaconda3\\envs\\P7_py311\\Lib\\site-packages\\sklearn\\utils\\validation.py:2739: UserWarning: X does not have valid feature names, but LGBMClassifier was fitted with feature names\n",
      "  warnings.warn(\n"
     ]
    },
    {
     "name": "stdout",
     "output_type": "stream",
     "text": [
      "[LightGBM] [Info] Number of positive: 150763, number of negative: 150763\n",
      "[LightGBM] [Info] Auto-choosing col-wise multi-threading, the overhead of testing was 1.880116 seconds.\n",
      "You can set `force_col_wise=true` to remove the overhead.\n",
      "[LightGBM] [Info] Total Bins 175552\n",
      "[LightGBM] [Info] Number of data points in the train set: 301526, number of used features: 742\n",
      "[LightGBM] [Info] [binary:BoostFromScore]: pavg=0.500000 -> initscore=0.000000\n"
     ]
    },
    {
     "name": "stderr",
     "output_type": "stream",
     "text": [
      "C:\\Users\\Emmanuel\\anaconda3\\envs\\P7_py311\\Lib\\site-packages\\sklearn\\utils\\validation.py:2739: UserWarning: X does not have valid feature names, but LGBMClassifier was fitted with feature names\n",
      "  warnings.warn(\n"
     ]
    },
    {
     "name": "stdout",
     "output_type": "stream",
     "text": [
      "[LightGBM] [Info] Number of positive: 150763, number of negative: 150763\n",
      "[LightGBM] [Info] Auto-choosing col-wise multi-threading, the overhead of testing was 1.857357 seconds.\n",
      "You can set `force_col_wise=true` to remove the overhead.\n",
      "[LightGBM] [Info] Total Bins 175680\n",
      "[LightGBM] [Info] Number of data points in the train set: 301526, number of used features: 743\n",
      "[LightGBM] [Info] [binary:BoostFromScore]: pavg=0.500000 -> initscore=0.000000\n"
     ]
    },
    {
     "name": "stderr",
     "output_type": "stream",
     "text": [
      "C:\\Users\\Emmanuel\\anaconda3\\envs\\P7_py311\\Lib\\site-packages\\sklearn\\utils\\validation.py:2739: UserWarning: X does not have valid feature names, but LGBMClassifier was fitted with feature names\n",
      "  warnings.warn(\n"
     ]
    },
    {
     "name": "stdout",
     "output_type": "stream",
     "text": [
      "[LightGBM] [Info] Number of positive: 150764, number of negative: 150764\n",
      "[LightGBM] [Info] Auto-choosing col-wise multi-threading, the overhead of testing was 1.961569 seconds.\n",
      "You can set `force_col_wise=true` to remove the overhead.\n",
      "[LightGBM] [Info] Total Bins 175516\n",
      "[LightGBM] [Info] Number of data points in the train set: 301528, number of used features: 743\n",
      "[LightGBM] [Info] [binary:BoostFromScore]: pavg=0.500000 -> initscore=0.000000\n"
     ]
    },
    {
     "name": "stderr",
     "output_type": "stream",
     "text": [
      "C:\\Users\\Emmanuel\\anaconda3\\envs\\P7_py311\\Lib\\site-packages\\sklearn\\utils\\validation.py:2739: UserWarning: X does not have valid feature names, but LGBMClassifier was fitted with feature names\n",
      "  warnings.warn(\n"
     ]
    },
    {
     "name": "stdout",
     "output_type": "stream",
     "text": [
      "[LightGBM] [Info] Number of positive: 226145, number of negative: 226145\n",
      "[LightGBM] [Info] Auto-choosing col-wise multi-threading, the overhead of testing was 2.719878 seconds.\n",
      "You can set `force_col_wise=true` to remove the overhead.\n",
      "[LightGBM] [Info] Total Bins 175425\n",
      "[LightGBM] [Info] Number of data points in the train set: 452290, number of used features: 743\n",
      "[LightGBM] [Info] [binary:BoostFromScore]: pavg=0.500000 -> initscore=0.000000\n",
      "Meilleurs paramètres trouvés : {'lgbm__learning_rate': 0.1}\n"
     ]
    }
   ],
   "source": [
    "# Effectuer la recherche d'hyperparamètres\n",
    "grid_search.fit(X_train, y_train)\n",
    "\n",
    "# Afficher les meilleurs paramètres\n",
    "print(\"Meilleurs paramètres trouvés :\", grid_search.best_params_)\n"
   ]
  },
  {
   "cell_type": "code",
   "execution_count": 26,
   "id": "9ab02b41-c1df-4352-abfc-7f5c65bc659c",
   "metadata": {},
   "outputs": [],
   "source": [
    "param_grid.update(grid_search.best_params_)"
   ]
  },
  {
   "cell_type": "code",
   "execution_count": 27,
   "id": "368afbbb-afd9-463e-a551-09114ecd2c6a",
   "metadata": {},
   "outputs": [
    {
     "data": {
      "text/plain": [
       "{'lgbm__learning_rate': 0.1,\n",
       " 'lgbm__num_leaves': [31, 50],\n",
       " 'lgbm__max_depth': [10, 20],\n",
       " 'lgbm__min_child_samples': [20, 30],\n",
       " 'lgbm__feature_fraction': [0.8, 1.0],\n",
       " 'lgbm__bagging_fraction': [0.8, 1.0],\n",
       " 'lgbm__bagging_freq': [5, 10],\n",
       " 'lgbm__reg_alpha': [0.1, 0.5],\n",
       " 'lgbm__reg_lambda': [0.1, 0.5],\n",
       " 'lgbm__scale_pos_weight': [1, 10]}"
      ]
     },
     "execution_count": 27,
     "metadata": {},
     "output_type": "execute_result"
    }
   ],
   "source": [
    "param_grid"
   ]
  },
  {
   "cell_type": "markdown",
   "id": "87a8a855-c710-4a53-ac80-2c236b6fd038",
   "metadata": {},
   "source": [
    "#### num leaves"
   ]
  },
  {
   "cell_type": "code",
   "execution_count": 28,
   "id": "7fab0260-40ea-4e59-9eba-d1a9e4a81f0e",
   "metadata": {},
   "outputs": [],
   "source": [
    "param_grid_nl = {\n",
    "    'lgbm__num_leaves': [31, 50]\n",
    "}"
   ]
  },
  {
   "cell_type": "code",
   "execution_count": 29,
   "id": "8b913c6d-9460-4906-96be-66c946c60fa4",
   "metadata": {},
   "outputs": [],
   "source": [
    "\n",
    "\n",
    "# Configurer GridSearchCV\n",
    "grid_search = GridSearchCV(pipeline, param_grid_nl, cv=3, scoring='roc_auc', n_jobs=1)\n"
   ]
  },
  {
   "cell_type": "code",
   "execution_count": 30,
   "id": "844643ad-6c91-4fca-ad9c-7a5399279608",
   "metadata": {},
   "outputs": [
    {
     "name": "stdout",
     "output_type": "stream",
     "text": [
      "[LightGBM] [Info] Number of positive: 150763, number of negative: 150763\n",
      "[LightGBM] [Info] Auto-choosing col-wise multi-threading, the overhead of testing was 1.898431 seconds.\n",
      "You can set `force_col_wise=true` to remove the overhead.\n",
      "[LightGBM] [Info] Total Bins 175552\n",
      "[LightGBM] [Info] Number of data points in the train set: 301526, number of used features: 742\n",
      "[LightGBM] [Info] [binary:BoostFromScore]: pavg=0.500000 -> initscore=0.000000\n"
     ]
    },
    {
     "name": "stderr",
     "output_type": "stream",
     "text": [
      "C:\\Users\\Emmanuel\\anaconda3\\envs\\P7_py311\\Lib\\site-packages\\sklearn\\utils\\validation.py:2739: UserWarning: X does not have valid feature names, but LGBMClassifier was fitted with feature names\n",
      "  warnings.warn(\n"
     ]
    },
    {
     "name": "stdout",
     "output_type": "stream",
     "text": [
      "[LightGBM] [Info] Number of positive: 150763, number of negative: 150763\n",
      "[LightGBM] [Info] Auto-choosing col-wise multi-threading, the overhead of testing was 1.982371 seconds.\n",
      "You can set `force_col_wise=true` to remove the overhead.\n",
      "[LightGBM] [Info] Total Bins 175680\n",
      "[LightGBM] [Info] Number of data points in the train set: 301526, number of used features: 743\n",
      "[LightGBM] [Info] [binary:BoostFromScore]: pavg=0.500000 -> initscore=0.000000\n"
     ]
    },
    {
     "name": "stderr",
     "output_type": "stream",
     "text": [
      "C:\\Users\\Emmanuel\\anaconda3\\envs\\P7_py311\\Lib\\site-packages\\sklearn\\utils\\validation.py:2739: UserWarning: X does not have valid feature names, but LGBMClassifier was fitted with feature names\n",
      "  warnings.warn(\n"
     ]
    },
    {
     "name": "stdout",
     "output_type": "stream",
     "text": [
      "[LightGBM] [Info] Number of positive: 150764, number of negative: 150764\n",
      "[LightGBM] [Info] Auto-choosing col-wise multi-threading, the overhead of testing was 2.038995 seconds.\n",
      "You can set `force_col_wise=true` to remove the overhead.\n",
      "[LightGBM] [Info] Total Bins 175516\n",
      "[LightGBM] [Info] Number of data points in the train set: 301528, number of used features: 743\n",
      "[LightGBM] [Info] [binary:BoostFromScore]: pavg=0.500000 -> initscore=0.000000\n"
     ]
    },
    {
     "name": "stderr",
     "output_type": "stream",
     "text": [
      "C:\\Users\\Emmanuel\\anaconda3\\envs\\P7_py311\\Lib\\site-packages\\sklearn\\utils\\validation.py:2739: UserWarning: X does not have valid feature names, but LGBMClassifier was fitted with feature names\n",
      "  warnings.warn(\n"
     ]
    },
    {
     "name": "stdout",
     "output_type": "stream",
     "text": [
      "[LightGBM] [Info] Number of positive: 150763, number of negative: 150763\n",
      "[LightGBM] [Info] Auto-choosing col-wise multi-threading, the overhead of testing was 1.917136 seconds.\n",
      "You can set `force_col_wise=true` to remove the overhead.\n",
      "[LightGBM] [Info] Total Bins 175552\n",
      "[LightGBM] [Info] Number of data points in the train set: 301526, number of used features: 742\n",
      "[LightGBM] [Info] [binary:BoostFromScore]: pavg=0.500000 -> initscore=0.000000\n"
     ]
    },
    {
     "name": "stderr",
     "output_type": "stream",
     "text": [
      "C:\\Users\\Emmanuel\\anaconda3\\envs\\P7_py311\\Lib\\site-packages\\sklearn\\utils\\validation.py:2739: UserWarning: X does not have valid feature names, but LGBMClassifier was fitted with feature names\n",
      "  warnings.warn(\n"
     ]
    },
    {
     "name": "stdout",
     "output_type": "stream",
     "text": [
      "[LightGBM] [Info] Number of positive: 150763, number of negative: 150763\n",
      "[LightGBM] [Info] Auto-choosing col-wise multi-threading, the overhead of testing was 1.935113 seconds.\n",
      "You can set `force_col_wise=true` to remove the overhead.\n",
      "[LightGBM] [Info] Total Bins 175680\n",
      "[LightGBM] [Info] Number of data points in the train set: 301526, number of used features: 743\n",
      "[LightGBM] [Info] [binary:BoostFromScore]: pavg=0.500000 -> initscore=0.000000\n"
     ]
    },
    {
     "name": "stderr",
     "output_type": "stream",
     "text": [
      "C:\\Users\\Emmanuel\\anaconda3\\envs\\P7_py311\\Lib\\site-packages\\sklearn\\utils\\validation.py:2739: UserWarning: X does not have valid feature names, but LGBMClassifier was fitted with feature names\n",
      "  warnings.warn(\n"
     ]
    },
    {
     "name": "stdout",
     "output_type": "stream",
     "text": [
      "[LightGBM] [Info] Number of positive: 150764, number of negative: 150764\n",
      "[LightGBM] [Info] Auto-choosing col-wise multi-threading, the overhead of testing was 1.958245 seconds.\n",
      "You can set `force_col_wise=true` to remove the overhead.\n",
      "[LightGBM] [Info] Total Bins 175516\n",
      "[LightGBM] [Info] Number of data points in the train set: 301528, number of used features: 743\n",
      "[LightGBM] [Info] [binary:BoostFromScore]: pavg=0.500000 -> initscore=0.000000\n"
     ]
    },
    {
     "name": "stderr",
     "output_type": "stream",
     "text": [
      "C:\\Users\\Emmanuel\\anaconda3\\envs\\P7_py311\\Lib\\site-packages\\sklearn\\utils\\validation.py:2739: UserWarning: X does not have valid feature names, but LGBMClassifier was fitted with feature names\n",
      "  warnings.warn(\n"
     ]
    },
    {
     "name": "stdout",
     "output_type": "stream",
     "text": [
      "[LightGBM] [Info] Number of positive: 226145, number of negative: 226145\n",
      "[LightGBM] [Info] Auto-choosing col-wise multi-threading, the overhead of testing was 2.807349 seconds.\n",
      "You can set `force_col_wise=true` to remove the overhead.\n",
      "[LightGBM] [Info] Total Bins 175425\n",
      "[LightGBM] [Info] Number of data points in the train set: 452290, number of used features: 743\n",
      "[LightGBM] [Info] [binary:BoostFromScore]: pavg=0.500000 -> initscore=0.000000\n",
      "Meilleurs paramètres trouvés : {'lgbm__num_leaves': 50}\n"
     ]
    }
   ],
   "source": [
    "# Effectuer la recherche d'hyperparamètres\n",
    "grid_search.fit(X_train, y_train)\n",
    "\n",
    "# Afficher les meilleurs paramètres\n",
    "print(\"Meilleurs paramètres trouvés :\", grid_search.best_params_)\n"
   ]
  },
  {
   "cell_type": "code",
   "execution_count": 31,
   "id": "7ee019f6-6b53-4b95-941b-87acc899bf76",
   "metadata": {},
   "outputs": [],
   "source": [
    "param_grid.update(grid_search.best_params_)"
   ]
  },
  {
   "cell_type": "code",
   "execution_count": 32,
   "id": "7398fbb1-36aa-40b4-b910-49f7f43c2d0a",
   "metadata": {
    "scrolled": true
   },
   "outputs": [
    {
     "data": {
      "text/plain": [
       "{'lgbm__learning_rate': 0.1,\n",
       " 'lgbm__num_leaves': 50,\n",
       " 'lgbm__max_depth': [10, 20],\n",
       " 'lgbm__min_child_samples': [20, 30],\n",
       " 'lgbm__feature_fraction': [0.8, 1.0],\n",
       " 'lgbm__bagging_fraction': [0.8, 1.0],\n",
       " 'lgbm__bagging_freq': [5, 10],\n",
       " 'lgbm__reg_alpha': [0.1, 0.5],\n",
       " 'lgbm__reg_lambda': [0.1, 0.5],\n",
       " 'lgbm__scale_pos_weight': [1, 10]}"
      ]
     },
     "execution_count": 32,
     "metadata": {},
     "output_type": "execute_result"
    }
   ],
   "source": [
    "param_grid"
   ]
  },
  {
   "cell_type": "markdown",
   "id": "9660b19e-ce1a-4193-9136-6620d2665d38",
   "metadata": {},
   "source": [
    "#### max depth"
   ]
  },
  {
   "cell_type": "code",
   "execution_count": 33,
   "id": "af786174-1e65-4747-bdd6-cbb092c72eba",
   "metadata": {},
   "outputs": [],
   "source": [
    "param_grid_md = {\n",
    "    'lgbm__max_depth': [10, 20],\n",
    "}"
   ]
  },
  {
   "cell_type": "code",
   "execution_count": 34,
   "id": "063f3e82-a0f0-4357-8bd8-b5c03d780b46",
   "metadata": {},
   "outputs": [],
   "source": [
    "\n",
    "\n",
    "# Configurer GridSearchCV\n",
    "grid_search = GridSearchCV(pipeline, param_grid_md, cv=3, scoring='roc_auc', n_jobs=1)\n"
   ]
  },
  {
   "cell_type": "code",
   "execution_count": 35,
   "id": "218930df-5fdd-45e6-b007-fd1cff07528c",
   "metadata": {},
   "outputs": [
    {
     "name": "stdout",
     "output_type": "stream",
     "text": [
      "[LightGBM] [Info] Number of positive: 150763, number of negative: 150763\n",
      "[LightGBM] [Info] Auto-choosing col-wise multi-threading, the overhead of testing was 1.909561 seconds.\n",
      "You can set `force_col_wise=true` to remove the overhead.\n",
      "[LightGBM] [Info] Total Bins 175552\n",
      "[LightGBM] [Info] Number of data points in the train set: 301526, number of used features: 742\n",
      "[LightGBM] [Info] [binary:BoostFromScore]: pavg=0.500000 -> initscore=0.000000\n"
     ]
    },
    {
     "name": "stderr",
     "output_type": "stream",
     "text": [
      "C:\\Users\\Emmanuel\\anaconda3\\envs\\P7_py311\\Lib\\site-packages\\sklearn\\utils\\validation.py:2739: UserWarning: X does not have valid feature names, but LGBMClassifier was fitted with feature names\n",
      "  warnings.warn(\n"
     ]
    },
    {
     "name": "stdout",
     "output_type": "stream",
     "text": [
      "[LightGBM] [Info] Number of positive: 150763, number of negative: 150763\n",
      "[LightGBM] [Info] Auto-choosing col-wise multi-threading, the overhead of testing was 1.941948 seconds.\n",
      "You can set `force_col_wise=true` to remove the overhead.\n",
      "[LightGBM] [Info] Total Bins 175680\n",
      "[LightGBM] [Info] Number of data points in the train set: 301526, number of used features: 743\n",
      "[LightGBM] [Info] [binary:BoostFromScore]: pavg=0.500000 -> initscore=0.000000\n"
     ]
    },
    {
     "name": "stderr",
     "output_type": "stream",
     "text": [
      "C:\\Users\\Emmanuel\\anaconda3\\envs\\P7_py311\\Lib\\site-packages\\sklearn\\utils\\validation.py:2739: UserWarning: X does not have valid feature names, but LGBMClassifier was fitted with feature names\n",
      "  warnings.warn(\n"
     ]
    },
    {
     "name": "stdout",
     "output_type": "stream",
     "text": [
      "[LightGBM] [Info] Number of positive: 150764, number of negative: 150764\n",
      "[LightGBM] [Info] Auto-choosing col-wise multi-threading, the overhead of testing was 1.901583 seconds.\n",
      "You can set `force_col_wise=true` to remove the overhead.\n",
      "[LightGBM] [Info] Total Bins 175516\n",
      "[LightGBM] [Info] Number of data points in the train set: 301528, number of used features: 743\n",
      "[LightGBM] [Info] [binary:BoostFromScore]: pavg=0.500000 -> initscore=0.000000\n"
     ]
    },
    {
     "name": "stderr",
     "output_type": "stream",
     "text": [
      "C:\\Users\\Emmanuel\\anaconda3\\envs\\P7_py311\\Lib\\site-packages\\sklearn\\utils\\validation.py:2739: UserWarning: X does not have valid feature names, but LGBMClassifier was fitted with feature names\n",
      "  warnings.warn(\n"
     ]
    },
    {
     "name": "stdout",
     "output_type": "stream",
     "text": [
      "[LightGBM] [Info] Number of positive: 150763, number of negative: 150763\n",
      "[LightGBM] [Info] Auto-choosing col-wise multi-threading, the overhead of testing was 1.839455 seconds.\n",
      "You can set `force_col_wise=true` to remove the overhead.\n",
      "[LightGBM] [Info] Total Bins 175552\n",
      "[LightGBM] [Info] Number of data points in the train set: 301526, number of used features: 742\n",
      "[LightGBM] [Info] [binary:BoostFromScore]: pavg=0.500000 -> initscore=0.000000\n"
     ]
    },
    {
     "name": "stderr",
     "output_type": "stream",
     "text": [
      "C:\\Users\\Emmanuel\\anaconda3\\envs\\P7_py311\\Lib\\site-packages\\sklearn\\utils\\validation.py:2739: UserWarning: X does not have valid feature names, but LGBMClassifier was fitted with feature names\n",
      "  warnings.warn(\n"
     ]
    },
    {
     "name": "stdout",
     "output_type": "stream",
     "text": [
      "[LightGBM] [Info] Number of positive: 150763, number of negative: 150763\n",
      "[LightGBM] [Info] Auto-choosing col-wise multi-threading, the overhead of testing was 1.861226 seconds.\n",
      "You can set `force_col_wise=true` to remove the overhead.\n",
      "[LightGBM] [Info] Total Bins 175680\n",
      "[LightGBM] [Info] Number of data points in the train set: 301526, number of used features: 743\n",
      "[LightGBM] [Info] [binary:BoostFromScore]: pavg=0.500000 -> initscore=0.000000\n"
     ]
    },
    {
     "name": "stderr",
     "output_type": "stream",
     "text": [
      "C:\\Users\\Emmanuel\\anaconda3\\envs\\P7_py311\\Lib\\site-packages\\sklearn\\utils\\validation.py:2739: UserWarning: X does not have valid feature names, but LGBMClassifier was fitted with feature names\n",
      "  warnings.warn(\n"
     ]
    },
    {
     "name": "stdout",
     "output_type": "stream",
     "text": [
      "[LightGBM] [Info] Number of positive: 150764, number of negative: 150764\n",
      "[LightGBM] [Info] Auto-choosing col-wise multi-threading, the overhead of testing was 1.910076 seconds.\n",
      "You can set `force_col_wise=true` to remove the overhead.\n",
      "[LightGBM] [Info] Total Bins 175516\n",
      "[LightGBM] [Info] Number of data points in the train set: 301528, number of used features: 743\n",
      "[LightGBM] [Info] [binary:BoostFromScore]: pavg=0.500000 -> initscore=0.000000\n"
     ]
    },
    {
     "name": "stderr",
     "output_type": "stream",
     "text": [
      "C:\\Users\\Emmanuel\\anaconda3\\envs\\P7_py311\\Lib\\site-packages\\sklearn\\utils\\validation.py:2739: UserWarning: X does not have valid feature names, but LGBMClassifier was fitted with feature names\n",
      "  warnings.warn(\n"
     ]
    },
    {
     "name": "stdout",
     "output_type": "stream",
     "text": [
      "[LightGBM] [Info] Number of positive: 226145, number of negative: 226145\n",
      "[LightGBM] [Info] Auto-choosing col-wise multi-threading, the overhead of testing was 2.774469 seconds.\n",
      "You can set `force_col_wise=true` to remove the overhead.\n",
      "[LightGBM] [Info] Total Bins 175425\n",
      "[LightGBM] [Info] Number of data points in the train set: 452290, number of used features: 743\n",
      "[LightGBM] [Info] [binary:BoostFromScore]: pavg=0.500000 -> initscore=0.000000\n",
      "Meilleurs paramètres trouvés : {'lgbm__max_depth': 20}\n"
     ]
    }
   ],
   "source": [
    "# Effectuer la recherche d'hyperparamètres\n",
    "grid_search.fit(X_train, y_train)\n",
    "\n",
    "# Afficher les meilleurs paramètres\n",
    "print(\"Meilleurs paramètres trouvés :\", grid_search.best_params_)\n"
   ]
  },
  {
   "cell_type": "code",
   "execution_count": 36,
   "id": "0fecdc03-1442-47a9-94b0-5ac87fd4f82c",
   "metadata": {},
   "outputs": [],
   "source": [
    "param_grid.update(grid_search.best_params_)"
   ]
  },
  {
   "cell_type": "code",
   "execution_count": 37,
   "id": "f2c6d6ff-28d1-4743-8724-ba3644bed6f5",
   "metadata": {
    "scrolled": true
   },
   "outputs": [
    {
     "data": {
      "text/plain": [
       "{'lgbm__learning_rate': 0.1,\n",
       " 'lgbm__num_leaves': 50,\n",
       " 'lgbm__max_depth': 20,\n",
       " 'lgbm__min_child_samples': [20, 30],\n",
       " 'lgbm__feature_fraction': [0.8, 1.0],\n",
       " 'lgbm__bagging_fraction': [0.8, 1.0],\n",
       " 'lgbm__bagging_freq': [5, 10],\n",
       " 'lgbm__reg_alpha': [0.1, 0.5],\n",
       " 'lgbm__reg_lambda': [0.1, 0.5],\n",
       " 'lgbm__scale_pos_weight': [1, 10]}"
      ]
     },
     "execution_count": 37,
     "metadata": {},
     "output_type": "execute_result"
    }
   ],
   "source": [
    "param_grid"
   ]
  },
  {
   "cell_type": "code",
   "execution_count": null,
   "id": "40a6a462-920f-44b1-8b8d-44e7080c5092",
   "metadata": {},
   "outputs": [],
   "source": []
  },
  {
   "cell_type": "markdown",
   "id": "fb8c852d-422a-472e-b7a8-5c33adb15f4e",
   "metadata": {},
   "source": [
    "#### min child samples"
   ]
  },
  {
   "cell_type": "code",
   "execution_count": 38,
   "id": "481d538e-33ea-4c0f-8084-09c438cbe1ef",
   "metadata": {},
   "outputs": [],
   "source": [
    "param_grid_mcs = {\n",
    "    'lgbm__min_child_samples': [20, 30]\n",
    "}"
   ]
  },
  {
   "cell_type": "code",
   "execution_count": 39,
   "id": "2953a480-5f97-4315-a712-04c479277bd6",
   "metadata": {},
   "outputs": [],
   "source": [
    "\n",
    "\n",
    "# Configurer GridSearchCV\n",
    "grid_search = GridSearchCV(pipeline, param_grid_mcs, cv=3, scoring='roc_auc', n_jobs=1)\n"
   ]
  },
  {
   "cell_type": "code",
   "execution_count": 40,
   "id": "50206c4e-c49d-49b1-8b9e-9d4d90e17ffe",
   "metadata": {},
   "outputs": [
    {
     "name": "stdout",
     "output_type": "stream",
     "text": [
      "[LightGBM] [Info] Number of positive: 150763, number of negative: 150763\n",
      "[LightGBM] [Info] Auto-choosing col-wise multi-threading, the overhead of testing was 1.869186 seconds.\n",
      "You can set `force_col_wise=true` to remove the overhead.\n",
      "[LightGBM] [Info] Total Bins 175552\n",
      "[LightGBM] [Info] Number of data points in the train set: 301526, number of used features: 742\n",
      "[LightGBM] [Info] [binary:BoostFromScore]: pavg=0.500000 -> initscore=0.000000\n"
     ]
    },
    {
     "name": "stderr",
     "output_type": "stream",
     "text": [
      "C:\\Users\\Emmanuel\\anaconda3\\envs\\P7_py311\\Lib\\site-packages\\sklearn\\utils\\validation.py:2739: UserWarning: X does not have valid feature names, but LGBMClassifier was fitted with feature names\n",
      "  warnings.warn(\n"
     ]
    },
    {
     "name": "stdout",
     "output_type": "stream",
     "text": [
      "[LightGBM] [Info] Number of positive: 150763, number of negative: 150763\n",
      "[LightGBM] [Info] Auto-choosing col-wise multi-threading, the overhead of testing was 1.923214 seconds.\n",
      "You can set `force_col_wise=true` to remove the overhead.\n",
      "[LightGBM] [Info] Total Bins 175680\n",
      "[LightGBM] [Info] Number of data points in the train set: 301526, number of used features: 743\n",
      "[LightGBM] [Info] [binary:BoostFromScore]: pavg=0.500000 -> initscore=0.000000\n"
     ]
    },
    {
     "name": "stderr",
     "output_type": "stream",
     "text": [
      "C:\\Users\\Emmanuel\\anaconda3\\envs\\P7_py311\\Lib\\site-packages\\sklearn\\utils\\validation.py:2739: UserWarning: X does not have valid feature names, but LGBMClassifier was fitted with feature names\n",
      "  warnings.warn(\n"
     ]
    },
    {
     "name": "stdout",
     "output_type": "stream",
     "text": [
      "[LightGBM] [Info] Number of positive: 150764, number of negative: 150764\n",
      "[LightGBM] [Info] Auto-choosing col-wise multi-threading, the overhead of testing was 1.910755 seconds.\n",
      "You can set `force_col_wise=true` to remove the overhead.\n",
      "[LightGBM] [Info] Total Bins 175516\n",
      "[LightGBM] [Info] Number of data points in the train set: 301528, number of used features: 743\n",
      "[LightGBM] [Info] [binary:BoostFromScore]: pavg=0.500000 -> initscore=0.000000\n"
     ]
    },
    {
     "name": "stderr",
     "output_type": "stream",
     "text": [
      "C:\\Users\\Emmanuel\\anaconda3\\envs\\P7_py311\\Lib\\site-packages\\sklearn\\utils\\validation.py:2739: UserWarning: X does not have valid feature names, but LGBMClassifier was fitted with feature names\n",
      "  warnings.warn(\n"
     ]
    },
    {
     "name": "stdout",
     "output_type": "stream",
     "text": [
      "[LightGBM] [Info] Number of positive: 150763, number of negative: 150763\n",
      "[LightGBM] [Info] Auto-choosing col-wise multi-threading, the overhead of testing was 1.866757 seconds.\n",
      "You can set `force_col_wise=true` to remove the overhead.\n",
      "[LightGBM] [Info] Total Bins 175549\n",
      "[LightGBM] [Info] Number of data points in the train set: 301526, number of used features: 741\n",
      "[LightGBM] [Info] [binary:BoostFromScore]: pavg=0.500000 -> initscore=0.000000\n"
     ]
    },
    {
     "name": "stderr",
     "output_type": "stream",
     "text": [
      "C:\\Users\\Emmanuel\\anaconda3\\envs\\P7_py311\\Lib\\site-packages\\sklearn\\utils\\validation.py:2739: UserWarning: X does not have valid feature names, but LGBMClassifier was fitted with feature names\n",
      "  warnings.warn(\n"
     ]
    },
    {
     "name": "stdout",
     "output_type": "stream",
     "text": [
      "[LightGBM] [Info] Number of positive: 150763, number of negative: 150763\n",
      "[LightGBM] [Info] Auto-choosing col-wise multi-threading, the overhead of testing was 1.895334 seconds.\n",
      "You can set `force_col_wise=true` to remove the overhead.\n",
      "[LightGBM] [Info] Total Bins 175676\n",
      "[LightGBM] [Info] Number of data points in the train set: 301526, number of used features: 742\n",
      "[LightGBM] [Info] [binary:BoostFromScore]: pavg=0.500000 -> initscore=0.000000\n"
     ]
    },
    {
     "name": "stderr",
     "output_type": "stream",
     "text": [
      "C:\\Users\\Emmanuel\\anaconda3\\envs\\P7_py311\\Lib\\site-packages\\sklearn\\utils\\validation.py:2739: UserWarning: X does not have valid feature names, but LGBMClassifier was fitted with feature names\n",
      "  warnings.warn(\n"
     ]
    },
    {
     "name": "stdout",
     "output_type": "stream",
     "text": [
      "[LightGBM] [Info] Number of positive: 150764, number of negative: 150764\n",
      "[LightGBM] [Info] Auto-choosing col-wise multi-threading, the overhead of testing was 1.999409 seconds.\n",
      "You can set `force_col_wise=true` to remove the overhead.\n",
      "[LightGBM] [Info] Total Bins 175512\n",
      "[LightGBM] [Info] Number of data points in the train set: 301528, number of used features: 742\n",
      "[LightGBM] [Info] [binary:BoostFromScore]: pavg=0.500000 -> initscore=0.000000\n"
     ]
    },
    {
     "name": "stderr",
     "output_type": "stream",
     "text": [
      "C:\\Users\\Emmanuel\\anaconda3\\envs\\P7_py311\\Lib\\site-packages\\sklearn\\utils\\validation.py:2739: UserWarning: X does not have valid feature names, but LGBMClassifier was fitted with feature names\n",
      "  warnings.warn(\n"
     ]
    },
    {
     "name": "stdout",
     "output_type": "stream",
     "text": [
      "[LightGBM] [Info] Number of positive: 226145, number of negative: 226145\n",
      "[LightGBM] [Info] Auto-choosing col-wise multi-threading, the overhead of testing was 2.688693 seconds.\n",
      "You can set `force_col_wise=true` to remove the overhead.\n",
      "[LightGBM] [Info] Total Bins 175425\n",
      "[LightGBM] [Info] Number of data points in the train set: 452290, number of used features: 743\n",
      "[LightGBM] [Info] [binary:BoostFromScore]: pavg=0.500000 -> initscore=0.000000\n",
      "Meilleurs paramètres trouvés : {'lgbm__min_child_samples': 20}\n"
     ]
    }
   ],
   "source": [
    "# Effectuer la recherche d'hyperparamètres\n",
    "grid_search.fit(X_train, y_train)\n",
    "\n",
    "# Afficher les meilleurs paramètres\n",
    "print(\"Meilleurs paramètres trouvés :\", grid_search.best_params_)\n"
   ]
  },
  {
   "cell_type": "code",
   "execution_count": 41,
   "id": "d09d2ee0-d416-447b-8921-3142c9f2f93d",
   "metadata": {},
   "outputs": [],
   "source": [
    "param_grid.update(grid_search.best_params_)"
   ]
  },
  {
   "cell_type": "code",
   "execution_count": 42,
   "id": "25d63ea8-cbaf-420f-97c2-4b8a8eaf5c23",
   "metadata": {
    "scrolled": true
   },
   "outputs": [
    {
     "data": {
      "text/plain": [
       "{'lgbm__learning_rate': 0.1,\n",
       " 'lgbm__num_leaves': 50,\n",
       " 'lgbm__max_depth': 20,\n",
       " 'lgbm__min_child_samples': 20,\n",
       " 'lgbm__feature_fraction': [0.8, 1.0],\n",
       " 'lgbm__bagging_fraction': [0.8, 1.0],\n",
       " 'lgbm__bagging_freq': [5, 10],\n",
       " 'lgbm__reg_alpha': [0.1, 0.5],\n",
       " 'lgbm__reg_lambda': [0.1, 0.5],\n",
       " 'lgbm__scale_pos_weight': [1, 10]}"
      ]
     },
     "execution_count": 42,
     "metadata": {},
     "output_type": "execute_result"
    }
   ],
   "source": [
    "param_grid"
   ]
  },
  {
   "cell_type": "markdown",
   "id": "d219bb20-1391-471e-acbe-4bb50fd6c814",
   "metadata": {},
   "source": [
    "#### bagging fraction"
   ]
  },
  {
   "cell_type": "code",
   "execution_count": 43,
   "id": "2a742102-4510-4627-82b0-03de75ccf60a",
   "metadata": {},
   "outputs": [],
   "source": [
    "param_grid_bf = {\n",
    "    'lgbm__bagging_fraction': [0.8, 1.0]\n",
    "}"
   ]
  },
  {
   "cell_type": "code",
   "execution_count": 44,
   "id": "965c1206-4bc6-4dcd-9e86-052db5d10f43",
   "metadata": {},
   "outputs": [],
   "source": [
    "\n",
    "\n",
    "# Configurer GridSearchCV\n",
    "grid_search = GridSearchCV(pipeline, param_grid_bf, cv=3, scoring='roc_auc', n_jobs=1)\n"
   ]
  },
  {
   "cell_type": "code",
   "execution_count": 45,
   "id": "0856aa12-20d2-4fa8-bd19-bc273c519b86",
   "metadata": {},
   "outputs": [
    {
     "name": "stdout",
     "output_type": "stream",
     "text": [
      "[LightGBM] [Warning] bagging_fraction is set=0.8, subsample=1.0 will be ignored. Current value: bagging_fraction=0.8\n",
      "[LightGBM] [Warning] bagging_fraction is set=0.8, subsample=1.0 will be ignored. Current value: bagging_fraction=0.8\n",
      "[LightGBM] [Info] Number of positive: 150763, number of negative: 150763\n",
      "[LightGBM] [Info] Auto-choosing col-wise multi-threading, the overhead of testing was 1.821080 seconds.\n",
      "You can set `force_col_wise=true` to remove the overhead.\n",
      "[LightGBM] [Info] Total Bins 175552\n",
      "[LightGBM] [Info] Number of data points in the train set: 301526, number of used features: 742\n",
      "[LightGBM] [Info] [binary:BoostFromScore]: pavg=0.500000 -> initscore=0.000000\n"
     ]
    },
    {
     "name": "stderr",
     "output_type": "stream",
     "text": [
      "C:\\Users\\Emmanuel\\anaconda3\\envs\\P7_py311\\Lib\\site-packages\\sklearn\\utils\\validation.py:2739: UserWarning: X does not have valid feature names, but LGBMClassifier was fitted with feature names\n",
      "  warnings.warn(\n"
     ]
    },
    {
     "name": "stdout",
     "output_type": "stream",
     "text": [
      "[LightGBM] [Warning] bagging_fraction is set=0.8, subsample=1.0 will be ignored. Current value: bagging_fraction=0.8\n",
      "[LightGBM] [Warning] bagging_fraction is set=0.8, subsample=1.0 will be ignored. Current value: bagging_fraction=0.8\n",
      "[LightGBM] [Warning] bagging_fraction is set=0.8, subsample=1.0 will be ignored. Current value: bagging_fraction=0.8\n",
      "[LightGBM] [Info] Number of positive: 150763, number of negative: 150763\n",
      "[LightGBM] [Info] Auto-choosing col-wise multi-threading, the overhead of testing was 1.926728 seconds.\n",
      "You can set `force_col_wise=true` to remove the overhead.\n",
      "[LightGBM] [Info] Total Bins 175680\n",
      "[LightGBM] [Info] Number of data points in the train set: 301526, number of used features: 743\n",
      "[LightGBM] [Info] [binary:BoostFromScore]: pavg=0.500000 -> initscore=0.000000\n"
     ]
    },
    {
     "name": "stderr",
     "output_type": "stream",
     "text": [
      "C:\\Users\\Emmanuel\\anaconda3\\envs\\P7_py311\\Lib\\site-packages\\sklearn\\utils\\validation.py:2739: UserWarning: X does not have valid feature names, but LGBMClassifier was fitted with feature names\n",
      "  warnings.warn(\n"
     ]
    },
    {
     "name": "stdout",
     "output_type": "stream",
     "text": [
      "[LightGBM] [Warning] bagging_fraction is set=0.8, subsample=1.0 will be ignored. Current value: bagging_fraction=0.8\n",
      "[LightGBM] [Warning] bagging_fraction is set=0.8, subsample=1.0 will be ignored. Current value: bagging_fraction=0.8\n",
      "[LightGBM] [Warning] bagging_fraction is set=0.8, subsample=1.0 will be ignored. Current value: bagging_fraction=0.8\n",
      "[LightGBM] [Info] Number of positive: 150764, number of negative: 150764\n",
      "[LightGBM] [Info] Auto-choosing col-wise multi-threading, the overhead of testing was 1.759167 seconds.\n",
      "You can set `force_col_wise=true` to remove the overhead.\n",
      "[LightGBM] [Info] Total Bins 175516\n",
      "[LightGBM] [Info] Number of data points in the train set: 301528, number of used features: 743\n",
      "[LightGBM] [Info] [binary:BoostFromScore]: pavg=0.500000 -> initscore=0.000000\n"
     ]
    },
    {
     "name": "stderr",
     "output_type": "stream",
     "text": [
      "C:\\Users\\Emmanuel\\anaconda3\\envs\\P7_py311\\Lib\\site-packages\\sklearn\\utils\\validation.py:2739: UserWarning: X does not have valid feature names, but LGBMClassifier was fitted with feature names\n",
      "  warnings.warn(\n"
     ]
    },
    {
     "name": "stdout",
     "output_type": "stream",
     "text": [
      "[LightGBM] [Warning] bagging_fraction is set=0.8, subsample=1.0 will be ignored. Current value: bagging_fraction=0.8\n",
      "[LightGBM] [Warning] bagging_fraction is set=1.0, subsample=1.0 will be ignored. Current value: bagging_fraction=1.0\n",
      "[LightGBM] [Warning] bagging_fraction is set=1.0, subsample=1.0 will be ignored. Current value: bagging_fraction=1.0\n",
      "[LightGBM] [Info] Number of positive: 150763, number of negative: 150763\n",
      "[LightGBM] [Info] Auto-choosing col-wise multi-threading, the overhead of testing was 1.863336 seconds.\n",
      "You can set `force_col_wise=true` to remove the overhead.\n",
      "[LightGBM] [Info] Total Bins 175552\n",
      "[LightGBM] [Info] Number of data points in the train set: 301526, number of used features: 742\n",
      "[LightGBM] [Info] [binary:BoostFromScore]: pavg=0.500000 -> initscore=0.000000\n"
     ]
    },
    {
     "name": "stderr",
     "output_type": "stream",
     "text": [
      "C:\\Users\\Emmanuel\\anaconda3\\envs\\P7_py311\\Lib\\site-packages\\sklearn\\utils\\validation.py:2739: UserWarning: X does not have valid feature names, but LGBMClassifier was fitted with feature names\n",
      "  warnings.warn(\n"
     ]
    },
    {
     "name": "stdout",
     "output_type": "stream",
     "text": [
      "[LightGBM] [Warning] bagging_fraction is set=1.0, subsample=1.0 will be ignored. Current value: bagging_fraction=1.0\n",
      "[LightGBM] [Warning] bagging_fraction is set=1.0, subsample=1.0 will be ignored. Current value: bagging_fraction=1.0\n",
      "[LightGBM] [Warning] bagging_fraction is set=1.0, subsample=1.0 will be ignored. Current value: bagging_fraction=1.0\n",
      "[LightGBM] [Info] Number of positive: 150763, number of negative: 150763\n",
      "[LightGBM] [Info] Auto-choosing col-wise multi-threading, the overhead of testing was 1.887531 seconds.\n",
      "You can set `force_col_wise=true` to remove the overhead.\n",
      "[LightGBM] [Info] Total Bins 175680\n",
      "[LightGBM] [Info] Number of data points in the train set: 301526, number of used features: 743\n",
      "[LightGBM] [Info] [binary:BoostFromScore]: pavg=0.500000 -> initscore=0.000000\n"
     ]
    },
    {
     "name": "stderr",
     "output_type": "stream",
     "text": [
      "C:\\Users\\Emmanuel\\anaconda3\\envs\\P7_py311\\Lib\\site-packages\\sklearn\\utils\\validation.py:2739: UserWarning: X does not have valid feature names, but LGBMClassifier was fitted with feature names\n",
      "  warnings.warn(\n"
     ]
    },
    {
     "name": "stdout",
     "output_type": "stream",
     "text": [
      "[LightGBM] [Warning] bagging_fraction is set=1.0, subsample=1.0 will be ignored. Current value: bagging_fraction=1.0\n",
      "[LightGBM] [Warning] bagging_fraction is set=1.0, subsample=1.0 will be ignored. Current value: bagging_fraction=1.0\n",
      "[LightGBM] [Warning] bagging_fraction is set=1.0, subsample=1.0 will be ignored. Current value: bagging_fraction=1.0\n",
      "[LightGBM] [Info] Number of positive: 150764, number of negative: 150764\n",
      "[LightGBM] [Info] Auto-choosing col-wise multi-threading, the overhead of testing was 1.961712 seconds.\n",
      "You can set `force_col_wise=true` to remove the overhead.\n",
      "[LightGBM] [Info] Total Bins 175516\n",
      "[LightGBM] [Info] Number of data points in the train set: 301528, number of used features: 743\n",
      "[LightGBM] [Info] [binary:BoostFromScore]: pavg=0.500000 -> initscore=0.000000\n"
     ]
    },
    {
     "name": "stderr",
     "output_type": "stream",
     "text": [
      "C:\\Users\\Emmanuel\\anaconda3\\envs\\P7_py311\\Lib\\site-packages\\sklearn\\utils\\validation.py:2739: UserWarning: X does not have valid feature names, but LGBMClassifier was fitted with feature names\n",
      "  warnings.warn(\n"
     ]
    },
    {
     "name": "stdout",
     "output_type": "stream",
     "text": [
      "[LightGBM] [Warning] bagging_fraction is set=1.0, subsample=1.0 will be ignored. Current value: bagging_fraction=1.0\n",
      "[LightGBM] [Warning] bagging_fraction is set=0.8, subsample=1.0 will be ignored. Current value: bagging_fraction=0.8\n",
      "[LightGBM] [Warning] bagging_fraction is set=0.8, subsample=1.0 will be ignored. Current value: bagging_fraction=0.8\n",
      "[LightGBM] [Info] Number of positive: 226145, number of negative: 226145\n",
      "[LightGBM] [Info] Auto-choosing col-wise multi-threading, the overhead of testing was 2.557558 seconds.\n",
      "You can set `force_col_wise=true` to remove the overhead.\n",
      "[LightGBM] [Info] Total Bins 175425\n",
      "[LightGBM] [Info] Number of data points in the train set: 452290, number of used features: 743\n",
      "[LightGBM] [Info] [binary:BoostFromScore]: pavg=0.500000 -> initscore=0.000000\n",
      "Meilleurs paramètres trouvés : {'lgbm__bagging_fraction': 0.8}\n"
     ]
    }
   ],
   "source": [
    "# Effectuer la recherche d'hyperparamètres\n",
    "grid_search.fit(X_train, y_train)\n",
    "\n",
    "# Afficher les meilleurs paramètres\n",
    "print(\"Meilleurs paramètres trouvés :\", grid_search.best_params_)\n"
   ]
  },
  {
   "cell_type": "code",
   "execution_count": 46,
   "id": "b737fe12-c4ad-4980-ad24-259376046449",
   "metadata": {},
   "outputs": [],
   "source": [
    "param_grid.update(grid_search.best_params_)"
   ]
  },
  {
   "cell_type": "code",
   "execution_count": 47,
   "id": "5d9bb173-b2b6-4de1-8445-cc646d4379d9",
   "metadata": {
    "scrolled": true
   },
   "outputs": [
    {
     "data": {
      "text/plain": [
       "{'lgbm__learning_rate': 0.1,\n",
       " 'lgbm__num_leaves': 50,\n",
       " 'lgbm__max_depth': 20,\n",
       " 'lgbm__min_child_samples': 20,\n",
       " 'lgbm__feature_fraction': [0.8, 1.0],\n",
       " 'lgbm__bagging_fraction': 0.8,\n",
       " 'lgbm__bagging_freq': [5, 10],\n",
       " 'lgbm__reg_alpha': [0.1, 0.5],\n",
       " 'lgbm__reg_lambda': [0.1, 0.5],\n",
       " 'lgbm__scale_pos_weight': [1, 10]}"
      ]
     },
     "execution_count": 47,
     "metadata": {},
     "output_type": "execute_result"
    }
   ],
   "source": [
    "param_grid"
   ]
  },
  {
   "cell_type": "markdown",
   "id": "756ab835-8a63-4008-8a69-1576107d442d",
   "metadata": {},
   "source": [
    "#### feature fraction"
   ]
  },
  {
   "cell_type": "code",
   "execution_count": 48,
   "id": "630626cf-5986-46fc-a6d8-1f1e676bc75f",
   "metadata": {},
   "outputs": [],
   "source": [
    "param_grid_ff = {\n",
    "    'lgbm__feature_fraction': [0.8, 1.0]\n",
    "}"
   ]
  },
  {
   "cell_type": "code",
   "execution_count": 49,
   "id": "88b81e02-47e3-4794-b6b0-cd31c62cd7e4",
   "metadata": {},
   "outputs": [],
   "source": [
    "\n",
    "\n",
    "# Configurer GridSearchCV\n",
    "grid_search = GridSearchCV(pipeline, param_grid_ff, cv=3, scoring='roc_auc', n_jobs=1)\n"
   ]
  },
  {
   "cell_type": "code",
   "execution_count": 50,
   "id": "baef3639-0bad-4e5c-b025-b4dc4869a6e9",
   "metadata": {},
   "outputs": [
    {
     "name": "stdout",
     "output_type": "stream",
     "text": [
      "[LightGBM] [Warning] feature_fraction is set=0.8, colsample_bytree=1.0 will be ignored. Current value: feature_fraction=0.8\n",
      "[LightGBM] [Warning] feature_fraction is set=0.8, colsample_bytree=1.0 will be ignored. Current value: feature_fraction=0.8\n",
      "[LightGBM] [Info] Number of positive: 150763, number of negative: 150763\n",
      "[LightGBM] [Info] Auto-choosing col-wise multi-threading, the overhead of testing was 1.814112 seconds.\n",
      "You can set `force_col_wise=true` to remove the overhead.\n",
      "[LightGBM] [Info] Total Bins 175552\n",
      "[LightGBM] [Info] Number of data points in the train set: 301526, number of used features: 742\n",
      "[LightGBM] [Info] [binary:BoostFromScore]: pavg=0.500000 -> initscore=0.000000\n"
     ]
    },
    {
     "name": "stderr",
     "output_type": "stream",
     "text": [
      "C:\\Users\\Emmanuel\\anaconda3\\envs\\P7_py311\\Lib\\site-packages\\sklearn\\utils\\validation.py:2739: UserWarning: X does not have valid feature names, but LGBMClassifier was fitted with feature names\n",
      "  warnings.warn(\n"
     ]
    },
    {
     "name": "stdout",
     "output_type": "stream",
     "text": [
      "[LightGBM] [Warning] feature_fraction is set=0.8, colsample_bytree=1.0 will be ignored. Current value: feature_fraction=0.8\n",
      "[LightGBM] [Warning] feature_fraction is set=0.8, colsample_bytree=1.0 will be ignored. Current value: feature_fraction=0.8\n",
      "[LightGBM] [Warning] feature_fraction is set=0.8, colsample_bytree=1.0 will be ignored. Current value: feature_fraction=0.8\n",
      "[LightGBM] [Info] Number of positive: 150763, number of negative: 150763\n",
      "[LightGBM] [Info] Auto-choosing col-wise multi-threading, the overhead of testing was 1.702531 seconds.\n",
      "You can set `force_col_wise=true` to remove the overhead.\n",
      "[LightGBM] [Info] Total Bins 175680\n",
      "[LightGBM] [Info] Number of data points in the train set: 301526, number of used features: 743\n",
      "[LightGBM] [Info] [binary:BoostFromScore]: pavg=0.500000 -> initscore=0.000000\n"
     ]
    },
    {
     "name": "stderr",
     "output_type": "stream",
     "text": [
      "C:\\Users\\Emmanuel\\anaconda3\\envs\\P7_py311\\Lib\\site-packages\\sklearn\\utils\\validation.py:2739: UserWarning: X does not have valid feature names, but LGBMClassifier was fitted with feature names\n",
      "  warnings.warn(\n"
     ]
    },
    {
     "name": "stdout",
     "output_type": "stream",
     "text": [
      "[LightGBM] [Warning] feature_fraction is set=0.8, colsample_bytree=1.0 will be ignored. Current value: feature_fraction=0.8\n",
      "[LightGBM] [Warning] feature_fraction is set=0.8, colsample_bytree=1.0 will be ignored. Current value: feature_fraction=0.8\n",
      "[LightGBM] [Warning] feature_fraction is set=0.8, colsample_bytree=1.0 will be ignored. Current value: feature_fraction=0.8\n",
      "[LightGBM] [Info] Number of positive: 150764, number of negative: 150764\n",
      "[LightGBM] [Info] Auto-choosing col-wise multi-threading, the overhead of testing was 1.955420 seconds.\n",
      "You can set `force_col_wise=true` to remove the overhead.\n",
      "[LightGBM] [Info] Total Bins 175516\n",
      "[LightGBM] [Info] Number of data points in the train set: 301528, number of used features: 743\n",
      "[LightGBM] [Info] [binary:BoostFromScore]: pavg=0.500000 -> initscore=0.000000\n"
     ]
    },
    {
     "name": "stderr",
     "output_type": "stream",
     "text": [
      "C:\\Users\\Emmanuel\\anaconda3\\envs\\P7_py311\\Lib\\site-packages\\sklearn\\utils\\validation.py:2739: UserWarning: X does not have valid feature names, but LGBMClassifier was fitted with feature names\n",
      "  warnings.warn(\n"
     ]
    },
    {
     "name": "stdout",
     "output_type": "stream",
     "text": [
      "[LightGBM] [Warning] feature_fraction is set=0.8, colsample_bytree=1.0 will be ignored. Current value: feature_fraction=0.8\n",
      "[LightGBM] [Warning] feature_fraction is set=1.0, colsample_bytree=1.0 will be ignored. Current value: feature_fraction=1.0\n",
      "[LightGBM] [Warning] feature_fraction is set=1.0, colsample_bytree=1.0 will be ignored. Current value: feature_fraction=1.0\n",
      "[LightGBM] [Info] Number of positive: 150763, number of negative: 150763\n",
      "[LightGBM] [Info] Auto-choosing col-wise multi-threading, the overhead of testing was 1.857167 seconds.\n",
      "You can set `force_col_wise=true` to remove the overhead.\n",
      "[LightGBM] [Info] Total Bins 175552\n",
      "[LightGBM] [Info] Number of data points in the train set: 301526, number of used features: 742\n",
      "[LightGBM] [Info] [binary:BoostFromScore]: pavg=0.500000 -> initscore=0.000000\n"
     ]
    },
    {
     "name": "stderr",
     "output_type": "stream",
     "text": [
      "C:\\Users\\Emmanuel\\anaconda3\\envs\\P7_py311\\Lib\\site-packages\\sklearn\\utils\\validation.py:2739: UserWarning: X does not have valid feature names, but LGBMClassifier was fitted with feature names\n",
      "  warnings.warn(\n"
     ]
    },
    {
     "name": "stdout",
     "output_type": "stream",
     "text": [
      "[LightGBM] [Warning] feature_fraction is set=1.0, colsample_bytree=1.0 will be ignored. Current value: feature_fraction=1.0\n",
      "[LightGBM] [Warning] feature_fraction is set=1.0, colsample_bytree=1.0 will be ignored. Current value: feature_fraction=1.0\n",
      "[LightGBM] [Warning] feature_fraction is set=1.0, colsample_bytree=1.0 will be ignored. Current value: feature_fraction=1.0\n",
      "[LightGBM] [Info] Number of positive: 150763, number of negative: 150763\n",
      "[LightGBM] [Info] Auto-choosing col-wise multi-threading, the overhead of testing was 1.775891 seconds.\n",
      "You can set `force_col_wise=true` to remove the overhead.\n",
      "[LightGBM] [Info] Total Bins 175680\n",
      "[LightGBM] [Info] Number of data points in the train set: 301526, number of used features: 743\n",
      "[LightGBM] [Info] [binary:BoostFromScore]: pavg=0.500000 -> initscore=0.000000\n"
     ]
    },
    {
     "name": "stderr",
     "output_type": "stream",
     "text": [
      "C:\\Users\\Emmanuel\\anaconda3\\envs\\P7_py311\\Lib\\site-packages\\sklearn\\utils\\validation.py:2739: UserWarning: X does not have valid feature names, but LGBMClassifier was fitted with feature names\n",
      "  warnings.warn(\n"
     ]
    },
    {
     "name": "stdout",
     "output_type": "stream",
     "text": [
      "[LightGBM] [Warning] feature_fraction is set=1.0, colsample_bytree=1.0 will be ignored. Current value: feature_fraction=1.0\n",
      "[LightGBM] [Warning] feature_fraction is set=1.0, colsample_bytree=1.0 will be ignored. Current value: feature_fraction=1.0\n",
      "[LightGBM] [Warning] feature_fraction is set=1.0, colsample_bytree=1.0 will be ignored. Current value: feature_fraction=1.0\n",
      "[LightGBM] [Info] Number of positive: 150764, number of negative: 150764\n",
      "[LightGBM] [Info] Auto-choosing col-wise multi-threading, the overhead of testing was 1.819095 seconds.\n",
      "You can set `force_col_wise=true` to remove the overhead.\n",
      "[LightGBM] [Info] Total Bins 175516\n",
      "[LightGBM] [Info] Number of data points in the train set: 301528, number of used features: 743\n",
      "[LightGBM] [Info] [binary:BoostFromScore]: pavg=0.500000 -> initscore=0.000000\n"
     ]
    },
    {
     "name": "stderr",
     "output_type": "stream",
     "text": [
      "C:\\Users\\Emmanuel\\anaconda3\\envs\\P7_py311\\Lib\\site-packages\\sklearn\\utils\\validation.py:2739: UserWarning: X does not have valid feature names, but LGBMClassifier was fitted with feature names\n",
      "  warnings.warn(\n"
     ]
    },
    {
     "name": "stdout",
     "output_type": "stream",
     "text": [
      "[LightGBM] [Warning] feature_fraction is set=1.0, colsample_bytree=1.0 will be ignored. Current value: feature_fraction=1.0\n",
      "[LightGBM] [Warning] feature_fraction is set=1.0, colsample_bytree=1.0 will be ignored. Current value: feature_fraction=1.0\n",
      "[LightGBM] [Warning] feature_fraction is set=1.0, colsample_bytree=1.0 will be ignored. Current value: feature_fraction=1.0\n",
      "[LightGBM] [Info] Number of positive: 226145, number of negative: 226145\n",
      "[LightGBM] [Info] Auto-choosing col-wise multi-threading, the overhead of testing was 2.624723 seconds.\n",
      "You can set `force_col_wise=true` to remove the overhead.\n",
      "[LightGBM] [Info] Total Bins 175425\n",
      "[LightGBM] [Info] Number of data points in the train set: 452290, number of used features: 743\n",
      "[LightGBM] [Info] [binary:BoostFromScore]: pavg=0.500000 -> initscore=0.000000\n",
      "Meilleurs paramètres trouvés : {'lgbm__feature_fraction': 1.0}\n"
     ]
    }
   ],
   "source": [
    "# Effectuer la recherche d'hyperparamètres\n",
    "grid_search.fit(X_train, y_train)\n",
    "\n",
    "# Afficher les meilleurs paramètres\n",
    "print(\"Meilleurs paramètres trouvés :\", grid_search.best_params_)\n"
   ]
  },
  {
   "cell_type": "code",
   "execution_count": 51,
   "id": "afeab440-094e-48ce-ae5b-d35261c4d569",
   "metadata": {},
   "outputs": [],
   "source": [
    "param_grid.update(grid_search.best_params_)"
   ]
  },
  {
   "cell_type": "code",
   "execution_count": 52,
   "id": "bec07f84-f733-49c4-81bc-f50104d752da",
   "metadata": {
    "scrolled": true
   },
   "outputs": [
    {
     "data": {
      "text/plain": [
       "{'lgbm__learning_rate': 0.1,\n",
       " 'lgbm__num_leaves': 50,\n",
       " 'lgbm__max_depth': 20,\n",
       " 'lgbm__min_child_samples': 20,\n",
       " 'lgbm__feature_fraction': 1.0,\n",
       " 'lgbm__bagging_fraction': 0.8,\n",
       " 'lgbm__bagging_freq': [5, 10],\n",
       " 'lgbm__reg_alpha': [0.1, 0.5],\n",
       " 'lgbm__reg_lambda': [0.1, 0.5],\n",
       " 'lgbm__scale_pos_weight': [1, 10]}"
      ]
     },
     "execution_count": 52,
     "metadata": {},
     "output_type": "execute_result"
    }
   ],
   "source": [
    "param_grid"
   ]
  },
  {
   "cell_type": "markdown",
   "id": "3f6f7fc3-d4dd-4c12-8e3c-e51d83a393d5",
   "metadata": {},
   "source": [
    "#### bagging freq"
   ]
  },
  {
   "cell_type": "code",
   "execution_count": 53,
   "id": "3a5326ab-8547-4563-a516-44bb2f2ca615",
   "metadata": {},
   "outputs": [],
   "source": [
    "param_grid_bfr = {\n",
    "    'lgbm__bagging_freq': [5, 10]\n",
    "}"
   ]
  },
  {
   "cell_type": "code",
   "execution_count": 54,
   "id": "2cfab519-b9ee-48c5-aa4e-e4c73dc6caaa",
   "metadata": {},
   "outputs": [],
   "source": [
    "\n",
    "\n",
    "# Configurer GridSearchCV\n",
    "grid_search = GridSearchCV(pipeline, param_grid_bfr, cv=3, scoring='roc_auc', n_jobs=1)\n"
   ]
  },
  {
   "cell_type": "code",
   "execution_count": 55,
   "id": "050bdbb9-bed8-47ac-845a-fd2c9c6e7a98",
   "metadata": {},
   "outputs": [
    {
     "name": "stdout",
     "output_type": "stream",
     "text": [
      "[LightGBM] [Warning] bagging_freq is set=5, subsample_freq=0 will be ignored. Current value: bagging_freq=5\n",
      "[LightGBM] [Warning] bagging_freq is set=5, subsample_freq=0 will be ignored. Current value: bagging_freq=5\n",
      "[LightGBM] [Info] Number of positive: 150763, number of negative: 150763\n",
      "[LightGBM] [Info] Auto-choosing col-wise multi-threading, the overhead of testing was 1.712294 seconds.\n",
      "You can set `force_col_wise=true` to remove the overhead.\n",
      "[LightGBM] [Info] Total Bins 175552\n",
      "[LightGBM] [Info] Number of data points in the train set: 301526, number of used features: 742\n",
      "[LightGBM] [Info] [binary:BoostFromScore]: pavg=0.500000 -> initscore=0.000000\n"
     ]
    },
    {
     "name": "stderr",
     "output_type": "stream",
     "text": [
      "C:\\Users\\Emmanuel\\anaconda3\\envs\\P7_py311\\Lib\\site-packages\\sklearn\\utils\\validation.py:2739: UserWarning: X does not have valid feature names, but LGBMClassifier was fitted with feature names\n",
      "  warnings.warn(\n"
     ]
    },
    {
     "name": "stdout",
     "output_type": "stream",
     "text": [
      "[LightGBM] [Warning] bagging_freq is set=5, subsample_freq=0 will be ignored. Current value: bagging_freq=5\n",
      "[LightGBM] [Warning] bagging_freq is set=5, subsample_freq=0 will be ignored. Current value: bagging_freq=5\n",
      "[LightGBM] [Warning] bagging_freq is set=5, subsample_freq=0 will be ignored. Current value: bagging_freq=5\n",
      "[LightGBM] [Info] Number of positive: 150763, number of negative: 150763\n",
      "[LightGBM] [Info] Auto-choosing col-wise multi-threading, the overhead of testing was 1.835295 seconds.\n",
      "You can set `force_col_wise=true` to remove the overhead.\n",
      "[LightGBM] [Info] Total Bins 175680\n",
      "[LightGBM] [Info] Number of data points in the train set: 301526, number of used features: 743\n",
      "[LightGBM] [Info] [binary:BoostFromScore]: pavg=0.500000 -> initscore=0.000000\n"
     ]
    },
    {
     "name": "stderr",
     "output_type": "stream",
     "text": [
      "C:\\Users\\Emmanuel\\anaconda3\\envs\\P7_py311\\Lib\\site-packages\\sklearn\\utils\\validation.py:2739: UserWarning: X does not have valid feature names, but LGBMClassifier was fitted with feature names\n",
      "  warnings.warn(\n"
     ]
    },
    {
     "name": "stdout",
     "output_type": "stream",
     "text": [
      "[LightGBM] [Warning] bagging_freq is set=5, subsample_freq=0 will be ignored. Current value: bagging_freq=5\n",
      "[LightGBM] [Warning] bagging_freq is set=5, subsample_freq=0 will be ignored. Current value: bagging_freq=5\n",
      "[LightGBM] [Warning] bagging_freq is set=5, subsample_freq=0 will be ignored. Current value: bagging_freq=5\n",
      "[LightGBM] [Info] Number of positive: 150764, number of negative: 150764\n",
      "[LightGBM] [Info] Auto-choosing col-wise multi-threading, the overhead of testing was 1.949047 seconds.\n",
      "You can set `force_col_wise=true` to remove the overhead.\n",
      "[LightGBM] [Info] Total Bins 175516\n",
      "[LightGBM] [Info] Number of data points in the train set: 301528, number of used features: 743\n",
      "[LightGBM] [Info] [binary:BoostFromScore]: pavg=0.500000 -> initscore=0.000000\n"
     ]
    },
    {
     "name": "stderr",
     "output_type": "stream",
     "text": [
      "C:\\Users\\Emmanuel\\anaconda3\\envs\\P7_py311\\Lib\\site-packages\\sklearn\\utils\\validation.py:2739: UserWarning: X does not have valid feature names, but LGBMClassifier was fitted with feature names\n",
      "  warnings.warn(\n"
     ]
    },
    {
     "name": "stdout",
     "output_type": "stream",
     "text": [
      "[LightGBM] [Warning] bagging_freq is set=5, subsample_freq=0 will be ignored. Current value: bagging_freq=5\n",
      "[LightGBM] [Warning] bagging_freq is set=10, subsample_freq=0 will be ignored. Current value: bagging_freq=10\n",
      "[LightGBM] [Warning] bagging_freq is set=10, subsample_freq=0 will be ignored. Current value: bagging_freq=10\n",
      "[LightGBM] [Info] Number of positive: 150763, number of negative: 150763\n",
      "[LightGBM] [Info] Auto-choosing col-wise multi-threading, the overhead of testing was 1.892335 seconds.\n",
      "You can set `force_col_wise=true` to remove the overhead.\n",
      "[LightGBM] [Info] Total Bins 175552\n",
      "[LightGBM] [Info] Number of data points in the train set: 301526, number of used features: 742\n",
      "[LightGBM] [Info] [binary:BoostFromScore]: pavg=0.500000 -> initscore=0.000000\n"
     ]
    },
    {
     "name": "stderr",
     "output_type": "stream",
     "text": [
      "C:\\Users\\Emmanuel\\anaconda3\\envs\\P7_py311\\Lib\\site-packages\\sklearn\\utils\\validation.py:2739: UserWarning: X does not have valid feature names, but LGBMClassifier was fitted with feature names\n",
      "  warnings.warn(\n"
     ]
    },
    {
     "name": "stdout",
     "output_type": "stream",
     "text": [
      "[LightGBM] [Warning] bagging_freq is set=10, subsample_freq=0 will be ignored. Current value: bagging_freq=10\n",
      "[LightGBM] [Warning] bagging_freq is set=10, subsample_freq=0 will be ignored. Current value: bagging_freq=10\n",
      "[LightGBM] [Warning] bagging_freq is set=10, subsample_freq=0 will be ignored. Current value: bagging_freq=10\n",
      "[LightGBM] [Info] Number of positive: 150763, number of negative: 150763\n",
      "[LightGBM] [Info] Auto-choosing col-wise multi-threading, the overhead of testing was 1.767888 seconds.\n",
      "You can set `force_col_wise=true` to remove the overhead.\n",
      "[LightGBM] [Info] Total Bins 175680\n",
      "[LightGBM] [Info] Number of data points in the train set: 301526, number of used features: 743\n",
      "[LightGBM] [Info] [binary:BoostFromScore]: pavg=0.500000 -> initscore=0.000000\n"
     ]
    },
    {
     "name": "stderr",
     "output_type": "stream",
     "text": [
      "C:\\Users\\Emmanuel\\anaconda3\\envs\\P7_py311\\Lib\\site-packages\\sklearn\\utils\\validation.py:2739: UserWarning: X does not have valid feature names, but LGBMClassifier was fitted with feature names\n",
      "  warnings.warn(\n"
     ]
    },
    {
     "name": "stdout",
     "output_type": "stream",
     "text": [
      "[LightGBM] [Warning] bagging_freq is set=10, subsample_freq=0 will be ignored. Current value: bagging_freq=10\n",
      "[LightGBM] [Warning] bagging_freq is set=10, subsample_freq=0 will be ignored. Current value: bagging_freq=10\n",
      "[LightGBM] [Warning] bagging_freq is set=10, subsample_freq=0 will be ignored. Current value: bagging_freq=10\n",
      "[LightGBM] [Info] Number of positive: 150764, number of negative: 150764\n",
      "[LightGBM] [Info] Auto-choosing col-wise multi-threading, the overhead of testing was 1.899952 seconds.\n",
      "You can set `force_col_wise=true` to remove the overhead.\n",
      "[LightGBM] [Info] Total Bins 175516\n",
      "[LightGBM] [Info] Number of data points in the train set: 301528, number of used features: 743\n",
      "[LightGBM] [Info] [binary:BoostFromScore]: pavg=0.500000 -> initscore=0.000000\n"
     ]
    },
    {
     "name": "stderr",
     "output_type": "stream",
     "text": [
      "C:\\Users\\Emmanuel\\anaconda3\\envs\\P7_py311\\Lib\\site-packages\\sklearn\\utils\\validation.py:2739: UserWarning: X does not have valid feature names, but LGBMClassifier was fitted with feature names\n",
      "  warnings.warn(\n"
     ]
    },
    {
     "name": "stdout",
     "output_type": "stream",
     "text": [
      "[LightGBM] [Warning] bagging_freq is set=10, subsample_freq=0 will be ignored. Current value: bagging_freq=10\n",
      "[LightGBM] [Warning] bagging_freq is set=5, subsample_freq=0 will be ignored. Current value: bagging_freq=5\n",
      "[LightGBM] [Warning] bagging_freq is set=5, subsample_freq=0 will be ignored. Current value: bagging_freq=5\n",
      "[LightGBM] [Info] Number of positive: 226145, number of negative: 226145\n",
      "[LightGBM] [Info] Auto-choosing col-wise multi-threading, the overhead of testing was 2.820374 seconds.\n",
      "You can set `force_col_wise=true` to remove the overhead.\n",
      "[LightGBM] [Info] Total Bins 175425\n",
      "[LightGBM] [Info] Number of data points in the train set: 452290, number of used features: 743\n",
      "[LightGBM] [Info] [binary:BoostFromScore]: pavg=0.500000 -> initscore=0.000000\n",
      "Meilleurs paramètres trouvés : {'lgbm__bagging_freq': 5}\n"
     ]
    }
   ],
   "source": [
    "# Effectuer la recherche d'hyperparamètres\n",
    "grid_search.fit(X_train, y_train)\n",
    "\n",
    "# Afficher les meilleurs paramètres\n",
    "print(\"Meilleurs paramètres trouvés :\", grid_search.best_params_)\n"
   ]
  },
  {
   "cell_type": "code",
   "execution_count": 56,
   "id": "81b2012a-2971-4bb4-a62f-b7fffa1b9dd4",
   "metadata": {},
   "outputs": [],
   "source": [
    "param_grid.update(grid_search.best_params_)"
   ]
  },
  {
   "cell_type": "code",
   "execution_count": 57,
   "id": "d0007a8f-c6e7-40ce-8fa0-f8bcb6969ae1",
   "metadata": {
    "scrolled": true
   },
   "outputs": [
    {
     "data": {
      "text/plain": [
       "{'lgbm__learning_rate': 0.1,\n",
       " 'lgbm__num_leaves': 50,\n",
       " 'lgbm__max_depth': 20,\n",
       " 'lgbm__min_child_samples': 20,\n",
       " 'lgbm__feature_fraction': 1.0,\n",
       " 'lgbm__bagging_fraction': 0.8,\n",
       " 'lgbm__bagging_freq': 5,\n",
       " 'lgbm__reg_alpha': [0.1, 0.5],\n",
       " 'lgbm__reg_lambda': [0.1, 0.5],\n",
       " 'lgbm__scale_pos_weight': [1, 10]}"
      ]
     },
     "execution_count": 57,
     "metadata": {},
     "output_type": "execute_result"
    }
   ],
   "source": [
    "param_grid"
   ]
  },
  {
   "cell_type": "markdown",
   "id": "6a55381d-16cd-4f4a-aebe-45bdf73bd568",
   "metadata": {},
   "source": [
    "#### reg alpha"
   ]
  },
  {
   "cell_type": "code",
   "execution_count": 58,
   "id": "52e29f2e-1713-43d8-a1df-d5282ef0ba7e",
   "metadata": {},
   "outputs": [],
   "source": [
    "param_grid_ra = {\n",
    "    'lgbm__reg_alpha': [0.1, 0.5]\n",
    "}"
   ]
  },
  {
   "cell_type": "code",
   "execution_count": 59,
   "id": "290eea87-ffb0-4bcc-ab68-2d44cc77b3b3",
   "metadata": {},
   "outputs": [],
   "source": [
    "\n",
    "\n",
    "# Configurer GridSearchCV\n",
    "grid_search = GridSearchCV(pipeline, param_grid_ra, cv=3, scoring='roc_auc', n_jobs=1)\n"
   ]
  },
  {
   "cell_type": "code",
   "execution_count": 60,
   "id": "08c0e820-54dc-49f4-8e60-70754cfb60c8",
   "metadata": {},
   "outputs": [
    {
     "name": "stdout",
     "output_type": "stream",
     "text": [
      "[LightGBM] [Info] Number of positive: 150763, number of negative: 150763\n",
      "[LightGBM] [Info] Auto-choosing col-wise multi-threading, the overhead of testing was 1.857159 seconds.\n",
      "You can set `force_col_wise=true` to remove the overhead.\n",
      "[LightGBM] [Info] Total Bins 175552\n",
      "[LightGBM] [Info] Number of data points in the train set: 301526, number of used features: 742\n",
      "[LightGBM] [Info] [binary:BoostFromScore]: pavg=0.500000 -> initscore=0.000000\n"
     ]
    },
    {
     "name": "stderr",
     "output_type": "stream",
     "text": [
      "C:\\Users\\Emmanuel\\anaconda3\\envs\\P7_py311\\Lib\\site-packages\\sklearn\\utils\\validation.py:2739: UserWarning: X does not have valid feature names, but LGBMClassifier was fitted with feature names\n",
      "  warnings.warn(\n"
     ]
    },
    {
     "name": "stdout",
     "output_type": "stream",
     "text": [
      "[LightGBM] [Info] Number of positive: 150763, number of negative: 150763\n",
      "[LightGBM] [Info] Auto-choosing col-wise multi-threading, the overhead of testing was 1.705844 seconds.\n",
      "You can set `force_col_wise=true` to remove the overhead.\n",
      "[LightGBM] [Info] Total Bins 175680\n",
      "[LightGBM] [Info] Number of data points in the train set: 301526, number of used features: 743\n",
      "[LightGBM] [Info] [binary:BoostFromScore]: pavg=0.500000 -> initscore=0.000000\n"
     ]
    },
    {
     "name": "stderr",
     "output_type": "stream",
     "text": [
      "C:\\Users\\Emmanuel\\anaconda3\\envs\\P7_py311\\Lib\\site-packages\\sklearn\\utils\\validation.py:2739: UserWarning: X does not have valid feature names, but LGBMClassifier was fitted with feature names\n",
      "  warnings.warn(\n"
     ]
    },
    {
     "name": "stdout",
     "output_type": "stream",
     "text": [
      "[LightGBM] [Info] Number of positive: 150764, number of negative: 150764\n",
      "[LightGBM] [Info] Auto-choosing col-wise multi-threading, the overhead of testing was 1.808013 seconds.\n",
      "You can set `force_col_wise=true` to remove the overhead.\n",
      "[LightGBM] [Info] Total Bins 175516\n",
      "[LightGBM] [Info] Number of data points in the train set: 301528, number of used features: 743\n",
      "[LightGBM] [Info] [binary:BoostFromScore]: pavg=0.500000 -> initscore=0.000000\n"
     ]
    },
    {
     "name": "stderr",
     "output_type": "stream",
     "text": [
      "C:\\Users\\Emmanuel\\anaconda3\\envs\\P7_py311\\Lib\\site-packages\\sklearn\\utils\\validation.py:2739: UserWarning: X does not have valid feature names, but LGBMClassifier was fitted with feature names\n",
      "  warnings.warn(\n"
     ]
    },
    {
     "name": "stdout",
     "output_type": "stream",
     "text": [
      "[LightGBM] [Info] Number of positive: 150763, number of negative: 150763\n",
      "[LightGBM] [Info] Auto-choosing col-wise multi-threading, the overhead of testing was 1.754213 seconds.\n",
      "You can set `force_col_wise=true` to remove the overhead.\n",
      "[LightGBM] [Info] Total Bins 175552\n",
      "[LightGBM] [Info] Number of data points in the train set: 301526, number of used features: 742\n",
      "[LightGBM] [Info] [binary:BoostFromScore]: pavg=0.500000 -> initscore=0.000000\n"
     ]
    },
    {
     "name": "stderr",
     "output_type": "stream",
     "text": [
      "C:\\Users\\Emmanuel\\anaconda3\\envs\\P7_py311\\Lib\\site-packages\\sklearn\\utils\\validation.py:2739: UserWarning: X does not have valid feature names, but LGBMClassifier was fitted with feature names\n",
      "  warnings.warn(\n"
     ]
    },
    {
     "name": "stdout",
     "output_type": "stream",
     "text": [
      "[LightGBM] [Info] Number of positive: 150763, number of negative: 150763\n",
      "[LightGBM] [Info] Auto-choosing col-wise multi-threading, the overhead of testing was 1.872654 seconds.\n",
      "You can set `force_col_wise=true` to remove the overhead.\n",
      "[LightGBM] [Info] Total Bins 175680\n",
      "[LightGBM] [Info] Number of data points in the train set: 301526, number of used features: 743\n",
      "[LightGBM] [Info] [binary:BoostFromScore]: pavg=0.500000 -> initscore=0.000000\n"
     ]
    },
    {
     "name": "stderr",
     "output_type": "stream",
     "text": [
      "C:\\Users\\Emmanuel\\anaconda3\\envs\\P7_py311\\Lib\\site-packages\\sklearn\\utils\\validation.py:2739: UserWarning: X does not have valid feature names, but LGBMClassifier was fitted with feature names\n",
      "  warnings.warn(\n"
     ]
    },
    {
     "name": "stdout",
     "output_type": "stream",
     "text": [
      "[LightGBM] [Info] Number of positive: 150764, number of negative: 150764\n",
      "[LightGBM] [Info] Auto-choosing col-wise multi-threading, the overhead of testing was 1.844100 seconds.\n",
      "You can set `force_col_wise=true` to remove the overhead.\n",
      "[LightGBM] [Info] Total Bins 175516\n",
      "[LightGBM] [Info] Number of data points in the train set: 301528, number of used features: 743\n",
      "[LightGBM] [Info] [binary:BoostFromScore]: pavg=0.500000 -> initscore=0.000000\n"
     ]
    },
    {
     "name": "stderr",
     "output_type": "stream",
     "text": [
      "C:\\Users\\Emmanuel\\anaconda3\\envs\\P7_py311\\Lib\\site-packages\\sklearn\\utils\\validation.py:2739: UserWarning: X does not have valid feature names, but LGBMClassifier was fitted with feature names\n",
      "  warnings.warn(\n"
     ]
    },
    {
     "name": "stdout",
     "output_type": "stream",
     "text": [
      "[LightGBM] [Info] Number of positive: 226145, number of negative: 226145\n",
      "[LightGBM] [Info] Auto-choosing col-wise multi-threading, the overhead of testing was 2.565844 seconds.\n",
      "You can set `force_col_wise=true` to remove the overhead.\n",
      "[LightGBM] [Info] Total Bins 175425\n",
      "[LightGBM] [Info] Number of data points in the train set: 452290, number of used features: 743\n",
      "[LightGBM] [Info] [binary:BoostFromScore]: pavg=0.500000 -> initscore=0.000000\n",
      "Meilleurs paramètres trouvés : {'lgbm__reg_alpha': 0.5}\n"
     ]
    }
   ],
   "source": [
    "# Effectuer la recherche d'hyperparamètres\n",
    "grid_search.fit(X_train, y_train)\n",
    "\n",
    "# Afficher les meilleurs paramètres\n",
    "print(\"Meilleurs paramètres trouvés :\", grid_search.best_params_)\n"
   ]
  },
  {
   "cell_type": "code",
   "execution_count": 61,
   "id": "35043219-f19a-48de-8835-e2f90f1c46af",
   "metadata": {},
   "outputs": [],
   "source": [
    "param_grid.update(grid_search.best_params_)"
   ]
  },
  {
   "cell_type": "code",
   "execution_count": 62,
   "id": "254ed2d4-f3be-4ce3-aef3-b95eff71d519",
   "metadata": {
    "scrolled": true
   },
   "outputs": [
    {
     "data": {
      "text/plain": [
       "{'lgbm__learning_rate': 0.1,\n",
       " 'lgbm__num_leaves': 50,\n",
       " 'lgbm__max_depth': 20,\n",
       " 'lgbm__min_child_samples': 20,\n",
       " 'lgbm__feature_fraction': 1.0,\n",
       " 'lgbm__bagging_fraction': 0.8,\n",
       " 'lgbm__bagging_freq': 5,\n",
       " 'lgbm__reg_alpha': 0.5,\n",
       " 'lgbm__reg_lambda': [0.1, 0.5],\n",
       " 'lgbm__scale_pos_weight': [1, 10]}"
      ]
     },
     "execution_count": 62,
     "metadata": {},
     "output_type": "execute_result"
    }
   ],
   "source": [
    "param_grid"
   ]
  },
  {
   "cell_type": "markdown",
   "id": "a4f85088-9d6c-4736-bb5a-ddc8ffc02e64",
   "metadata": {},
   "source": [
    "#### reg lambda"
   ]
  },
  {
   "cell_type": "code",
   "execution_count": 63,
   "id": "9c6f4dc3-b993-4be9-869d-eeac8d457028",
   "metadata": {},
   "outputs": [],
   "source": [
    "param_grid_rl = {\n",
    "    'lgbm__reg_lambda': [0.1, 0.5]\n",
    "}"
   ]
  },
  {
   "cell_type": "code",
   "execution_count": 64,
   "id": "8324fc20-4d57-49ec-a4c3-6d393c7db248",
   "metadata": {},
   "outputs": [],
   "source": [
    "\n",
    "\n",
    "# Configurer GridSearchCV\n",
    "grid_search = GridSearchCV(pipeline, param_grid_rl, cv=3, scoring='roc_auc', n_jobs=2)\n"
   ]
  },
  {
   "cell_type": "code",
   "execution_count": 65,
   "id": "f88124e6-b8c5-4541-937b-952d4f81d72f",
   "metadata": {},
   "outputs": [
    {
     "name": "stdout",
     "output_type": "stream",
     "text": [
      "[LightGBM] [Info] Number of positive: 226145, number of negative: 226145\n",
      "[LightGBM] [Info] Auto-choosing col-wise multi-threading, the overhead of testing was 2.807304 seconds.\n",
      "You can set `force_col_wise=true` to remove the overhead.\n",
      "[LightGBM] [Info] Total Bins 175425\n",
      "[LightGBM] [Info] Number of data points in the train set: 452290, number of used features: 743\n",
      "[LightGBM] [Info] [binary:BoostFromScore]: pavg=0.500000 -> initscore=0.000000\n",
      "Meilleurs paramètres trouvés : {'lgbm__reg_lambda': 0.5}\n"
     ]
    }
   ],
   "source": [
    "# Effectuer la recherche d'hyperparamètres\n",
    "grid_search.fit(X_train, y_train)\n",
    "\n",
    "# Afficher les meilleurs paramètres\n",
    "print(\"Meilleurs paramètres trouvés :\", grid_search.best_params_)\n"
   ]
  },
  {
   "cell_type": "code",
   "execution_count": 66,
   "id": "5b8f3913-f12e-4cb8-aaef-338048b2a337",
   "metadata": {},
   "outputs": [],
   "source": [
    "param_grid.update(grid_search.best_params_)"
   ]
  },
  {
   "cell_type": "code",
   "execution_count": 67,
   "id": "556798e4-3848-4d83-bb24-825028a3aad8",
   "metadata": {
    "scrolled": true
   },
   "outputs": [
    {
     "data": {
      "text/plain": [
       "{'lgbm__learning_rate': 0.1,\n",
       " 'lgbm__num_leaves': 50,\n",
       " 'lgbm__max_depth': 20,\n",
       " 'lgbm__min_child_samples': 20,\n",
       " 'lgbm__feature_fraction': 1.0,\n",
       " 'lgbm__bagging_fraction': 0.8,\n",
       " 'lgbm__bagging_freq': 5,\n",
       " 'lgbm__reg_alpha': 0.5,\n",
       " 'lgbm__reg_lambda': 0.5,\n",
       " 'lgbm__scale_pos_weight': [1, 10]}"
      ]
     },
     "execution_count": 67,
     "metadata": {},
     "output_type": "execute_result"
    }
   ],
   "source": [
    "param_grid"
   ]
  },
  {
   "cell_type": "markdown",
   "id": "fc4a4deb-25cb-4a27-b620-9719687b1f73",
   "metadata": {},
   "source": [
    "#### pos weight"
   ]
  },
  {
   "cell_type": "code",
   "execution_count": 68,
   "id": "388dc731-2d41-4e4e-bbf8-a389bcc35f0f",
   "metadata": {},
   "outputs": [],
   "source": [
    "param_grid_pw = {\n",
    "    'lgbm__scale_pos_weight': [1, 10]\n",
    "}"
   ]
  },
  {
   "cell_type": "code",
   "execution_count": 70,
   "id": "d3167f52-4bf5-4957-bd92-efb8f505d4d0",
   "metadata": {},
   "outputs": [],
   "source": [
    "\n",
    "\n",
    "# Configurer GridSearchCV\n",
    "grid_search = GridSearchCV(pipeline, param_grid_pw, cv=3, scoring='roc_auc', n_jobs=1)\n"
   ]
  },
  {
   "cell_type": "code",
   "execution_count": 71,
   "id": "243cf411-a613-4f61-86ea-02632db32dd8",
   "metadata": {},
   "outputs": [
    {
     "name": "stdout",
     "output_type": "stream",
     "text": [
      "[LightGBM] [Info] Number of positive: 150763, number of negative: 150763\n",
      "[LightGBM] [Info] Auto-choosing col-wise multi-threading, the overhead of testing was 1.892239 seconds.\n",
      "You can set `force_col_wise=true` to remove the overhead.\n",
      "[LightGBM] [Info] Total Bins 175552\n",
      "[LightGBM] [Info] Number of data points in the train set: 301526, number of used features: 742\n",
      "[LightGBM] [Info] [binary:BoostFromScore]: pavg=0.500000 -> initscore=0.000000\n"
     ]
    },
    {
     "name": "stderr",
     "output_type": "stream",
     "text": [
      "C:\\Users\\Emmanuel\\anaconda3\\envs\\P7_py311\\Lib\\site-packages\\sklearn\\utils\\validation.py:2739: UserWarning: X does not have valid feature names, but LGBMClassifier was fitted with feature names\n",
      "  warnings.warn(\n"
     ]
    },
    {
     "name": "stdout",
     "output_type": "stream",
     "text": [
      "[LightGBM] [Info] Number of positive: 150763, number of negative: 150763\n",
      "[LightGBM] [Info] Auto-choosing col-wise multi-threading, the overhead of testing was 1.895866 seconds.\n",
      "You can set `force_col_wise=true` to remove the overhead.\n",
      "[LightGBM] [Info] Total Bins 175680\n",
      "[LightGBM] [Info] Number of data points in the train set: 301526, number of used features: 743\n",
      "[LightGBM] [Info] [binary:BoostFromScore]: pavg=0.500000 -> initscore=0.000000\n"
     ]
    },
    {
     "name": "stderr",
     "output_type": "stream",
     "text": [
      "C:\\Users\\Emmanuel\\anaconda3\\envs\\P7_py311\\Lib\\site-packages\\sklearn\\utils\\validation.py:2739: UserWarning: X does not have valid feature names, but LGBMClassifier was fitted with feature names\n",
      "  warnings.warn(\n"
     ]
    },
    {
     "name": "stdout",
     "output_type": "stream",
     "text": [
      "[LightGBM] [Info] Number of positive: 150764, number of negative: 150764\n",
      "[LightGBM] [Info] Auto-choosing col-wise multi-threading, the overhead of testing was 1.793701 seconds.\n",
      "You can set `force_col_wise=true` to remove the overhead.\n",
      "[LightGBM] [Info] Total Bins 175516\n",
      "[LightGBM] [Info] Number of data points in the train set: 301528, number of used features: 743\n",
      "[LightGBM] [Info] [binary:BoostFromScore]: pavg=0.500000 -> initscore=0.000000\n"
     ]
    },
    {
     "name": "stderr",
     "output_type": "stream",
     "text": [
      "C:\\Users\\Emmanuel\\anaconda3\\envs\\P7_py311\\Lib\\site-packages\\sklearn\\utils\\validation.py:2739: UserWarning: X does not have valid feature names, but LGBMClassifier was fitted with feature names\n",
      "  warnings.warn(\n"
     ]
    },
    {
     "name": "stdout",
     "output_type": "stream",
     "text": [
      "[LightGBM] [Info] Number of positive: 150763, number of negative: 150763\n",
      "[LightGBM] [Info] Auto-choosing col-wise multi-threading, the overhead of testing was 1.683792 seconds.\n",
      "You can set `force_col_wise=true` to remove the overhead.\n",
      "[LightGBM] [Info] Total Bins 175552\n",
      "[LightGBM] [Info] Number of data points in the train set: 301526, number of used features: 742\n",
      "[LightGBM] [Info] [binary:BoostFromScore]: pavg=0.500000 -> initscore=0.000000\n"
     ]
    },
    {
     "name": "stderr",
     "output_type": "stream",
     "text": [
      "C:\\Users\\Emmanuel\\anaconda3\\envs\\P7_py311\\Lib\\site-packages\\sklearn\\utils\\validation.py:2739: UserWarning: X does not have valid feature names, but LGBMClassifier was fitted with feature names\n",
      "  warnings.warn(\n"
     ]
    },
    {
     "name": "stdout",
     "output_type": "stream",
     "text": [
      "[LightGBM] [Info] Number of positive: 150763, number of negative: 150763\n",
      "[LightGBM] [Info] Auto-choosing col-wise multi-threading, the overhead of testing was 1.741242 seconds.\n",
      "You can set `force_col_wise=true` to remove the overhead.\n",
      "[LightGBM] [Info] Total Bins 175680\n",
      "[LightGBM] [Info] Number of data points in the train set: 301526, number of used features: 743\n",
      "[LightGBM] [Info] [binary:BoostFromScore]: pavg=0.500000 -> initscore=0.000000\n"
     ]
    },
    {
     "name": "stderr",
     "output_type": "stream",
     "text": [
      "C:\\Users\\Emmanuel\\anaconda3\\envs\\P7_py311\\Lib\\site-packages\\sklearn\\utils\\validation.py:2739: UserWarning: X does not have valid feature names, but LGBMClassifier was fitted with feature names\n",
      "  warnings.warn(\n"
     ]
    },
    {
     "name": "stdout",
     "output_type": "stream",
     "text": [
      "[LightGBM] [Info] Number of positive: 150764, number of negative: 150764\n",
      "[LightGBM] [Info] Auto-choosing col-wise multi-threading, the overhead of testing was 1.797870 seconds.\n",
      "You can set `force_col_wise=true` to remove the overhead.\n",
      "[LightGBM] [Info] Total Bins 175516\n",
      "[LightGBM] [Info] Number of data points in the train set: 301528, number of used features: 743\n",
      "[LightGBM] [Info] [binary:BoostFromScore]: pavg=0.500000 -> initscore=0.000000\n"
     ]
    },
    {
     "name": "stderr",
     "output_type": "stream",
     "text": [
      "C:\\Users\\Emmanuel\\anaconda3\\envs\\P7_py311\\Lib\\site-packages\\sklearn\\utils\\validation.py:2739: UserWarning: X does not have valid feature names, but LGBMClassifier was fitted with feature names\n",
      "  warnings.warn(\n"
     ]
    },
    {
     "name": "stdout",
     "output_type": "stream",
     "text": [
      "[LightGBM] [Info] Number of positive: 226145, number of negative: 226145\n",
      "[LightGBM] [Info] Auto-choosing col-wise multi-threading, the overhead of testing was 2.593010 seconds.\n",
      "You can set `force_col_wise=true` to remove the overhead.\n",
      "[LightGBM] [Info] Total Bins 175425\n",
      "[LightGBM] [Info] Number of data points in the train set: 452290, number of used features: 743\n",
      "[LightGBM] [Info] [binary:BoostFromScore]: pavg=0.500000 -> initscore=0.000000\n",
      "Meilleurs paramètres trouvés : {'lgbm__scale_pos_weight': 1}\n"
     ]
    }
   ],
   "source": [
    "# Effectuer la recherche d'hyperparamètres\n",
    "grid_search.fit(X_train, y_train)\n",
    "\n",
    "# Afficher les meilleurs paramètres\n",
    "print(\"Meilleurs paramètres trouvés :\", grid_search.best_params_)\n"
   ]
  },
  {
   "cell_type": "code",
   "execution_count": 72,
   "id": "88438b10-852e-426f-9128-f9678e8d7db4",
   "metadata": {},
   "outputs": [],
   "source": [
    "param_grid.update(grid_search.best_params_)"
   ]
  },
  {
   "cell_type": "code",
   "execution_count": 73,
   "id": "68e788bb-2d25-4cdc-8a68-7df4d31e4c7f",
   "metadata": {
    "scrolled": true
   },
   "outputs": [
    {
     "data": {
      "text/plain": [
       "{'lgbm__learning_rate': 0.1,\n",
       " 'lgbm__num_leaves': 50,\n",
       " 'lgbm__max_depth': 20,\n",
       " 'lgbm__min_child_samples': 20,\n",
       " 'lgbm__feature_fraction': 1.0,\n",
       " 'lgbm__bagging_fraction': 0.8,\n",
       " 'lgbm__bagging_freq': 5,\n",
       " 'lgbm__reg_alpha': 0.5,\n",
       " 'lgbm__reg_lambda': 0.5,\n",
       " 'lgbm__scale_pos_weight': 1}"
      ]
     },
     "execution_count": 73,
     "metadata": {},
     "output_type": "execute_result"
    }
   ],
   "source": [
    "param_grid"
   ]
  },
  {
   "cell_type": "code",
   "execution_count": null,
   "id": "914d79b8-5b21-4433-b476-ac03b09b136f",
   "metadata": {},
   "outputs": [],
   "source": []
  },
  {
   "cell_type": "code",
   "execution_count": 74,
   "id": "a2ed0551-16d5-47ca-be70-6c363669e701",
   "metadata": {},
   "outputs": [],
   "source": [
    "# Enregistrer les meilleurs paramètres\n",
    "best_params =  param_grid"
   ]
  },
  {
   "cell_type": "code",
   "execution_count": 75,
   "id": "340ccaff-6077-4813-b538-b0d2c319256e",
   "metadata": {},
   "outputs": [
    {
     "data": {
      "text/plain": [
       "{'lgbm__learning_rate': 0.1,\n",
       " 'lgbm__num_leaves': 50,\n",
       " 'lgbm__max_depth': 20,\n",
       " 'lgbm__min_child_samples': 20,\n",
       " 'lgbm__feature_fraction': 1.0,\n",
       " 'lgbm__bagging_fraction': 0.8,\n",
       " 'lgbm__bagging_freq': 5,\n",
       " 'lgbm__reg_alpha': 0.5,\n",
       " 'lgbm__reg_lambda': 0.5,\n",
       " 'lgbm__scale_pos_weight': 1}"
      ]
     },
     "execution_count": 75,
     "metadata": {},
     "output_type": "execute_result"
    }
   ],
   "source": [
    "best_params"
   ]
  },
  {
   "cell_type": "code",
   "execution_count": 76,
   "id": "6a99649e-5a1f-4ea0-9757-03e38c76b0bd",
   "metadata": {},
   "outputs": [
    {
     "name": "stdout",
     "output_type": "stream",
     "text": [
      "[LightGBM] [Warning] Unknown parameter: lgbm__learning_rate\n",
      "[LightGBM] [Warning] Unknown parameter: lgbm__min_child_samples\n",
      "[LightGBM] [Warning] Unknown parameter: lgbm__num_leaves\n",
      "[LightGBM] [Warning] Unknown parameter: lgbm__max_depth\n",
      "[LightGBM] [Warning] Unknown parameter: lgbm__feature_fraction\n",
      "[LightGBM] [Warning] Unknown parameter: lgbm__scale_pos_weight\n",
      "[LightGBM] [Warning] Unknown parameter: lgbm__bagging_fraction\n",
      "[LightGBM] [Warning] Unknown parameter: lgbm__bagging_freq\n",
      "[LightGBM] [Warning] Unknown parameter: lgbm__reg_lambda\n",
      "[LightGBM] [Warning] Unknown parameter: lgbm__reg_alpha\n",
      "[LightGBM] [Warning] Unknown parameter: lgbm__learning_rate\n",
      "[LightGBM] [Warning] Unknown parameter: lgbm__min_child_samples\n",
      "[LightGBM] [Warning] Unknown parameter: lgbm__num_leaves\n",
      "[LightGBM] [Warning] Unknown parameter: lgbm__max_depth\n",
      "[LightGBM] [Warning] Unknown parameter: lgbm__feature_fraction\n",
      "[LightGBM] [Warning] Unknown parameter: lgbm__scale_pos_weight\n",
      "[LightGBM] [Warning] Unknown parameter: lgbm__bagging_fraction\n",
      "[LightGBM] [Warning] Unknown parameter: lgbm__bagging_freq\n",
      "[LightGBM] [Warning] Unknown parameter: lgbm__reg_lambda\n",
      "[LightGBM] [Warning] Unknown parameter: lgbm__reg_alpha\n",
      "[LightGBM] [Info] Auto-choosing col-wise multi-threading, the overhead of testing was 1.424583 seconds.\n",
      "You can set `force_col_wise=true` to remove the overhead.\n",
      "[LightGBM] [Info] Total Bins 99257\n",
      "[LightGBM] [Info] Number of data points in the train set: 246005, number of used features: 741\n",
      "[LightGBM] [Warning] Unknown parameter: lgbm__learning_rate\n",
      "[LightGBM] [Warning] Unknown parameter: lgbm__min_child_samples\n",
      "[LightGBM] [Warning] Unknown parameter: lgbm__num_leaves\n",
      "[LightGBM] [Warning] Unknown parameter: lgbm__max_depth\n",
      "[LightGBM] [Warning] Unknown parameter: lgbm__feature_fraction\n",
      "[LightGBM] [Warning] Unknown parameter: lgbm__scale_pos_weight\n",
      "[LightGBM] [Warning] Unknown parameter: lgbm__bagging_fraction\n",
      "[LightGBM] [Warning] Unknown parameter: lgbm__bagging_freq\n",
      "[LightGBM] [Warning] Unknown parameter: lgbm__reg_lambda\n",
      "[LightGBM] [Warning] Unknown parameter: lgbm__reg_alpha\n",
      "[LightGBM] [Info] Start training from score 0.080730\n"
     ]
    }
   ],
   "source": [
    "# Entraîner le modèle final avec les meilleurs paramètres\n",
    "\n",
    "train_data = lgb.Dataset(X_train, label=y_train)\n",
    "test_data = lgb.Dataset(X_test, label=y_test, reference=train_data)\n",
    "\n",
    "gbm = lgb.train(best_params, train_data, num_boost_round=100, valid_sets=[test_data])"
   ]
  },
  {
   "cell_type": "code",
   "execution_count": 77,
   "id": "299327ce-1f43-4e31-8389-e35a7b12b91a",
   "metadata": {},
   "outputs": [
    {
     "name": "stderr",
     "output_type": "stream",
     "text": [
      "Successfully registered model 'LGBM_optim'.\n",
      "2025/04/14 22:51:23 INFO mlflow.store.model_registry.abstract_store: Waiting up to 300 seconds for model version to finish creation. Model name: LGBM_optim, version 1\n"
     ]
    },
    {
     "name": "stdout",
     "output_type": "stream",
     "text": [
      "🏃 View run kindly-shrimp-538 at: http://127.0.0.1:5000/#/experiments/0/runs/3595ba35154d41fd9232bda438ef0ab8\n",
      "🧪 View experiment at: http://127.0.0.1:5000/#/experiments/0\n"
     ]
    },
    {
     "name": "stderr",
     "output_type": "stream",
     "text": [
      "Created version '1' of model 'LGBM_optim'.\n"
     ]
    }
   ],
   "source": [
    "# Démarrer une run MLflow\n",
    "with mlflow.start_run() as run:\n",
    "    #  Enregistrer les paramètres du modèle\n",
    "    mlflow.log_params(best_params)\n",
    "    mlflow.log_param(\"model_type\", \"LightGBM\")\n",
    "\n",
    "    # Prédire les probabilités\n",
    "    y_pred_prob = gbm.predict(X_test, num_iteration=gbm.best_iteration)\n",
    "    # Calculer l'AUC\n",
    "    auc = roc_auc_score(y_test, y_pred_prob)\n",
    "    mlflow.log_metric(\"auc\", auc)\n",
    "\n",
    "    # Optimiser le seuil de décision\n",
    "    thresholds = np.linspace(0, 1, 100)\n",
    "    costs = [cost_function(y_test, y_pred_prob, threshold) for threshold in thresholds]\n",
    "    best_threshold = thresholds[np.argmin(costs)]\n",
    "\n",
    "    # Enregistrer le meilleur seuil\n",
    "    mlflow.log_param(\"best_threshold\", best_threshold)\n",
    "\n",
    "    # Évaluer le modèle avec le meilleur seuil\n",
    "    y_pred = (y_pred_prob >= best_threshold).astype(int)\n",
    "    min_cost = min(costs)\n",
    "    mlflow.log_metric(\"min_cost\", min_cost)\n",
    "\n",
    "    # Enregistrer le modèle avec un exemple d'entrée pour la signature\n",
    "    signature = mlflow.models.infer_signature(X_train, gbm.predict(X_train))\n",
    "    mlflow.lightgbm.log_model(gbm, \"LGBM\", signature=signature)\n",
    "\n",
    "    # Enregistrer le modèle dans le Model Registry\n",
    "    model_uri = f\"runs:/{run.info.run_id}/model\"\n",
    "    mlflow.register_model(model_uri, \"LGBM_optim\")"
   ]
  },
  {
   "cell_type": "code",
   "execution_count": null,
   "id": "93ff0898-cc73-4db6-a351-82134166d0c3",
   "metadata": {},
   "outputs": [],
   "source": []
  },
  {
   "cell_type": "code",
   "execution_count": 78,
   "id": "0d5bdc5b-6a0f-470a-b6f3-cc29c93db2ae",
   "metadata": {
    "scrolled": true
   },
   "outputs": [
    {
     "data": {
      "image/png": "[encoded data removed]",
      "text/plain": [
       "<Figure size 640x480 with 1 Axes>"
      ]
     },
     "metadata": {},
     "output_type": "display_data"
    }
   ],
   "source": [
    "# Tracer la courbe ROC\n",
    "fpr, tpr, thresholds = roc_curve(y_test, y_pred_prob)\n",
    "plt.figure()\n",
    "plt.plot(fpr, tpr, color='darkorange', lw=2, label='Courbe ROC (AUC = %0.2f)' % auc)\n",
    "plt.plot([0, 1], [0, 1], color='navy', lw=2, linestyle='--')\n",
    "plt.xlim([0.0, 1.0])\n",
    "plt.ylim([0.0, 1.05])\n",
    "plt.xlabel('Taux de faux positifs')\n",
    "plt.ylabel('Taux de vrais positifs')\n",
    "plt.title('Courbe ROC')\n",
    "plt.legend(loc=\"lower right\")\n",
    "plt.show()"
   ]
  },
  {
   "cell_type": "markdown",
   "id": "725615c0-14d8-4cce-9ddc-77fd121b4e56",
   "metadata": {},
   "source": [
    "df : échantillon de montableau_entree\n",
    "fonction = transform df ie lgb.dataset(df)\n",
    "X =lgb.dataset(df)\n",
    "curl api.request(X)\n",
    "dans l'API request"
   ]
  },
  {
   "cell_type": "markdown",
   "id": "02304110-ad47-406a-af13-a34134ce6760",
   "metadata": {},
   "source": [
    "## feature importance"
   ]
  },
  {
   "cell_type": "code",
   "execution_count": 79,
   "id": "8ec0f13f-d49d-4670-9509-ada2681a58b2",
   "metadata": {},
   "outputs": [
    {
     "data": {
      "text/plain": [
       "(61502, 776)"
      ]
     },
     "execution_count": 79,
     "metadata": {},
     "output_type": "execute_result"
    }
   ],
   "source": [
    "X_test.shape"
   ]
  },
  {
   "cell_type": "code",
   "execution_count": 80,
   "id": "0a4a04cf-c7d3-4177-9966-c39bb4faf78e",
   "metadata": {},
   "outputs": [
    {
     "data": {
      "text/plain": [
       "(246005, 776)"
      ]
     },
     "execution_count": 80,
     "metadata": {},
     "output_type": "execute_result"
    }
   ],
   "source": [
    "X_train.shape"
   ]
  },
  {
   "cell_type": "code",
   "execution_count": 82,
   "id": "7325ce0f-9a51-4cf4-acf8-2441766dee1a",
   "metadata": {},
   "outputs": [
    {
     "name": "stderr",
     "output_type": "stream",
     "text": [
      "100%|===================| 61399/61502 [08:38<00:00]        "
     ]
    },
    {
     "data": {
      "image/png": "[encoded data removed]",
      "text/plain": [
       "<Figure size 800x950 with 2 Axes>"
      ]
     },
     "metadata": {},
     "output_type": "display_data"
    }
   ],
   "source": [
    "import shap\n",
    "# Utiliser SHAP pour l'importance des caractéristiques\n",
    "\n",
    "explainer = shap.Explainer(gbm, X_train, feature_perturbation='interventional')\n",
    "\n",
    "shap_values = explainer(X_test, check_additivity=False)\n",
    "\n",
    "# Visualiser l'importance des caractéristiques\n",
    "shap.summary_plot(shap_values, X_test)"
   ]
  },
  {
   "cell_type": "code",
   "execution_count": null,
   "id": "ec07de40-65eb-43eb-b3e8-d1ba6e04087d",
   "metadata": {},
   "outputs": [],
   "source": [
    "import shap\n",
    "# Utiliser SHAP pour l'importance des caractéristiques\n",
    "\n",
    "explainer = shap.Explainer(gbm, X_train, feature_perturbation='interventional')\n",
    "\n",
    "shap_values = explainer(X_test, check_additivity=False)\n",
    "\n",
    "# Visualiser l'importance des caractéristiques\n",
    "shap.summary_plot(shap_values, X_test)"
   ]
  },
  {
   "cell_type": "code",
   "execution_count": null,
   "id": "a8847e78-48bb-4244-9aa5-1ddd5fd452a2",
   "metadata": {},
   "outputs": [],
   "source": []
  },
  {
   "cell_type": "code",
   "execution_count": null,
   "id": "74f60197-e662-48f8-90bf-56690b5c7b72",
   "metadata": {},
   "outputs": [],
   "source": []
  },
  {
   "cell_type": "code",
   "execution_count": null,
   "id": "51eb7013-37be-4021-a438-dd18f0615573",
   "metadata": {},
   "outputs": [],
   "source": []
  },
  {
   "cell_type": "code",
   "execution_count": null,
   "id": "90805442-25b6-471e-83d8-ec7b1377b4d7",
   "metadata": {},
   "outputs": [],
   "source": []
  },
  {
   "cell_type": "code",
   "execution_count": null,
   "id": "67c90cb0-7403-4d18-ace7-0d22c7405edb",
   "metadata": {},
   "outputs": [],
   "source": []
  },
  {
   "cell_type": "code",
   "execution_count": null,
   "id": "39c72f82-81c3-4569-8a52-3870bc629e3d",
   "metadata": {},
   "outputs": [],
   "source": []
  },
  {
   "cell_type": "code",
   "execution_count": null,
   "id": "38f41b90-17d2-425c-9311-0a9df38b1b35",
   "metadata": {},
   "outputs": [],
   "source": []
  },
  {
   "cell_type": "code",
   "execution_count": null,
   "id": "d3b0da18-c356-47fa-8ebd-ecdd3f13c21e",
   "metadata": {},
   "outputs": [],
   "source": []
  },
  {
   "cell_type": "code",
   "execution_count": null,
   "id": "9b263fd8-d3b7-4b11-ad12-1724f3e150cd",
   "metadata": {},
   "outputs": [],
   "source": []
  },
  {
   "cell_type": "code",
   "execution_count": null,
   "id": "a7fed8cc-b881-499a-9fc1-6553c6a6e0df",
   "metadata": {},
   "outputs": [],
   "source": []
  },
  {
   "cell_type": "code",
   "execution_count": null,
   "id": "eba95adc-49d3-4a49-ba18-c57e06767101",
   "metadata": {},
   "outputs": [],
   "source": []
  },
  {
   "cell_type": "code",
   "execution_count": null,
   "id": "b1864bb7-477b-4c03-8ee2-2140e9de54a7",
   "metadata": {},
   "outputs": [],
   "source": []
  },
  {
   "cell_type": "code",
   "execution_count": null,
   "id": "b9268ded-b8dd-41a7-975e-df7da0565891",
   "metadata": {},
   "outputs": [],
   "source": []
  },
  {
   "cell_type": "code",
   "execution_count": null,
   "id": "65a30f0c-65ea-4f9b-aed3-c66fcc4a1424",
   "metadata": {},
   "outputs": [],
   "source": []
  }
 ],
 "metadata": {
  "kernelspec": {
   "display_name": "Python 3 (ipykernel)",
   "language": "python",
   "name": "python3"
  },
  "language_info": {
   "codemirror_mode": {
    "name": "ipython",
    "version": 3
   },
   "file_extension": ".py",
   "mimetype": "text/x-python",
   "name": "python",
   "nbconvert_exporter": "python",
   "pygments_lexer": "ipython3",
   "version": "3.11.9"
  }
 },
 "nbformat": 4,
 "nbformat_minor": 5
}
