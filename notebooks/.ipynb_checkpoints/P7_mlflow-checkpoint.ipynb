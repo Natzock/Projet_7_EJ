{
 "cells": [
  {
   "cell_type": "code",
   "execution_count": 1,
   "id": "8b231406-1b50-4740-b76d-41c95366b664",
   "metadata": {},
   "outputs": [],
   "source": [
    "import mlflow\n",
    "import mlflow.sklearn\n",
    "from mlflow.models import infer_signature\n",
    "import pandas as pd\n",
    "import numpy as np\n",
    "import seaborn as sns\n",
    "from sklearn import datasets\n",
    "from sklearn.model_selection import train_test_split, GridSearchCV,  KFold, StratifiedKFold, RandomizedSearchCV\n",
    "from sklearn.linear_model import LogisticRegression\n",
    "from sklearn.ensemble import RandomForestClassifier\n",
    "from sklearn.metrics import accuracy_score, precision_score, recall_score, f1_score\n",
    "from sklearn.feature_selection import SelectKBest, f_classif\n",
    "import gc\n",
    "import time\n",
    "from contextlib import contextmanager\n",
    "from lightgbm import LGBMClassifier\n",
    "from sklearn.metrics import roc_auc_score, roc_curve, accuracy_score, confusion_matrix\n",
    "from xgboost import XGBClassifier\n",
    "from imblearn.over_sampling import SMOTE\n",
    "from sklearn.pipeline import Pipeline\n",
    "from sklearn.impute import SimpleImputer\n",
    "from imblearn.pipeline import Pipeline as imbPipeline\n",
    "from collections import Counter\n",
    "import matplotlib.pyplot as plt\n",
    "\n",
    "import warnings\n",
    "import mlflow\n",
    "import mlflow.lightgbm\n",
    "import lightgbm as lgb\n",
    "import re\n",
    "from sklearn.preprocessing import LabelEncoder, StandardScaler"
   ]
  },
  {
   "cell_type": "markdown",
   "id": "b4582e84-e655-43ff-b89e-c301c0f80607",
   "metadata": {},
   "source": [
    "## charger les données"
   ]
  },
  {
   "cell_type": "code",
   "execution_count": 2,
   "id": "f40beedc-4368-4ed7-873d-841fe466fcf7",
   "metadata": {},
   "outputs": [],
   "source": [
    "data = pd.read_csv(\"preprocess_table.csv\")"
   ]
  },
  {
   "cell_type": "markdown",
   "id": "40073aeb-e8fe-4d55-ba5b-cde2c6686f1d",
   "metadata": {},
   "source": [
    "## classe déséquilibrée"
   ]
  },
  {
   "cell_type": "code",
   "execution_count": 3,
   "id": "6398aaa7-21e1-4456-b799-4b0c13f0677e",
   "metadata": {},
   "outputs": [
    {
     "name": "stdout",
     "output_type": "stream",
     "text": [
      "Counter({0: 282682, 1: 24825})\n"
     ]
    }
   ],
   "source": [
    "# Séparer les caractéristiques (X) et les étiquettes (y)\n",
    "X = data.drop(columns=['TARGET'])\n",
    "y = data['TARGET']\n",
    "# summarize class distribution\n",
    "counter = Counter(y)\n",
    "print(counter)"
   ]
  },
  {
   "cell_type": "code",
   "execution_count": 4,
   "id": "0bad5d08-7603-4fa6-a6e9-3508cbb61043",
   "metadata": {},
   "outputs": [
    {
     "data": {
      "text/plain": [
       "(307507, 774)"
      ]
     },
     "execution_count": 4,
     "metadata": {},
     "output_type": "execute_result"
    }
   ],
   "source": [
    "X.shape"
   ]
  },
  {
   "cell_type": "markdown",
   "id": "5b41b49f-d553-4c52-b764-0d91d2bde951",
   "metadata": {},
   "source": [
    "### traitement des données"
   ]
  },
  {
   "cell_type": "code",
   "execution_count": 5,
   "id": "a27cfe68-842e-4aea-97e9-92a96c4b27cb",
   "metadata": {},
   "outputs": [],
   "source": [
    "# Séparation des données\n",
    "X_train, X_test, y_train, y_test = train_test_split(X, y, test_size=0.2, random_state=42, stratify=y)"
   ]
  },
  {
   "cell_type": "code",
   "execution_count": 6,
   "id": "5284e989-5dba-4f82-8b19-ff545bb01df0",
   "metadata": {},
   "outputs": [],
   "source": [
    "# imputation\n",
    "imputer = SimpleImputer(strategy='mean')\n",
    "X_train = imputer.fit_transform(X_train)\n",
    "X_test = imputer.transform(X_test)"
   ]
  },
  {
   "cell_type": "code",
   "execution_count": 7,
   "id": "946fcb70-da7a-4796-85b2-5d7ed444c846",
   "metadata": {},
   "outputs": [],
   "source": [
    "# Normalisation des données\n",
    "scaler = StandardScaler()\n",
    "X_train = scaler.fit_transform(X_train)\n",
    "X_test = scaler.transform(X_test)"
   ]
  },
  {
   "cell_type": "code",
   "execution_count": 8,
   "id": "78b83fd8-5b80-4ee8-9654-c5da5ecb8dec",
   "metadata": {},
   "outputs": [
    {
     "name": "stdout",
     "output_type": "stream",
     "text": [
      "Counter({0: 226145, 1: 19860})\n"
     ]
    }
   ],
   "source": [
    "counter = Counter(y_train)\n",
    "print(counter)\n",
    "\n"
   ]
  },
  {
   "cell_type": "markdown",
   "id": "b43377db-7c55-4588-b3f8-a5f4871eef54",
   "metadata": {},
   "source": [
    "## configurer ML_flow"
   ]
  },
  {
   "cell_type": "code",
   "execution_count": 9,
   "id": "3c5636af-b306-45b4-a6fa-0e20f0b019a7",
   "metadata": {},
   "outputs": [],
   "source": [
    "#définition du serveur de suivi mlflow\n",
    "mlflow.set_tracking_uri(uri=\"http://127.0.0.1:5000/\")  #équivalent à http://localhost:5000\n",
    "# le lancer sur un prompt : mlflow server --host 127.0.0.1 --port 5000"
   ]
  },
  {
   "cell_type": "markdown",
   "id": "aed8b1e1-9bfb-4a3f-92c5-70528567600a",
   "metadata": {},
   "source": [
    "### score"
   ]
  },
  {
   "cell_type": "code",
   "execution_count": 10,
   "id": "6b1775a6-fa84-43ca-9c09-2bd11ff0e015",
   "metadata": {},
   "outputs": [],
   "source": [
    "# Définir la fonction de coût\n",
    "def cost_function(y_true, y_pred_prob, threshold, cost_fn=10, cost_fp=1):\n",
    "    y_pred = (y_pred_prob >= threshold).astype(int)\n",
    "    tn, fp, fn, tp = confusion_matrix(y_true, y_pred).ravel()\n",
    "    cost = (fn * cost_fn) + (fp * cost_fp)\n",
    "    return cost"
   ]
  },
  {
   "cell_type": "code",
   "execution_count": 11,
   "id": "35e60ec6-0645-439c-8628-1d65f1ccf209",
   "metadata": {},
   "outputs": [
    {
     "ename": "MlflowException",
     "evalue": "API request to http://127.0.0.1:5000/api/2.0/mlflow/experiments/get-by-name failed with exception HTTPConnectionPool(host='127.0.0.1', port=5000): Max retries exceeded with url: /api/2.0/mlflow/experiments/get-by-name?experiment_name=P7_score_cost (Caused by NewConnectionError('<urllib3.connection.HTTPConnection object at 0x00000226F5337250>: Failed to establish a new connection: [WinError 10061] Aucune connexion n’a pu être établie car l’ordinateur cible l’a expressément refusée'))",
     "output_type": "error",
     "traceback": [
      "\u001b[1;31m---------------------------------------------------------------------------\u001b[0m",
      "\u001b[1;31mConnectionRefusedError\u001b[0m                    Traceback (most recent call last)",
      "File \u001b[1;32m~\\anaconda3\\envs\\projet7\\lib\\site-packages\\urllib3\\connection.py:199\u001b[0m, in \u001b[0;36mHTTPConnection._new_conn\u001b[1;34m(self)\u001b[0m\n\u001b[0;32m    198\u001b[0m \u001b[38;5;28;01mtry\u001b[39;00m:\n\u001b[1;32m--> 199\u001b[0m     sock \u001b[38;5;241m=\u001b[39m \u001b[43mconnection\u001b[49m\u001b[38;5;241;43m.\u001b[39;49m\u001b[43mcreate_connection\u001b[49m\u001b[43m(\u001b[49m\n\u001b[0;32m    200\u001b[0m \u001b[43m        \u001b[49m\u001b[43m(\u001b[49m\u001b[38;5;28;43mself\u001b[39;49m\u001b[38;5;241;43m.\u001b[39;49m\u001b[43m_dns_host\u001b[49m\u001b[43m,\u001b[49m\u001b[43m \u001b[49m\u001b[38;5;28;43mself\u001b[39;49m\u001b[38;5;241;43m.\u001b[39;49m\u001b[43mport\u001b[49m\u001b[43m)\u001b[49m\u001b[43m,\u001b[49m\n\u001b[0;32m    201\u001b[0m \u001b[43m        \u001b[49m\u001b[38;5;28;43mself\u001b[39;49m\u001b[38;5;241;43m.\u001b[39;49m\u001b[43mtimeout\u001b[49m\u001b[43m,\u001b[49m\n\u001b[0;32m    202\u001b[0m \u001b[43m        \u001b[49m\u001b[43msource_address\u001b[49m\u001b[38;5;241;43m=\u001b[39;49m\u001b[38;5;28;43mself\u001b[39;49m\u001b[38;5;241;43m.\u001b[39;49m\u001b[43msource_address\u001b[49m\u001b[43m,\u001b[49m\n\u001b[0;32m    203\u001b[0m \u001b[43m        \u001b[49m\u001b[43msocket_options\u001b[49m\u001b[38;5;241;43m=\u001b[39;49m\u001b[38;5;28;43mself\u001b[39;49m\u001b[38;5;241;43m.\u001b[39;49m\u001b[43msocket_options\u001b[49m\u001b[43m,\u001b[49m\n\u001b[0;32m    204\u001b[0m \u001b[43m    \u001b[49m\u001b[43m)\u001b[49m\n\u001b[0;32m    205\u001b[0m \u001b[38;5;28;01mexcept\u001b[39;00m socket\u001b[38;5;241m.\u001b[39mgaierror \u001b[38;5;28;01mas\u001b[39;00m e:\n",
      "File \u001b[1;32m~\\anaconda3\\envs\\projet7\\lib\\site-packages\\urllib3\\util\\connection.py:85\u001b[0m, in \u001b[0;36mcreate_connection\u001b[1;34m(address, timeout, source_address, socket_options)\u001b[0m\n\u001b[0;32m     84\u001b[0m \u001b[38;5;28;01mtry\u001b[39;00m:\n\u001b[1;32m---> 85\u001b[0m     \u001b[38;5;28;01mraise\u001b[39;00m err\n\u001b[0;32m     86\u001b[0m \u001b[38;5;28;01mfinally\u001b[39;00m:\n\u001b[0;32m     87\u001b[0m     \u001b[38;5;66;03m# Break explicitly a reference cycle\u001b[39;00m\n",
      "File \u001b[1;32m~\\anaconda3\\envs\\projet7\\lib\\site-packages\\urllib3\\util\\connection.py:73\u001b[0m, in \u001b[0;36mcreate_connection\u001b[1;34m(address, timeout, source_address, socket_options)\u001b[0m\n\u001b[0;32m     72\u001b[0m     sock\u001b[38;5;241m.\u001b[39mbind(source_address)\n\u001b[1;32m---> 73\u001b[0m \u001b[43msock\u001b[49m\u001b[38;5;241;43m.\u001b[39;49m\u001b[43mconnect\u001b[49m\u001b[43m(\u001b[49m\u001b[43msa\u001b[49m\u001b[43m)\u001b[49m\n\u001b[0;32m     74\u001b[0m \u001b[38;5;66;03m# Break explicitly a reference cycle\u001b[39;00m\n",
      "\u001b[1;31mConnectionRefusedError\u001b[0m: [WinError 10061] Aucune connexion n’a pu être établie car l’ordinateur cible l’a expressément refusée",
      "\nThe above exception was the direct cause of the following exception:\n",
      "\u001b[1;31mNewConnectionError\u001b[0m                        Traceback (most recent call last)",
      "File \u001b[1;32m~\\anaconda3\\envs\\projet7\\lib\\site-packages\\urllib3\\connectionpool.py:789\u001b[0m, in \u001b[0;36mHTTPConnectionPool.urlopen\u001b[1;34m(self, method, url, body, headers, retries, redirect, assert_same_host, timeout, pool_timeout, release_conn, chunked, body_pos, preload_content, decode_content, **response_kw)\u001b[0m\n\u001b[0;32m    788\u001b[0m \u001b[38;5;66;03m# Make the request on the HTTPConnection object\u001b[39;00m\n\u001b[1;32m--> 789\u001b[0m response \u001b[38;5;241m=\u001b[39m \u001b[38;5;28mself\u001b[39m\u001b[38;5;241m.\u001b[39m_make_request(\n\u001b[0;32m    790\u001b[0m     conn,\n\u001b[0;32m    791\u001b[0m     method,\n\u001b[0;32m    792\u001b[0m     url,\n\u001b[0;32m    793\u001b[0m     timeout\u001b[38;5;241m=\u001b[39mtimeout_obj,\n\u001b[0;32m    794\u001b[0m     body\u001b[38;5;241m=\u001b[39mbody,\n\u001b[0;32m    795\u001b[0m     headers\u001b[38;5;241m=\u001b[39mheaders,\n\u001b[0;32m    796\u001b[0m     chunked\u001b[38;5;241m=\u001b[39mchunked,\n\u001b[0;32m    797\u001b[0m     retries\u001b[38;5;241m=\u001b[39mretries,\n\u001b[0;32m    798\u001b[0m     response_conn\u001b[38;5;241m=\u001b[39mresponse_conn,\n\u001b[0;32m    799\u001b[0m     preload_content\u001b[38;5;241m=\u001b[39mpreload_content,\n\u001b[0;32m    800\u001b[0m     decode_content\u001b[38;5;241m=\u001b[39mdecode_content,\n\u001b[0;32m    801\u001b[0m     \u001b[38;5;241m*\u001b[39m\u001b[38;5;241m*\u001b[39mresponse_kw,\n\u001b[0;32m    802\u001b[0m )\n\u001b[0;32m    804\u001b[0m \u001b[38;5;66;03m# Everything went great!\u001b[39;00m\n",
      "File \u001b[1;32m~\\anaconda3\\envs\\projet7\\lib\\site-packages\\urllib3\\connectionpool.py:495\u001b[0m, in \u001b[0;36mHTTPConnectionPool._make_request\u001b[1;34m(self, conn, method, url, body, headers, retries, timeout, chunked, response_conn, preload_content, decode_content, enforce_content_length)\u001b[0m\n\u001b[0;32m    494\u001b[0m \u001b[38;5;28;01mtry\u001b[39;00m:\n\u001b[1;32m--> 495\u001b[0m     \u001b[43mconn\u001b[49m\u001b[38;5;241;43m.\u001b[39;49m\u001b[43mrequest\u001b[49m\u001b[43m(\u001b[49m\n\u001b[0;32m    496\u001b[0m \u001b[43m        \u001b[49m\u001b[43mmethod\u001b[49m\u001b[43m,\u001b[49m\n\u001b[0;32m    497\u001b[0m \u001b[43m        \u001b[49m\u001b[43murl\u001b[49m\u001b[43m,\u001b[49m\n\u001b[0;32m    498\u001b[0m \u001b[43m        \u001b[49m\u001b[43mbody\u001b[49m\u001b[38;5;241;43m=\u001b[39;49m\u001b[43mbody\u001b[49m\u001b[43m,\u001b[49m\n\u001b[0;32m    499\u001b[0m \u001b[43m        \u001b[49m\u001b[43mheaders\u001b[49m\u001b[38;5;241;43m=\u001b[39;49m\u001b[43mheaders\u001b[49m\u001b[43m,\u001b[49m\n\u001b[0;32m    500\u001b[0m \u001b[43m        \u001b[49m\u001b[43mchunked\u001b[49m\u001b[38;5;241;43m=\u001b[39;49m\u001b[43mchunked\u001b[49m\u001b[43m,\u001b[49m\n\u001b[0;32m    501\u001b[0m \u001b[43m        \u001b[49m\u001b[43mpreload_content\u001b[49m\u001b[38;5;241;43m=\u001b[39;49m\u001b[43mpreload_content\u001b[49m\u001b[43m,\u001b[49m\n\u001b[0;32m    502\u001b[0m \u001b[43m        \u001b[49m\u001b[43mdecode_content\u001b[49m\u001b[38;5;241;43m=\u001b[39;49m\u001b[43mdecode_content\u001b[49m\u001b[43m,\u001b[49m\n\u001b[0;32m    503\u001b[0m \u001b[43m        \u001b[49m\u001b[43menforce_content_length\u001b[49m\u001b[38;5;241;43m=\u001b[39;49m\u001b[43menforce_content_length\u001b[49m\u001b[43m,\u001b[49m\n\u001b[0;32m    504\u001b[0m \u001b[43m    \u001b[49m\u001b[43m)\u001b[49m\n\u001b[0;32m    506\u001b[0m \u001b[38;5;66;03m# We are swallowing BrokenPipeError (errno.EPIPE) since the server is\u001b[39;00m\n\u001b[0;32m    507\u001b[0m \u001b[38;5;66;03m# legitimately able to close the connection after sending a valid response.\u001b[39;00m\n\u001b[0;32m    508\u001b[0m \u001b[38;5;66;03m# With this behaviour, the received response is still readable.\u001b[39;00m\n",
      "File \u001b[1;32m~\\anaconda3\\envs\\projet7\\lib\\site-packages\\urllib3\\connection.py:441\u001b[0m, in \u001b[0;36mHTTPConnection.request\u001b[1;34m(self, method, url, body, headers, chunked, preload_content, decode_content, enforce_content_length)\u001b[0m\n\u001b[0;32m    440\u001b[0m     \u001b[38;5;28mself\u001b[39m\u001b[38;5;241m.\u001b[39mputheader(header, value)\n\u001b[1;32m--> 441\u001b[0m \u001b[38;5;28;43mself\u001b[39;49m\u001b[38;5;241;43m.\u001b[39;49m\u001b[43mendheaders\u001b[49m\u001b[43m(\u001b[49m\u001b[43m)\u001b[49m\n\u001b[0;32m    443\u001b[0m \u001b[38;5;66;03m# If we're given a body we start sending that in chunks.\u001b[39;00m\n",
      "File \u001b[1;32m~\\anaconda3\\envs\\projet7\\lib\\http\\client.py:1280\u001b[0m, in \u001b[0;36mHTTPConnection.endheaders\u001b[1;34m(self, message_body, encode_chunked)\u001b[0m\n\u001b[0;32m   1279\u001b[0m     \u001b[38;5;28;01mraise\u001b[39;00m CannotSendHeader()\n\u001b[1;32m-> 1280\u001b[0m \u001b[38;5;28;43mself\u001b[39;49m\u001b[38;5;241;43m.\u001b[39;49m\u001b[43m_send_output\u001b[49m\u001b[43m(\u001b[49m\u001b[43mmessage_body\u001b[49m\u001b[43m,\u001b[49m\u001b[43m \u001b[49m\u001b[43mencode_chunked\u001b[49m\u001b[38;5;241;43m=\u001b[39;49m\u001b[43mencode_chunked\u001b[49m\u001b[43m)\u001b[49m\n",
      "File \u001b[1;32m~\\anaconda3\\envs\\projet7\\lib\\http\\client.py:1040\u001b[0m, in \u001b[0;36mHTTPConnection._send_output\u001b[1;34m(self, message_body, encode_chunked)\u001b[0m\n\u001b[0;32m   1039\u001b[0m \u001b[38;5;28;01mdel\u001b[39;00m \u001b[38;5;28mself\u001b[39m\u001b[38;5;241m.\u001b[39m_buffer[:]\n\u001b[1;32m-> 1040\u001b[0m \u001b[38;5;28;43mself\u001b[39;49m\u001b[38;5;241;43m.\u001b[39;49m\u001b[43msend\u001b[49m\u001b[43m(\u001b[49m\u001b[43mmsg\u001b[49m\u001b[43m)\u001b[49m\n\u001b[0;32m   1042\u001b[0m \u001b[38;5;28;01mif\u001b[39;00m message_body \u001b[38;5;129;01mis\u001b[39;00m \u001b[38;5;129;01mnot\u001b[39;00m \u001b[38;5;28;01mNone\u001b[39;00m:\n\u001b[0;32m   1043\u001b[0m \n\u001b[0;32m   1044\u001b[0m     \u001b[38;5;66;03m# create a consistent interface to message_body\u001b[39;00m\n",
      "File \u001b[1;32m~\\anaconda3\\envs\\projet7\\lib\\http\\client.py:980\u001b[0m, in \u001b[0;36mHTTPConnection.send\u001b[1;34m(self, data)\u001b[0m\n\u001b[0;32m    979\u001b[0m \u001b[38;5;28;01mif\u001b[39;00m \u001b[38;5;28mself\u001b[39m\u001b[38;5;241m.\u001b[39mauto_open:\n\u001b[1;32m--> 980\u001b[0m     \u001b[38;5;28;43mself\u001b[39;49m\u001b[38;5;241;43m.\u001b[39;49m\u001b[43mconnect\u001b[49m\u001b[43m(\u001b[49m\u001b[43m)\u001b[49m\n\u001b[0;32m    981\u001b[0m \u001b[38;5;28;01melse\u001b[39;00m:\n",
      "File \u001b[1;32m~\\anaconda3\\envs\\projet7\\lib\\site-packages\\urllib3\\connection.py:279\u001b[0m, in \u001b[0;36mHTTPConnection.connect\u001b[1;34m(self)\u001b[0m\n\u001b[0;32m    278\u001b[0m \u001b[38;5;28;01mdef\u001b[39;00m \u001b[38;5;21mconnect\u001b[39m(\u001b[38;5;28mself\u001b[39m) \u001b[38;5;241m-\u001b[39m\u001b[38;5;241m>\u001b[39m \u001b[38;5;28;01mNone\u001b[39;00m:\n\u001b[1;32m--> 279\u001b[0m     \u001b[38;5;28mself\u001b[39m\u001b[38;5;241m.\u001b[39msock \u001b[38;5;241m=\u001b[39m \u001b[38;5;28;43mself\u001b[39;49m\u001b[38;5;241;43m.\u001b[39;49m\u001b[43m_new_conn\u001b[49m\u001b[43m(\u001b[49m\u001b[43m)\u001b[49m\n\u001b[0;32m    280\u001b[0m     \u001b[38;5;28;01mif\u001b[39;00m \u001b[38;5;28mself\u001b[39m\u001b[38;5;241m.\u001b[39m_tunnel_host:\n\u001b[0;32m    281\u001b[0m         \u001b[38;5;66;03m# If we're tunneling it means we're connected to our proxy.\u001b[39;00m\n",
      "File \u001b[1;32m~\\anaconda3\\envs\\projet7\\lib\\site-packages\\urllib3\\connection.py:214\u001b[0m, in \u001b[0;36mHTTPConnection._new_conn\u001b[1;34m(self)\u001b[0m\n\u001b[0;32m    213\u001b[0m \u001b[38;5;28;01mexcept\u001b[39;00m \u001b[38;5;167;01mOSError\u001b[39;00m \u001b[38;5;28;01mas\u001b[39;00m e:\n\u001b[1;32m--> 214\u001b[0m     \u001b[38;5;28;01mraise\u001b[39;00m NewConnectionError(\n\u001b[0;32m    215\u001b[0m         \u001b[38;5;28mself\u001b[39m, \u001b[38;5;124mf\u001b[39m\u001b[38;5;124m\"\u001b[39m\u001b[38;5;124mFailed to establish a new connection: \u001b[39m\u001b[38;5;132;01m{\u001b[39;00me\u001b[38;5;132;01m}\u001b[39;00m\u001b[38;5;124m\"\u001b[39m\n\u001b[0;32m    216\u001b[0m     ) \u001b[38;5;28;01mfrom\u001b[39;00m \u001b[38;5;21;01me\u001b[39;00m\n\u001b[0;32m    218\u001b[0m \u001b[38;5;66;03m# Audit hooks are only available in Python 3.8+\u001b[39;00m\n",
      "\u001b[1;31mNewConnectionError\u001b[0m: <urllib3.connection.HTTPConnection object at 0x00000226F5337250>: Failed to establish a new connection: [WinError 10061] Aucune connexion n’a pu être établie car l’ordinateur cible l’a expressément refusée",
      "\nThe above exception was the direct cause of the following exception:\n",
      "\u001b[1;31mMaxRetryError\u001b[0m                             Traceback (most recent call last)",
      "File \u001b[1;32m~\\anaconda3\\envs\\projet7\\lib\\site-packages\\requests\\adapters.py:667\u001b[0m, in \u001b[0;36mHTTPAdapter.send\u001b[1;34m(self, request, stream, timeout, verify, cert, proxies)\u001b[0m\n\u001b[0;32m    666\u001b[0m \u001b[38;5;28;01mtry\u001b[39;00m:\n\u001b[1;32m--> 667\u001b[0m     resp \u001b[38;5;241m=\u001b[39m \u001b[43mconn\u001b[49m\u001b[38;5;241;43m.\u001b[39;49m\u001b[43murlopen\u001b[49m\u001b[43m(\u001b[49m\n\u001b[0;32m    668\u001b[0m \u001b[43m        \u001b[49m\u001b[43mmethod\u001b[49m\u001b[38;5;241;43m=\u001b[39;49m\u001b[43mrequest\u001b[49m\u001b[38;5;241;43m.\u001b[39;49m\u001b[43mmethod\u001b[49m\u001b[43m,\u001b[49m\n\u001b[0;32m    669\u001b[0m \u001b[43m        \u001b[49m\u001b[43murl\u001b[49m\u001b[38;5;241;43m=\u001b[39;49m\u001b[43murl\u001b[49m\u001b[43m,\u001b[49m\n\u001b[0;32m    670\u001b[0m \u001b[43m        \u001b[49m\u001b[43mbody\u001b[49m\u001b[38;5;241;43m=\u001b[39;49m\u001b[43mrequest\u001b[49m\u001b[38;5;241;43m.\u001b[39;49m\u001b[43mbody\u001b[49m\u001b[43m,\u001b[49m\n\u001b[0;32m    671\u001b[0m \u001b[43m        \u001b[49m\u001b[43mheaders\u001b[49m\u001b[38;5;241;43m=\u001b[39;49m\u001b[43mrequest\u001b[49m\u001b[38;5;241;43m.\u001b[39;49m\u001b[43mheaders\u001b[49m\u001b[43m,\u001b[49m\n\u001b[0;32m    672\u001b[0m \u001b[43m        \u001b[49m\u001b[43mredirect\u001b[49m\u001b[38;5;241;43m=\u001b[39;49m\u001b[38;5;28;43;01mFalse\u001b[39;49;00m\u001b[43m,\u001b[49m\n\u001b[0;32m    673\u001b[0m \u001b[43m        \u001b[49m\u001b[43massert_same_host\u001b[49m\u001b[38;5;241;43m=\u001b[39;49m\u001b[38;5;28;43;01mFalse\u001b[39;49;00m\u001b[43m,\u001b[49m\n\u001b[0;32m    674\u001b[0m \u001b[43m        \u001b[49m\u001b[43mpreload_content\u001b[49m\u001b[38;5;241;43m=\u001b[39;49m\u001b[38;5;28;43;01mFalse\u001b[39;49;00m\u001b[43m,\u001b[49m\n\u001b[0;32m    675\u001b[0m \u001b[43m        \u001b[49m\u001b[43mdecode_content\u001b[49m\u001b[38;5;241;43m=\u001b[39;49m\u001b[38;5;28;43;01mFalse\u001b[39;49;00m\u001b[43m,\u001b[49m\n\u001b[0;32m    676\u001b[0m \u001b[43m        \u001b[49m\u001b[43mretries\u001b[49m\u001b[38;5;241;43m=\u001b[39;49m\u001b[38;5;28;43mself\u001b[39;49m\u001b[38;5;241;43m.\u001b[39;49m\u001b[43mmax_retries\u001b[49m\u001b[43m,\u001b[49m\n\u001b[0;32m    677\u001b[0m \u001b[43m        \u001b[49m\u001b[43mtimeout\u001b[49m\u001b[38;5;241;43m=\u001b[39;49m\u001b[43mtimeout\u001b[49m\u001b[43m,\u001b[49m\n\u001b[0;32m    678\u001b[0m \u001b[43m        \u001b[49m\u001b[43mchunked\u001b[49m\u001b[38;5;241;43m=\u001b[39;49m\u001b[43mchunked\u001b[49m\u001b[43m,\u001b[49m\n\u001b[0;32m    679\u001b[0m \u001b[43m    \u001b[49m\u001b[43m)\u001b[49m\n\u001b[0;32m    681\u001b[0m \u001b[38;5;28;01mexcept\u001b[39;00m (ProtocolError, \u001b[38;5;167;01mOSError\u001b[39;00m) \u001b[38;5;28;01mas\u001b[39;00m err:\n",
      "File \u001b[1;32m~\\anaconda3\\envs\\projet7\\lib\\site-packages\\urllib3\\connectionpool.py:873\u001b[0m, in \u001b[0;36mHTTPConnectionPool.urlopen\u001b[1;34m(self, method, url, body, headers, retries, redirect, assert_same_host, timeout, pool_timeout, release_conn, chunked, body_pos, preload_content, decode_content, **response_kw)\u001b[0m\n\u001b[0;32m    870\u001b[0m     log\u001b[38;5;241m.\u001b[39mwarning(\n\u001b[0;32m    871\u001b[0m         \u001b[38;5;124m\"\u001b[39m\u001b[38;5;124mRetrying (\u001b[39m\u001b[38;5;132;01m%r\u001b[39;00m\u001b[38;5;124m) after connection broken by \u001b[39m\u001b[38;5;124m'\u001b[39m\u001b[38;5;132;01m%r\u001b[39;00m\u001b[38;5;124m'\u001b[39m\u001b[38;5;124m: \u001b[39m\u001b[38;5;132;01m%s\u001b[39;00m\u001b[38;5;124m\"\u001b[39m, retries, err, url\n\u001b[0;32m    872\u001b[0m     )\n\u001b[1;32m--> 873\u001b[0m     \u001b[38;5;28;01mreturn\u001b[39;00m \u001b[38;5;28mself\u001b[39m\u001b[38;5;241m.\u001b[39murlopen(\n\u001b[0;32m    874\u001b[0m         method,\n\u001b[0;32m    875\u001b[0m         url,\n\u001b[0;32m    876\u001b[0m         body,\n\u001b[0;32m    877\u001b[0m         headers,\n\u001b[0;32m    878\u001b[0m         retries,\n\u001b[0;32m    879\u001b[0m         redirect,\n\u001b[0;32m    880\u001b[0m         assert_same_host,\n\u001b[0;32m    881\u001b[0m         timeout\u001b[38;5;241m=\u001b[39mtimeout,\n\u001b[0;32m    882\u001b[0m         pool_timeout\u001b[38;5;241m=\u001b[39mpool_timeout,\n\u001b[0;32m    883\u001b[0m         release_conn\u001b[38;5;241m=\u001b[39mrelease_conn,\n\u001b[0;32m    884\u001b[0m         chunked\u001b[38;5;241m=\u001b[39mchunked,\n\u001b[0;32m    885\u001b[0m         body_pos\u001b[38;5;241m=\u001b[39mbody_pos,\n\u001b[0;32m    886\u001b[0m         preload_content\u001b[38;5;241m=\u001b[39mpreload_content,\n\u001b[0;32m    887\u001b[0m         decode_content\u001b[38;5;241m=\u001b[39mdecode_content,\n\u001b[0;32m    888\u001b[0m         \u001b[38;5;241m*\u001b[39m\u001b[38;5;241m*\u001b[39mresponse_kw,\n\u001b[0;32m    889\u001b[0m     )\n\u001b[0;32m    891\u001b[0m \u001b[38;5;66;03m# Handle redirect?\u001b[39;00m\n",
      "File \u001b[1;32m~\\anaconda3\\envs\\projet7\\lib\\site-packages\\urllib3\\connectionpool.py:873\u001b[0m, in \u001b[0;36mHTTPConnectionPool.urlopen\u001b[1;34m(self, method, url, body, headers, retries, redirect, assert_same_host, timeout, pool_timeout, release_conn, chunked, body_pos, preload_content, decode_content, **response_kw)\u001b[0m\n\u001b[0;32m    870\u001b[0m     log\u001b[38;5;241m.\u001b[39mwarning(\n\u001b[0;32m    871\u001b[0m         \u001b[38;5;124m\"\u001b[39m\u001b[38;5;124mRetrying (\u001b[39m\u001b[38;5;132;01m%r\u001b[39;00m\u001b[38;5;124m) after connection broken by \u001b[39m\u001b[38;5;124m'\u001b[39m\u001b[38;5;132;01m%r\u001b[39;00m\u001b[38;5;124m'\u001b[39m\u001b[38;5;124m: \u001b[39m\u001b[38;5;132;01m%s\u001b[39;00m\u001b[38;5;124m\"\u001b[39m, retries, err, url\n\u001b[0;32m    872\u001b[0m     )\n\u001b[1;32m--> 873\u001b[0m     \u001b[38;5;28;01mreturn\u001b[39;00m \u001b[38;5;28mself\u001b[39m\u001b[38;5;241m.\u001b[39murlopen(\n\u001b[0;32m    874\u001b[0m         method,\n\u001b[0;32m    875\u001b[0m         url,\n\u001b[0;32m    876\u001b[0m         body,\n\u001b[0;32m    877\u001b[0m         headers,\n\u001b[0;32m    878\u001b[0m         retries,\n\u001b[0;32m    879\u001b[0m         redirect,\n\u001b[0;32m    880\u001b[0m         assert_same_host,\n\u001b[0;32m    881\u001b[0m         timeout\u001b[38;5;241m=\u001b[39mtimeout,\n\u001b[0;32m    882\u001b[0m         pool_timeout\u001b[38;5;241m=\u001b[39mpool_timeout,\n\u001b[0;32m    883\u001b[0m         release_conn\u001b[38;5;241m=\u001b[39mrelease_conn,\n\u001b[0;32m    884\u001b[0m         chunked\u001b[38;5;241m=\u001b[39mchunked,\n\u001b[0;32m    885\u001b[0m         body_pos\u001b[38;5;241m=\u001b[39mbody_pos,\n\u001b[0;32m    886\u001b[0m         preload_content\u001b[38;5;241m=\u001b[39mpreload_content,\n\u001b[0;32m    887\u001b[0m         decode_content\u001b[38;5;241m=\u001b[39mdecode_content,\n\u001b[0;32m    888\u001b[0m         \u001b[38;5;241m*\u001b[39m\u001b[38;5;241m*\u001b[39mresponse_kw,\n\u001b[0;32m    889\u001b[0m     )\n\u001b[0;32m    891\u001b[0m \u001b[38;5;66;03m# Handle redirect?\u001b[39;00m\n",
      "    \u001b[1;31m[... skipping similar frames: HTTPConnectionPool.urlopen at line 873 (2 times)]\u001b[0m\n",
      "File \u001b[1;32m~\\anaconda3\\envs\\projet7\\lib\\site-packages\\urllib3\\connectionpool.py:873\u001b[0m, in \u001b[0;36mHTTPConnectionPool.urlopen\u001b[1;34m(self, method, url, body, headers, retries, redirect, assert_same_host, timeout, pool_timeout, release_conn, chunked, body_pos, preload_content, decode_content, **response_kw)\u001b[0m\n\u001b[0;32m    870\u001b[0m     log\u001b[38;5;241m.\u001b[39mwarning(\n\u001b[0;32m    871\u001b[0m         \u001b[38;5;124m\"\u001b[39m\u001b[38;5;124mRetrying (\u001b[39m\u001b[38;5;132;01m%r\u001b[39;00m\u001b[38;5;124m) after connection broken by \u001b[39m\u001b[38;5;124m'\u001b[39m\u001b[38;5;132;01m%r\u001b[39;00m\u001b[38;5;124m'\u001b[39m\u001b[38;5;124m: \u001b[39m\u001b[38;5;132;01m%s\u001b[39;00m\u001b[38;5;124m\"\u001b[39m, retries, err, url\n\u001b[0;32m    872\u001b[0m     )\n\u001b[1;32m--> 873\u001b[0m     \u001b[38;5;28;01mreturn\u001b[39;00m \u001b[38;5;28mself\u001b[39m\u001b[38;5;241m.\u001b[39murlopen(\n\u001b[0;32m    874\u001b[0m         method,\n\u001b[0;32m    875\u001b[0m         url,\n\u001b[0;32m    876\u001b[0m         body,\n\u001b[0;32m    877\u001b[0m         headers,\n\u001b[0;32m    878\u001b[0m         retries,\n\u001b[0;32m    879\u001b[0m         redirect,\n\u001b[0;32m    880\u001b[0m         assert_same_host,\n\u001b[0;32m    881\u001b[0m         timeout\u001b[38;5;241m=\u001b[39mtimeout,\n\u001b[0;32m    882\u001b[0m         pool_timeout\u001b[38;5;241m=\u001b[39mpool_timeout,\n\u001b[0;32m    883\u001b[0m         release_conn\u001b[38;5;241m=\u001b[39mrelease_conn,\n\u001b[0;32m    884\u001b[0m         chunked\u001b[38;5;241m=\u001b[39mchunked,\n\u001b[0;32m    885\u001b[0m         body_pos\u001b[38;5;241m=\u001b[39mbody_pos,\n\u001b[0;32m    886\u001b[0m         preload_content\u001b[38;5;241m=\u001b[39mpreload_content,\n\u001b[0;32m    887\u001b[0m         decode_content\u001b[38;5;241m=\u001b[39mdecode_content,\n\u001b[0;32m    888\u001b[0m         \u001b[38;5;241m*\u001b[39m\u001b[38;5;241m*\u001b[39mresponse_kw,\n\u001b[0;32m    889\u001b[0m     )\n\u001b[0;32m    891\u001b[0m \u001b[38;5;66;03m# Handle redirect?\u001b[39;00m\n",
      "File \u001b[1;32m~\\anaconda3\\envs\\projet7\\lib\\site-packages\\urllib3\\connectionpool.py:843\u001b[0m, in \u001b[0;36mHTTPConnectionPool.urlopen\u001b[1;34m(self, method, url, body, headers, retries, redirect, assert_same_host, timeout, pool_timeout, release_conn, chunked, body_pos, preload_content, decode_content, **response_kw)\u001b[0m\n\u001b[0;32m    841\u001b[0m     new_e \u001b[38;5;241m=\u001b[39m ProtocolError(\u001b[38;5;124m\"\u001b[39m\u001b[38;5;124mConnection aborted.\u001b[39m\u001b[38;5;124m\"\u001b[39m, new_e)\n\u001b[1;32m--> 843\u001b[0m retries \u001b[38;5;241m=\u001b[39m \u001b[43mretries\u001b[49m\u001b[38;5;241;43m.\u001b[39;49m\u001b[43mincrement\u001b[49m\u001b[43m(\u001b[49m\n\u001b[0;32m    844\u001b[0m \u001b[43m    \u001b[49m\u001b[43mmethod\u001b[49m\u001b[43m,\u001b[49m\u001b[43m \u001b[49m\u001b[43murl\u001b[49m\u001b[43m,\u001b[49m\u001b[43m \u001b[49m\u001b[43merror\u001b[49m\u001b[38;5;241;43m=\u001b[39;49m\u001b[43mnew_e\u001b[49m\u001b[43m,\u001b[49m\u001b[43m \u001b[49m\u001b[43m_pool\u001b[49m\u001b[38;5;241;43m=\u001b[39;49m\u001b[38;5;28;43mself\u001b[39;49m\u001b[43m,\u001b[49m\u001b[43m \u001b[49m\u001b[43m_stacktrace\u001b[49m\u001b[38;5;241;43m=\u001b[39;49m\u001b[43msys\u001b[49m\u001b[38;5;241;43m.\u001b[39;49m\u001b[43mexc_info\u001b[49m\u001b[43m(\u001b[49m\u001b[43m)\u001b[49m\u001b[43m[\u001b[49m\u001b[38;5;241;43m2\u001b[39;49m\u001b[43m]\u001b[49m\n\u001b[0;32m    845\u001b[0m \u001b[43m\u001b[49m\u001b[43m)\u001b[49m\n\u001b[0;32m    846\u001b[0m retries\u001b[38;5;241m.\u001b[39msleep()\n",
      "File \u001b[1;32m~\\anaconda3\\envs\\projet7\\lib\\site-packages\\urllib3\\util\\retry.py:519\u001b[0m, in \u001b[0;36mRetry.increment\u001b[1;34m(self, method, url, response, error, _pool, _stacktrace)\u001b[0m\n\u001b[0;32m    518\u001b[0m     reason \u001b[38;5;241m=\u001b[39m error \u001b[38;5;129;01mor\u001b[39;00m ResponseError(cause)\n\u001b[1;32m--> 519\u001b[0m     \u001b[38;5;28;01mraise\u001b[39;00m MaxRetryError(_pool, url, reason) \u001b[38;5;28;01mfrom\u001b[39;00m \u001b[38;5;21;01mreason\u001b[39;00m  \u001b[38;5;66;03m# type: ignore[arg-type]\u001b[39;00m\n\u001b[0;32m    521\u001b[0m log\u001b[38;5;241m.\u001b[39mdebug(\u001b[38;5;124m\"\u001b[39m\u001b[38;5;124mIncremented Retry for (url=\u001b[39m\u001b[38;5;124m'\u001b[39m\u001b[38;5;132;01m%s\u001b[39;00m\u001b[38;5;124m'\u001b[39m\u001b[38;5;124m): \u001b[39m\u001b[38;5;132;01m%r\u001b[39;00m\u001b[38;5;124m\"\u001b[39m, url, new_retry)\n",
      "\u001b[1;31mMaxRetryError\u001b[0m: HTTPConnectionPool(host='127.0.0.1', port=5000): Max retries exceeded with url: /api/2.0/mlflow/experiments/get-by-name?experiment_name=P7_score_cost (Caused by NewConnectionError('<urllib3.connection.HTTPConnection object at 0x00000226F5337250>: Failed to establish a new connection: [WinError 10061] Aucune connexion n’a pu être établie car l’ordinateur cible l’a expressément refusée'))",
      "\nDuring handling of the above exception, another exception occurred:\n",
      "\u001b[1;31mConnectionError\u001b[0m                           Traceback (most recent call last)",
      "File \u001b[1;32m~\\anaconda3\\envs\\projet7\\lib\\site-packages\\mlflow\\utils\\rest_utils.py:189\u001b[0m, in \u001b[0;36mhttp_request\u001b[1;34m(host_creds, endpoint, method, max_retries, backoff_factor, backoff_jitter, extra_headers, retry_codes, timeout, raise_on_status, respect_retry_after_header, **kwargs)\u001b[0m\n\u001b[0;32m    188\u001b[0m \u001b[38;5;28;01mtry\u001b[39;00m:\n\u001b[1;32m--> 189\u001b[0m     \u001b[38;5;28;01mreturn\u001b[39;00m _get_http_response_with_retries(\n\u001b[0;32m    190\u001b[0m         method,\n\u001b[0;32m    191\u001b[0m         url,\n\u001b[0;32m    192\u001b[0m         max_retries,\n\u001b[0;32m    193\u001b[0m         backoff_factor,\n\u001b[0;32m    194\u001b[0m         backoff_jitter,\n\u001b[0;32m    195\u001b[0m         retry_codes,\n\u001b[0;32m    196\u001b[0m         raise_on_status,\n\u001b[0;32m    197\u001b[0m         headers\u001b[38;5;241m=\u001b[39mheaders,\n\u001b[0;32m    198\u001b[0m         verify\u001b[38;5;241m=\u001b[39mhost_creds\u001b[38;5;241m.\u001b[39mverify,\n\u001b[0;32m    199\u001b[0m         timeout\u001b[38;5;241m=\u001b[39mtimeout,\n\u001b[0;32m    200\u001b[0m         respect_retry_after_header\u001b[38;5;241m=\u001b[39mrespect_retry_after_header,\n\u001b[0;32m    201\u001b[0m         \u001b[38;5;241m*\u001b[39m\u001b[38;5;241m*\u001b[39mkwargs,\n\u001b[0;32m    202\u001b[0m     )\n\u001b[0;32m    203\u001b[0m \u001b[38;5;28;01mexcept\u001b[39;00m requests\u001b[38;5;241m.\u001b[39mexceptions\u001b[38;5;241m.\u001b[39mTimeout \u001b[38;5;28;01mas\u001b[39;00m to:\n",
      "File \u001b[1;32m~\\anaconda3\\envs\\projet7\\lib\\site-packages\\mlflow\\utils\\request_utils.py:237\u001b[0m, in \u001b[0;36m_get_http_response_with_retries\u001b[1;34m(method, url, max_retries, backoff_factor, backoff_jitter, retry_codes, raise_on_status, allow_redirects, respect_retry_after_header, **kwargs)\u001b[0m\n\u001b[0;32m    235\u001b[0m allow_redirects \u001b[38;5;241m=\u001b[39m env_value \u001b[38;5;28;01mif\u001b[39;00m allow_redirects \u001b[38;5;129;01mis\u001b[39;00m \u001b[38;5;28;01mNone\u001b[39;00m \u001b[38;5;28;01melse\u001b[39;00m allow_redirects\n\u001b[1;32m--> 237\u001b[0m \u001b[38;5;28;01mreturn\u001b[39;00m session\u001b[38;5;241m.\u001b[39mrequest(method, url, allow_redirects\u001b[38;5;241m=\u001b[39mallow_redirects, \u001b[38;5;241m*\u001b[39m\u001b[38;5;241m*\u001b[39mkwargs)\n",
      "File \u001b[1;32m~\\anaconda3\\envs\\projet7\\lib\\site-packages\\requests\\sessions.py:589\u001b[0m, in \u001b[0;36mSession.request\u001b[1;34m(self, method, url, params, data, headers, cookies, files, auth, timeout, allow_redirects, proxies, hooks, stream, verify, cert, json)\u001b[0m\n\u001b[0;32m    588\u001b[0m send_kwargs\u001b[38;5;241m.\u001b[39mupdate(settings)\n\u001b[1;32m--> 589\u001b[0m resp \u001b[38;5;241m=\u001b[39m \u001b[38;5;28mself\u001b[39m\u001b[38;5;241m.\u001b[39msend(prep, \u001b[38;5;241m*\u001b[39m\u001b[38;5;241m*\u001b[39msend_kwargs)\n\u001b[0;32m    591\u001b[0m \u001b[38;5;28;01mreturn\u001b[39;00m resp\n",
      "File \u001b[1;32m~\\anaconda3\\envs\\projet7\\lib\\site-packages\\requests\\sessions.py:703\u001b[0m, in \u001b[0;36mSession.send\u001b[1;34m(self, request, **kwargs)\u001b[0m\n\u001b[0;32m    702\u001b[0m \u001b[38;5;66;03m# Send the request\u001b[39;00m\n\u001b[1;32m--> 703\u001b[0m r \u001b[38;5;241m=\u001b[39m adapter\u001b[38;5;241m.\u001b[39msend(request, \u001b[38;5;241m*\u001b[39m\u001b[38;5;241m*\u001b[39mkwargs)\n\u001b[0;32m    705\u001b[0m \u001b[38;5;66;03m# Total elapsed time of the request (approximately)\u001b[39;00m\n",
      "File \u001b[1;32m~\\anaconda3\\envs\\projet7\\lib\\site-packages\\requests\\adapters.py:700\u001b[0m, in \u001b[0;36mHTTPAdapter.send\u001b[1;34m(self, request, stream, timeout, verify, cert, proxies)\u001b[0m\n\u001b[0;32m    698\u001b[0m         \u001b[38;5;28;01mraise\u001b[39;00m SSLError(e, request\u001b[38;5;241m=\u001b[39mrequest)\n\u001b[1;32m--> 700\u001b[0m     \u001b[38;5;28;01mraise\u001b[39;00m \u001b[38;5;167;01mConnectionError\u001b[39;00m(e, request\u001b[38;5;241m=\u001b[39mrequest)\n\u001b[0;32m    702\u001b[0m \u001b[38;5;28;01mexcept\u001b[39;00m ClosedPoolError \u001b[38;5;28;01mas\u001b[39;00m e:\n",
      "\u001b[1;31mConnectionError\u001b[0m: HTTPConnectionPool(host='127.0.0.1', port=5000): Max retries exceeded with url: /api/2.0/mlflow/experiments/get-by-name?experiment_name=P7_score_cost (Caused by NewConnectionError('<urllib3.connection.HTTPConnection object at 0x00000226F5337250>: Failed to establish a new connection: [WinError 10061] Aucune connexion n’a pu être établie car l’ordinateur cible l’a expressément refusée'))",
      "\nDuring handling of the above exception, another exception occurred:\n",
      "\u001b[1;31mMlflowException\u001b[0m                           Traceback (most recent call last)",
      "Cell \u001b[1;32mIn[11], line 2\u001b[0m\n\u001b[0;32m      1\u001b[0m experiment_name\u001b[38;5;241m=\u001b[39m\u001b[38;5;124m\"\u001b[39m\u001b[38;5;124mP7_score_cost\u001b[39m\u001b[38;5;124m\"\u001b[39m\n\u001b[1;32m----> 2\u001b[0m \u001b[43mmlflow\u001b[49m\u001b[38;5;241;43m.\u001b[39;49m\u001b[43mset_experiment\u001b[49m\u001b[43m(\u001b[49m\u001b[43mexperiment_name\u001b[49m\u001b[43m)\u001b[49m\n",
      "File \u001b[1;32m~\\anaconda3\\envs\\projet7\\lib\\site-packages\\mlflow\\tracking\\fluent.py:157\u001b[0m, in \u001b[0;36mset_experiment\u001b[1;34m(experiment_name, experiment_id)\u001b[0m\n\u001b[0;32m    155\u001b[0m \u001b[38;5;28;01mwith\u001b[39;00m _experiment_lock:\n\u001b[0;32m    156\u001b[0m     \u001b[38;5;28;01mif\u001b[39;00m experiment_id \u001b[38;5;129;01mis\u001b[39;00m \u001b[38;5;28;01mNone\u001b[39;00m:\n\u001b[1;32m--> 157\u001b[0m         experiment \u001b[38;5;241m=\u001b[39m \u001b[43mclient\u001b[49m\u001b[38;5;241;43m.\u001b[39;49m\u001b[43mget_experiment_by_name\u001b[49m\u001b[43m(\u001b[49m\u001b[43mexperiment_name\u001b[49m\u001b[43m)\u001b[49m\n\u001b[0;32m    158\u001b[0m         \u001b[38;5;28;01mif\u001b[39;00m \u001b[38;5;129;01mnot\u001b[39;00m experiment:\n\u001b[0;32m    159\u001b[0m             \u001b[38;5;28;01mtry\u001b[39;00m:\n",
      "File \u001b[1;32m~\\anaconda3\\envs\\projet7\\lib\\site-packages\\mlflow\\tracking\\client.py:1257\u001b[0m, in \u001b[0;36mMlflowClient.get_experiment_by_name\u001b[1;34m(self, name)\u001b[0m\n\u001b[0;32m   1225\u001b[0m \u001b[38;5;28;01mdef\u001b[39;00m \u001b[38;5;21mget_experiment_by_name\u001b[39m(\u001b[38;5;28mself\u001b[39m, name: \u001b[38;5;28mstr\u001b[39m) \u001b[38;5;241m-\u001b[39m\u001b[38;5;241m>\u001b[39m Optional[Experiment]:\n\u001b[0;32m   1226\u001b[0m \u001b[38;5;250m    \u001b[39m\u001b[38;5;124;03m\"\"\"Retrieve an experiment by experiment name from the backend store\u001b[39;00m\n\u001b[0;32m   1227\u001b[0m \n\u001b[0;32m   1228\u001b[0m \u001b[38;5;124;03m    Args:\u001b[39;00m\n\u001b[1;32m   (...)\u001b[0m\n\u001b[0;32m   1255\u001b[0m \u001b[38;5;124;03m        Lifecycle_stage: active\u001b[39;00m\n\u001b[0;32m   1256\u001b[0m \u001b[38;5;124;03m    \"\"\"\u001b[39;00m\n\u001b[1;32m-> 1257\u001b[0m     \u001b[38;5;28;01mreturn\u001b[39;00m \u001b[38;5;28;43mself\u001b[39;49m\u001b[38;5;241;43m.\u001b[39;49m\u001b[43m_tracking_client\u001b[49m\u001b[38;5;241;43m.\u001b[39;49m\u001b[43mget_experiment_by_name\u001b[49m\u001b[43m(\u001b[49m\u001b[43mname\u001b[49m\u001b[43m)\u001b[49m\n",
      "File \u001b[1;32m~\\anaconda3\\envs\\projet7\\lib\\site-packages\\mlflow\\tracking\\_tracking_service\\client.py:502\u001b[0m, in \u001b[0;36mTrackingServiceClient.get_experiment_by_name\u001b[1;34m(self, name)\u001b[0m\n\u001b[0;32m    494\u001b[0m \u001b[38;5;28;01mdef\u001b[39;00m \u001b[38;5;21mget_experiment_by_name\u001b[39m(\u001b[38;5;28mself\u001b[39m, name):\n\u001b[0;32m    495\u001b[0m \u001b[38;5;250m    \u001b[39m\u001b[38;5;124;03m\"\"\"\u001b[39;00m\n\u001b[0;32m    496\u001b[0m \u001b[38;5;124;03m    Args:\u001b[39;00m\n\u001b[0;32m    497\u001b[0m \u001b[38;5;124;03m        name: The experiment name.\u001b[39;00m\n\u001b[1;32m   (...)\u001b[0m\n\u001b[0;32m    500\u001b[0m \u001b[38;5;124;03m        :py:class:`mlflow.entities.Experiment`\u001b[39;00m\n\u001b[0;32m    501\u001b[0m \u001b[38;5;124;03m    \"\"\"\u001b[39;00m\n\u001b[1;32m--> 502\u001b[0m     \u001b[38;5;28;01mreturn\u001b[39;00m \u001b[38;5;28;43mself\u001b[39;49m\u001b[38;5;241;43m.\u001b[39;49m\u001b[43mstore\u001b[49m\u001b[38;5;241;43m.\u001b[39;49m\u001b[43mget_experiment_by_name\u001b[49m\u001b[43m(\u001b[49m\u001b[43mname\u001b[49m\u001b[43m)\u001b[49m\n",
      "File \u001b[1;32m~\\anaconda3\\envs\\projet7\\lib\\site-packages\\mlflow\\store\\tracking\\rest_store.py:522\u001b[0m, in \u001b[0;36mRestStore.get_experiment_by_name\u001b[1;34m(self, experiment_name)\u001b[0m\n\u001b[0;32m    520\u001b[0m \u001b[38;5;28;01mtry\u001b[39;00m:\n\u001b[0;32m    521\u001b[0m     req_body \u001b[38;5;241m=\u001b[39m message_to_json(GetExperimentByName(experiment_name\u001b[38;5;241m=\u001b[39mexperiment_name))\n\u001b[1;32m--> 522\u001b[0m     response_proto \u001b[38;5;241m=\u001b[39m \u001b[38;5;28;43mself\u001b[39;49m\u001b[38;5;241;43m.\u001b[39;49m\u001b[43m_call_endpoint\u001b[49m\u001b[43m(\u001b[49m\u001b[43mGetExperimentByName\u001b[49m\u001b[43m,\u001b[49m\u001b[43m \u001b[49m\u001b[43mreq_body\u001b[49m\u001b[43m)\u001b[49m\n\u001b[0;32m    523\u001b[0m     \u001b[38;5;28;01mreturn\u001b[39;00m Experiment\u001b[38;5;241m.\u001b[39mfrom_proto(response_proto\u001b[38;5;241m.\u001b[39mexperiment)\n\u001b[0;32m    524\u001b[0m \u001b[38;5;28;01mexcept\u001b[39;00m MlflowException \u001b[38;5;28;01mas\u001b[39;00m e:\n",
      "File \u001b[1;32m~\\anaconda3\\envs\\projet7\\lib\\site-packages\\mlflow\\store\\tracking\\rest_store.py:82\u001b[0m, in \u001b[0;36mRestStore._call_endpoint\u001b[1;34m(self, api, json_body, endpoint)\u001b[0m\n\u001b[0;32m     80\u001b[0m     endpoint, method \u001b[38;5;241m=\u001b[39m _METHOD_TO_INFO[api]\n\u001b[0;32m     81\u001b[0m response_proto \u001b[38;5;241m=\u001b[39m api\u001b[38;5;241m.\u001b[39mResponse()\n\u001b[1;32m---> 82\u001b[0m \u001b[38;5;28;01mreturn\u001b[39;00m \u001b[43mcall_endpoint\u001b[49m\u001b[43m(\u001b[49m\u001b[38;5;28;43mself\u001b[39;49m\u001b[38;5;241;43m.\u001b[39;49m\u001b[43mget_host_creds\u001b[49m\u001b[43m(\u001b[49m\u001b[43m)\u001b[49m\u001b[43m,\u001b[49m\u001b[43m \u001b[49m\u001b[43mendpoint\u001b[49m\u001b[43m,\u001b[49m\u001b[43m \u001b[49m\u001b[43mmethod\u001b[49m\u001b[43m,\u001b[49m\u001b[43m \u001b[49m\u001b[43mjson_body\u001b[49m\u001b[43m,\u001b[49m\u001b[43m \u001b[49m\u001b[43mresponse_proto\u001b[49m\u001b[43m)\u001b[49m\n",
      "File \u001b[1;32m~\\anaconda3\\envs\\projet7\\lib\\site-packages\\mlflow\\utils\\rest_utils.py:365\u001b[0m, in \u001b[0;36mcall_endpoint\u001b[1;34m(host_creds, endpoint, method, json_body, response_proto, extra_headers)\u001b[0m\n\u001b[0;32m    363\u001b[0m \u001b[38;5;28;01mif\u001b[39;00m method \u001b[38;5;241m==\u001b[39m \u001b[38;5;124m\"\u001b[39m\u001b[38;5;124mGET\u001b[39m\u001b[38;5;124m\"\u001b[39m:\n\u001b[0;32m    364\u001b[0m     call_kwargs[\u001b[38;5;124m\"\u001b[39m\u001b[38;5;124mparams\u001b[39m\u001b[38;5;124m\"\u001b[39m] \u001b[38;5;241m=\u001b[39m json_body\n\u001b[1;32m--> 365\u001b[0m     response \u001b[38;5;241m=\u001b[39m http_request(\u001b[38;5;241m*\u001b[39m\u001b[38;5;241m*\u001b[39mcall_kwargs)\n\u001b[0;32m    366\u001b[0m \u001b[38;5;28;01melse\u001b[39;00m:\n\u001b[0;32m    367\u001b[0m     call_kwargs[\u001b[38;5;124m\"\u001b[39m\u001b[38;5;124mjson\u001b[39m\u001b[38;5;124m\"\u001b[39m] \u001b[38;5;241m=\u001b[39m json_body\n",
      "File \u001b[1;32m~\\anaconda3\\envs\\projet7\\lib\\site-packages\\mlflow\\utils\\rest_utils.py:212\u001b[0m, in \u001b[0;36mhttp_request\u001b[1;34m(host_creds, endpoint, method, max_retries, backoff_factor, backoff_jitter, extra_headers, retry_codes, timeout, raise_on_status, respect_retry_after_header, **kwargs)\u001b[0m\n\u001b[0;32m    210\u001b[0m     \u001b[38;5;28;01mraise\u001b[39;00m InvalidUrlException(\u001b[38;5;124mf\u001b[39m\u001b[38;5;124m\"\u001b[39m\u001b[38;5;124mInvalid url: \u001b[39m\u001b[38;5;132;01m{\u001b[39;00murl\u001b[38;5;132;01m}\u001b[39;00m\u001b[38;5;124m\"\u001b[39m) \u001b[38;5;28;01mfrom\u001b[39;00m \u001b[38;5;21;01miu\u001b[39;00m\n\u001b[0;32m    211\u001b[0m \u001b[38;5;28;01mexcept\u001b[39;00m \u001b[38;5;167;01mException\u001b[39;00m \u001b[38;5;28;01mas\u001b[39;00m e:\n\u001b[1;32m--> 212\u001b[0m     \u001b[38;5;28;01mraise\u001b[39;00m MlflowException(\u001b[38;5;124mf\u001b[39m\u001b[38;5;124m\"\u001b[39m\u001b[38;5;124mAPI request to \u001b[39m\u001b[38;5;132;01m{\u001b[39;00murl\u001b[38;5;132;01m}\u001b[39;00m\u001b[38;5;124m failed with exception \u001b[39m\u001b[38;5;132;01m{\u001b[39;00me\u001b[38;5;132;01m}\u001b[39;00m\u001b[38;5;124m\"\u001b[39m)\n",
      "\u001b[1;31mMlflowException\u001b[0m: API request to http://127.0.0.1:5000/api/2.0/mlflow/experiments/get-by-name failed with exception HTTPConnectionPool(host='127.0.0.1', port=5000): Max retries exceeded with url: /api/2.0/mlflow/experiments/get-by-name?experiment_name=P7_score_cost (Caused by NewConnectionError('<urllib3.connection.HTTPConnection object at 0x00000226F5337250>: Failed to establish a new connection: [WinError 10061] Aucune connexion n’a pu être établie car l’ordinateur cible l’a expressément refusée'))"
     ]
    }
   ],
   "source": [
    "experiment_name=\"P7_score_cost\"\n",
    "mlflow.set_experiment(experiment_name)"
   ]
  },
  {
   "cell_type": "markdown",
   "id": "7c38e79b-2b1c-4752-b988-ce31da95d7d1",
   "metadata": {},
   "source": [
    "## baseline"
   ]
  },
  {
   "cell_type": "markdown",
   "id": "577a35fa-67cf-4f1e-af33-76199437887c",
   "metadata": {},
   "source": [
    "### régression logistique"
   ]
  },
  {
   "cell_type": "code",
   "execution_count": null,
   "id": "15ff43f4-a97a-4927-bf97-96b156b9720a",
   "metadata": {},
   "outputs": [],
   "source": [
    "# Démarrer une run MLflow\n",
    "with mlflow.start_run() as run:\n",
    "    # Enregistrer les paramètres du modèle\n",
    "    mlflow.log_param(\"model_type\", \"Logistic Regression\")\n",
    "\n",
    "    # Initialiser et entraîner le modèle\n",
    "    model = LogisticRegression(random_state=42, class_weight='balanced', max_iter=1000)\n",
    "    model.fit(X_train, y_train)\n",
    "\n",
    "    # Enregistrer les métriques\n",
    "    y_pred_prob = model.predict_proba(X_test)[:, 1]\n",
    "    auc = roc_auc_score(y_test, y_pred_prob)\n",
    "    mlflow.log_metric(\"auc\", auc)\n",
    "\n",
    "    # Enregistrer le modèle avec un exemple d'entrée pour la signature\n",
    "    signature = mlflow.models.infer_signature(X_train, model.predict_proba(X_train))\n",
    "    mlflow.sklearn.log_model(model, \"model\", signature=signature)\n",
    "\n",
    "    # Enregistrer le modèle dans le Model Registry\n",
    "    model_uri = f\"runs:/{run.info.run_id}/model\"\n",
    "    mlflow.register_model(model_uri, \"LR_simple_déséquilibré\")"
   ]
  },
  {
   "cell_type": "markdown",
   "id": "66a3818c-34f1-45b3-bdd4-e89a0f1fd874",
   "metadata": {},
   "source": [
    "### utilisation du score cost"
   ]
  },
  {
   "cell_type": "code",
   "execution_count": null,
   "id": "d4569d1d-3f14-45b2-ae1b-ee8d81d691e4",
   "metadata": {},
   "outputs": [],
   "source": [
    "# Démarrer une run MLflow\n",
    "with mlflow.start_run() as run:\n",
    "    # Enregistrer les paramètres du modèle\n",
    "    mlflow.log_param(\"model_type\", \"Logistic Regression\")\n",
    "\n",
    "    # Initialiser et entraîner le modèle\n",
    "    model = LogisticRegression(random_state=42, class_weight='balanced', max_iter=1000)\n",
    "    model.fit(X_train, y_train)\n",
    "\n",
    "    # Enregistrer les métriques\n",
    "    y_pred_prob = model.predict_proba(X_test)[:, 1]\n",
    "    auc = roc_auc_score(y_test, y_pred_prob)\n",
    "    mlflow.log_metric(\"auc\", auc)\n",
    "\n",
    "    # Optimiser le seuil de décision\n",
    "    thresholds = np.linspace(0, 1, 100)\n",
    "    costs = [cost_function(y_test, y_pred_prob, threshold) for threshold in thresholds]\n",
    "    best_threshold = thresholds[np.argmin(costs)]\n",
    "\n",
    "    # Enregistrer le meilleur seuil\n",
    "    mlflow.log_param(\"best_threshold\", best_threshold)\n",
    "\n",
    "    # Évaluer le modèle avec le meilleur seuil\n",
    "    y_pred = (y_pred_prob >= best_threshold).astype(int)\n",
    "    min_cost = min(costs)\n",
    "    mlflow.log_metric(\"min_cost\", min_cost)\n",
    "\n",
    "    # Enregistrer le modèle avec un exemple d'entrée pour la signature\n",
    "    signature = mlflow.models.infer_signature(X_train, model.predict_proba(X_train))\n",
    "    mlflow.sklearn.log_model(model, \"model\", signature=signature)\n",
    "\n",
    "    # Enregistrer le modèle dans le Model Registry\n",
    "    model_uri = f\"runs:/{run.info.run_id}/model\"\n",
    "    mlflow.register_model(model_uri, \"LR_cost_déséquilibré\")"
   ]
  },
  {
   "cell_type": "code",
   "execution_count": null,
   "id": "2f2f6801-f328-42ce-a1a8-1ef505400e72",
   "metadata": {},
   "outputs": [],
   "source": [
    "# Tracer la courbe ROC\n",
    "fpr, tpr, thresholds = roc_curve(y_test, y_pred_prob)\n",
    "plt.figure()\n",
    "plt.plot(fpr, tpr, color='darkorange', lw=2, label='Courbe ROC (AUC = %0.2f)' % auc)\n",
    "plt.plot([0, 1], [0, 1], color='navy', lw=2, linestyle='--')\n",
    "plt.xlim([0.0, 1.0])\n",
    "plt.ylim([0.0, 1.05])\n",
    "plt.xlabel('Taux de faux positifs')\n",
    "plt.ylabel('Taux de vrais positifs')\n",
    "plt.title('Courbe ROC')\n",
    "plt.legend(loc=\"lower right\")\n",
    "plt.show()"
   ]
  },
  {
   "cell_type": "markdown",
   "id": "b53aa716-a4a8-4168-8b18-400b02e7a3f4",
   "metadata": {},
   "source": [
    "### optimisation hyperparamètres sur échantillon"
   ]
  },
  {
   "cell_type": "markdown",
   "id": "5dfe08a0-ce96-4d20-963c-7a8f58f577ca",
   "metadata": {},
   "source": [
    "gridsearchCV et randomsearchCV plante faute de mémoire\n",
    "on va donc chercher à optimiser les hyperparamètres sur un éhcantillon"
   ]
  },
  {
   "cell_type": "code",
   "execution_count": null,
   "id": "7ad35e31-9a77-4bae-b977-0c4c7af35c4a",
   "metadata": {},
   "outputs": [],
   "source": [
    "X_train.shape, y_train.shape"
   ]
  },
  {
   "cell_type": "markdown",
   "id": "b1a9f90c-168a-4963-b631-2f3e38e7c092",
   "metadata": {},
   "source": [
    "### recherche hyperparamètre LR sur échantillon"
   ]
  },
  {
   "cell_type": "code",
   "execution_count": null,
   "id": "6532c350-9c8e-4d78-88f5-e516bcae50c2",
   "metadata": {},
   "outputs": [],
   "source": [
    "# Sous-échantillonnage des données\n",
    "sample_size = 10000  # Taille de l'échantillon\n",
    "X_sample, _, y_sample, _ = train_test_split(X_train, y_train, train_size=sample_size, stratify=y_train, random_state=42)\n",
    "\n",
    "# Séparer les données échantillonnées en ensembles d'entraînement et de test\n",
    "X_samp_train, X_samp_test, y_samp_train, y_samp_test = train_test_split(X_sample, y_sample, test_size=0.2, random_state=42)"
   ]
  },
  {
   "cell_type": "code",
   "execution_count": null,
   "id": "2d1ca94b-565c-429e-a841-239952de5336",
   "metadata": {},
   "outputs": [],
   "source": [
    "# Réduire la précision des données\n",
    "X_samp_train = X_samp_train.astype(np.float32)\n",
    "X_samp_test = X_samp_test.astype(np.float32)"
   ]
  },
  {
   "cell_type": "code",
   "execution_count": null,
   "id": "5061f9ce-2a90-4c83-adc6-58224cddfc3d",
   "metadata": {},
   "outputs": [],
   "source": [
    "# Vérifier qu'il n'y a pas de valeurs manquantes dans X_train\n",
    "assert not np.isnan(X_train).any(), \"Il y a des valeurs manquantes dans X_train après l'imputation.\""
   ]
  },
  {
   "cell_type": "code",
   "execution_count": null,
   "id": "3a3d5a14-2c1c-4203-bc0c-71037769525f",
   "metadata": {},
   "outputs": [],
   "source": [
    "# Définir une grille d'hyperparamètres\n",
    "param_dist = {\n",
    "    'C': [ 0.1, 10],\n",
    "    'penalty': ['l1', 'l2'],\n",
    "    'solver': ['liblinear'],  # 'liblinear' supporte à la fois 'l1' et 'l2'\n",
    "    'class_weight': [None, 'balanced']}"
   ]
  },
  {
   "cell_type": "code",
   "execution_count": null,
   "id": "14fb8e9b-74c8-441f-850d-900e246c43c1",
   "metadata": {},
   "outputs": [],
   "source": [
    "# Initialiser le modèle\n",
    "model = LogisticRegression(random_state=42, class_weight='balanced')\n",
    "# Initialiser RandomizedSearchCV\n",
    "random_search = RandomizedSearchCV(model, param_distributions=param_dist, n_iter=10, cv=3, scoring='roc_auc', n_jobs=2)\n"
   ]
  },
  {
   "cell_type": "code",
   "execution_count": null,
   "id": "f70950a3-51a7-4bb7-a6b8-5937a8f80523",
   "metadata": {},
   "outputs": [],
   "source": [
    "# Effectuer la recherche d'hyperparamètres\n",
    "random_search.fit(X_samp_train, y_samp_train)\n",
    "\n",
    "# Enregistrer les meilleurs paramètres\n",
    "best_params = random_search.best_params_\n",
    "    "
   ]
  },
  {
   "cell_type": "code",
   "execution_count": null,
   "id": "fd4ab7ae-5589-4d63-a160-9c87a043faa4",
   "metadata": {},
   "outputs": [],
   "source": [
    "best_params"
   ]
  },
  {
   "cell_type": "code",
   "execution_count": null,
   "id": "35dd16d7-a086-4614-b4d6-c988796d4606",
   "metadata": {},
   "outputs": [],
   "source": [
    "random_search.best_estimator_"
   ]
  },
  {
   "cell_type": "code",
   "execution_count": null,
   "id": "c6ed8ed1-11f3-45bc-826e-6e842e6c27c0",
   "metadata": {},
   "outputs": [],
   "source": [
    "# Démarrer une run MLflow\n",
    "with mlflow.start_run() as run:\n",
    "    # Enregistrer les paramètres    \n",
    "    mlflow.log_params(best_params)\n",
    "   \n",
    "\n",
    "    # Enregistrer les métriques\n",
    "    best_model = random_search.best_estimator_\n",
    "    y_pred_prob = best_model.predict_proba(X_samp_test)[:, 1]\n",
    "    auc = roc_auc_score(y_samp_test, y_pred_prob)\n",
    "    mlflow.log_metric(\"auc\", auc)\n",
    "\n",
    "    # Optimiser le seuil de décision\n",
    "    thresholds = np.linspace(0, 1, 100)\n",
    "    costs = [cost_function(y_samp_test, y_pred_prob, threshold) for threshold in thresholds]\n",
    "    best_threshold = thresholds[np.argmin(costs)]\n",
    "\n",
    "    # Enregistrer le meilleur seuil\n",
    "    mlflow.log_param(\"best_threshold\", best_threshold)\n",
    "\n",
    "    # Évaluer le modèle avec le meilleur seuil\n",
    "    y_pred = (y_pred_prob >= best_threshold).astype(int)\n",
    "    min_cost = min(costs)\n",
    "    mlflow.log_metric(\"min_cost\", min_cost)\n",
    "\n",
    "    # Enregistrer le modèle avec un exemple d'entrée pour la signature\n",
    "    signature = mlflow.models.infer_signature(X_train, best_model.predict_proba(X_train))\n",
    "    mlflow.sklearn.log_model(best_model, \"model\", signature=signature)\n",
    "\n",
    "    # Enregistrer le modèle dans le Model Registry\n",
    "    model_uri = f\"runs:/{run.info.run_id}/model\"\n",
    "    mlflow.register_model(model_uri, \"LR_partiellement_optimisée_échantillon\")"
   ]
  },
  {
   "cell_type": "code",
   "execution_count": null,
   "id": "f04eed65-0bfb-477a-a416-eff934ad0302",
   "metadata": {
    "scrolled": true
   },
   "outputs": [],
   "source": [
    "# Tracer la courbe ROC\n",
    "fpr, tpr, thresholds = roc_curve(y_samp_test, y_pred_prob)\n",
    "plt.figure()\n",
    "plt.plot(fpr, tpr, color='darkorange', lw=2, label='Courbe ROC (AUC = %0.2f)' % auc)\n",
    "plt.plot([0, 1], [0, 1], color='navy', lw=2, linestyle='--')\n",
    "plt.xlim([0.0, 1.0])\n",
    "plt.ylim([0.0, 1.05])\n",
    "plt.xlabel('Taux de faux positifs')\n",
    "plt.ylabel('Taux de vrais positifs')\n",
    "plt.title('Courbe ROC')\n",
    "plt.legend(loc=\"lower right\")\n",
    "plt.show()"
   ]
  },
  {
   "cell_type": "markdown",
   "id": "8bf17d96-a182-4487-9374-2ff23c9f6f57",
   "metadata": {},
   "source": [
    "## random forest sur échantillon"
   ]
  },
  {
   "cell_type": "code",
   "execution_count": null,
   "id": "01910dff-fd17-459c-b305-cf8f553ae436",
   "metadata": {},
   "outputs": [],
   "source": [
    "# Démarrer une run MLflow\n",
    "with mlflow.start_run() as run:\n",
    "    # Enregistrer les paramètres du modèle\n",
    "    mlflow.log_param(\"model_type\", \"Random forest classifier\")\n",
    "\n",
    "    # Initialiser et entraîner le modèle\n",
    "    model = RandomForestClassifier(n_estimators=100, random_state=42)\n",
    "    model.fit(X_samp_train, y_samp_train)\n",
    "\n",
    "    # Enregistrer les métriques\n",
    "    y_pred_prob = model.predict_proba(X_samp_test)[:, 1]\n",
    "    auc = roc_auc_score(y_samp_test, y_pred_prob)\n",
    "    mlflow.log_metric(\"auc\", auc)\n",
    "\n",
    "    # Optimiser le seuil de décision\n",
    "    thresholds = np.linspace(0, 1, 100)\n",
    "    costs = [cost_function(y_samp_test, y_pred_prob, threshold) for threshold in thresholds]\n",
    "    best_threshold = thresholds[np.argmin(costs)]\n",
    "\n",
    "    # Enregistrer le meilleur seuil\n",
    "    mlflow.log_param(\"best_threshold\", best_threshold)\n",
    "\n",
    "    # Évaluer le modèle avec le meilleur seuil\n",
    "    y_pred = (y_pred_prob >= best_threshold).astype(int)\n",
    "    min_cost = min(costs)\n",
    "    mlflow.log_metric(\"min_cost\", min_cost)\n",
    "\n",
    "    # Enregistrer le modèle avec un exemple d'entrée pour la signature\n",
    "    signature = mlflow.models.infer_signature(X_train, model.predict_proba(X_train))\n",
    "    mlflow.sklearn.log_model(model, \"model\", signature=signature)\n",
    "\n",
    "    # Enregistrer le modèle dans le Model Registry\n",
    "    model_uri = f\"runs:/{run.info.run_id}/model\"\n",
    "    mlflow.register_model(model_uri, \"RF_echantillon\")"
   ]
  },
  {
   "cell_type": "code",
   "execution_count": null,
   "id": "169f316c-e176-495e-8066-f88b0b63a381",
   "metadata": {},
   "outputs": [],
   "source": [
    "# Tracer la courbe ROC\n",
    "fpr, tpr, thresholds = roc_curve(y_samp_test, y_pred_prob)\n",
    "plt.figure()\n",
    "plt.plot(fpr, tpr, color='darkorange', lw=2, label='Courbe ROC (AUC = %0.2f)' % auc)\n",
    "plt.plot([0, 1], [0, 1], color='navy', lw=2, linestyle='--')\n",
    "plt.xlim([0.0, 1.0])\n",
    "plt.ylim([0.0, 1.05])\n",
    "plt.xlabel('Taux de faux positifs')\n",
    "plt.ylabel('Taux de vrais positifs')\n",
    "plt.title('Courbe ROC')\n",
    "plt.legend(loc=\"lower right\")\n",
    "plt.show()"
   ]
  },
  {
   "cell_type": "markdown",
   "id": "e136a840-6502-40e2-b269-fd3cf1bcc231",
   "metadata": {},
   "source": [
    "### optimisation hyperparamètres sur échantillon"
   ]
  },
  {
   "cell_type": "code",
   "execution_count": null,
   "id": "bdef30a5-0807-42a3-8137-6ad5c08a1bf4",
   "metadata": {},
   "outputs": [],
   "source": [
    "# Initialiser le modèle\n",
    "model = RandomForestClassifier(random_state=42)\n",
    "# Définir les hyperparamètres à tester\n",
    "param_dist = {\n",
    "    'n_estimators': [100, 200],\n",
    "    'max_depth': [None, 20],\n",
    "    'min_samples_split': [2,  10],\n",
    "    'min_samples_leaf': [1, 3],\n",
    "    'max_features': ['log2', 'sqrt'],\n",
    "    'class_weight': [None, 'balanced'],\n",
    "    'bootstrap': [True, False]\n",
    "}\n",
    "# Initialiser RandomizedSearchCV\n",
    "random_search = RandomizedSearchCV(model, param_distributions=param_dist, n_iter=10, cv=3, scoring='roc_auc', n_jobs=2)\n"
   ]
  },
  {
   "cell_type": "code",
   "execution_count": null,
   "id": "10b8037f-9abb-4ec8-a855-b1e8fee97778",
   "metadata": {},
   "outputs": [],
   "source": [
    "# Effectuer la recherche d'hyperparamètres\n",
    "random_search.fit(X_samp_train, y_samp_train)\n",
    "\n",
    "# Enregistrer les meilleurs paramètres\n",
    "best_params = random_search.best_params_\n",
    "    "
   ]
  },
  {
   "cell_type": "code",
   "execution_count": null,
   "id": "c2a04abd-5fb6-4de8-b95b-29f906e3fa08",
   "metadata": {},
   "outputs": [],
   "source": [
    "best_params"
   ]
  },
  {
   "cell_type": "code",
   "execution_count": null,
   "id": "d8f8eeca-ca73-4d7d-908e-afc3dec3631f",
   "metadata": {},
   "outputs": [],
   "source": [
    "random_search.best_estimator_"
   ]
  },
  {
   "cell_type": "code",
   "execution_count": null,
   "id": "43815e6b-f244-4b26-8f70-df83c97f6223",
   "metadata": {},
   "outputs": [],
   "source": [
    "# Démarrer une run MLflow\n",
    "with mlflow.start_run() as run:\n",
    "    # Enregistrer les paramètres du modèle\n",
    "    mlflow.log_param(\"model_type\", \"Random forest classifier\")\n",
    "\n",
    "    # Initialiser et entraîner le modèle\n",
    "    best_model = random_search.best_estimator_\n",
    "    best_model.fit(X_samp_train, y_samp_train)\n",
    "\n",
    "    # Enregistrer les métriques\n",
    "    y_pred_prob = best_model.predict_proba(X_samp_test)[:, 1]\n",
    "    auc = roc_auc_score(y_samp_test, y_pred_prob)\n",
    "    mlflow.log_metric(\"auc\", auc)\n",
    "\n",
    "    # Optimiser le seuil de décision\n",
    "    thresholds = np.linspace(0, 1, 100)\n",
    "    costs = [cost_function(y_samp_test, y_pred_prob, threshold) for threshold in thresholds]\n",
    "    best_threshold = thresholds[np.argmin(costs)]\n",
    "\n",
    "    # Enregistrer le meilleur seuil\n",
    "    mlflow.log_param(\"best_threshold\", best_threshold)\n",
    "\n",
    "    # Évaluer le modèle avec le meilleur seuil\n",
    "    y_pred = (y_pred_prob >= best_threshold).astype(int)\n",
    "    min_cost = min(costs)\n",
    "    mlflow.log_metric(\"min_cost\", min_cost)\n",
    "\n",
    "    # Enregistrer le modèle avec un exemple d'entrée pour la signature\n",
    "    signature = mlflow.models.infer_signature(X_train, best_model.predict_proba(X_train))\n",
    "    mlflow.sklearn.log_model(model, \"model\", signature=signature)\n",
    "\n",
    "    # Enregistrer le modèle dans le Model Registry\n",
    "    model_uri = f\"runs:/{run.info.run_id}/model\"\n",
    "    mlflow.register_model(model_uri, \"RF_optim_echantillon\")"
   ]
  },
  {
   "cell_type": "code",
   "execution_count": null,
   "id": "df2981cf-2929-4e3a-a9d4-5996d0cf6bea",
   "metadata": {},
   "outputs": [],
   "source": [
    "# Tracer la courbe ROC\n",
    "fpr, tpr, thresholds = roc_curve(y_samp_test, y_pred_prob)\n",
    "plt.figure()\n",
    "plt.plot(fpr, tpr, color='darkorange', lw=2, label='Courbe ROC (AUC = %0.2f)' % auc)\n",
    "plt.plot([0, 1], [0, 1], color='navy', lw=2, linestyle='--')\n",
    "plt.xlim([0.0, 1.0])\n",
    "plt.ylim([0.0, 1.05])\n",
    "plt.xlabel('Taux de faux positifs')\n",
    "plt.ylabel('Taux de vrais positifs')\n",
    "plt.title('Courbe ROC')\n",
    "plt.legend(loc=\"lower right\")\n",
    "plt.show()"
   ]
  },
  {
   "cell_type": "markdown",
   "id": "7f275227-47dc-4de0-81b4-0d93332a517e",
   "metadata": {},
   "source": [
    "## ligthGBM sur echantillon"
   ]
  },
  {
   "cell_type": "code",
   "execution_count": null,
   "id": "35269f31-7f6a-4ec5-b507-3aead3517775",
   "metadata": {},
   "outputs": [],
   "source": [
    "train_data = lgb.Dataset(X_samp_train, label=y_samp_train)\n",
    "test_data = lgb.Dataset(X_samp_test, label=y_samp_test, reference=train_data)\n"
   ]
  },
  {
   "cell_type": "code",
   "execution_count": null,
   "id": "92750d13-a591-4d81-96fd-b3514261c1c3",
   "metadata": {},
   "outputs": [],
   "source": [
    "# Définir les paramètres et entraîner le modèle\n",
    "params = {\n",
    "    'objective': 'binary',\n",
    "    'metric': 'binary_logloss',\n",
    "    'boosting_type': 'gbdt',\n",
    "    'num_leaves': 31,\n",
    "    'learning_rate': 0.05,\n",
    "    'feature_fraction': 0.9\n",
    "}\n",
    "\n",
    "gbm = lgb.train(params, train_data, num_boost_round=100, valid_sets=[test_data])\n",
    "\n"
   ]
  },
  {
   "cell_type": "code",
   "execution_count": null,
   "id": "13134b55-61b9-4438-8f7b-87c0544d0af2",
   "metadata": {},
   "outputs": [],
   "source": [
    "# Démarrer une run MLflow\n",
    "with mlflow.start_run() as run:\n",
    "    # Enregistrer les paramètres du modèle\n",
    "    mlflow.log_param(\"model_type\", \"LightGBM\")\n",
    "\n",
    "    \n",
    "    # Prédire les probabilités\n",
    "    y_pred_prob = gbm.predict(X_samp_test, num_iteration=gbm.best_iteration)\n",
    "    # Calculer l'AUC\n",
    "    auc = roc_auc_score(y_samp_test, y_pred_prob)\n",
    "    mlflow.log_metric(\"auc\", auc)\n",
    "\n",
    "    # Optimiser le seuil de décision\n",
    "    thresholds = np.linspace(0, 1, 100)\n",
    "    costs = [cost_function(y_samp_test, y_pred_prob, threshold) for threshold in thresholds]\n",
    "    best_threshold = thresholds[np.argmin(costs)]\n",
    "\n",
    "    # Enregistrer le meilleur seuil\n",
    "    mlflow.log_param(\"best_threshold\", best_threshold)\n",
    "\n",
    "    # Évaluer le modèle avec le meilleur seuil\n",
    "    y_pred = (y_pred_prob >= best_threshold).astype(int)\n",
    "    min_cost = min(costs)\n",
    "    mlflow.log_metric(\"min_cost\", min_cost)\n",
    "\n",
    "    # Enregistrer le modèle avec un exemple d'entrée pour la signature\n",
    "    signature = mlflow.models.infer_signature(X_samp_train, gbm.predict(X_samp_train))\n",
    "    mlflow.lightgbm.log_model(gbm, \"LGBM\", signature=signature)\n",
    "\n",
    "    # Enregistrer le modèle dans le Model Registry\n",
    "    model_uri = f\"runs:/{run.info.run_id}/model\"\n",
    "    mlflow.register_model(model_uri, \"LGBM_echantillon\")"
   ]
  },
  {
   "cell_type": "code",
   "execution_count": null,
   "id": "8cea5b8b-9235-47bb-b71a-7cb14da01524",
   "metadata": {
    "scrolled": true
   },
   "outputs": [],
   "source": [
    "# Tracer la courbe ROC\n",
    "fpr, tpr, thresholds = roc_curve(y_samp_test, y_pred_prob)\n",
    "plt.figure()\n",
    "plt.plot(fpr, tpr, color='darkorange', lw=2, label='Courbe ROC (AUC = %0.2f)' % auc)\n",
    "plt.plot([0, 1], [0, 1], color='navy', lw=2, linestyle='--')\n",
    "plt.xlim([0.0, 1.0])\n",
    "plt.ylim([0.0, 1.05])\n",
    "plt.xlabel('Taux de faux positifs')\n",
    "plt.ylabel('Taux de vrais positifs')\n",
    "plt.title('Courbe ROC')\n",
    "plt.legend(loc=\"lower right\")\n",
    "plt.show()"
   ]
  },
  {
   "cell_type": "markdown",
   "id": "d99bb651-f655-4ea1-a6c9-159186f7f5dc",
   "metadata": {},
   "source": [
    "### optimisation lgbm"
   ]
  },
  {
   "cell_type": "code",
   "execution_count": null,
   "id": "3c7efd0e-e963-4007-a975-5431dc9868da",
   "metadata": {},
   "outputs": [],
   "source": [
    "# Définir les hyperparamètres à tester\n",
    "param_grid = {\n",
    "    'num_leaves': [31, 50],\n",
    "    'learning_rate': [0.01, 0.1],\n",
    "    'n_estimators': [100, 200],\n",
    "    'max_depth': [5, 20],\n",
    "    'min_child_samples': [5, 20],\n",
    "    'subsample': [0.7,  0.9],\n",
    "    'colsample_bytree': [0.7,  0.9],\n",
    "    'reg_alpha': [ 0.1, 0.5],\n",
    "    'reg_lambda': [ 0.1, 0.5],\n",
    "    'class_weight': [None, 'balanced']\n",
    "}\n",
    "# Initialiser le modèle LightGBM\n",
    "lgbm = lgb.LGBMClassifier()\n",
    "\n",
    "# Initialiser RandomizedSearchCV\n",
    "random_search = RandomizedSearchCV(estimator=lgbm, param_distributions=param_dist, n_iter=10, cv=3, scoring='roc_auc', n_jobs=2)\n",
    "\n",
    "\n"
   ]
  },
  {
   "cell_type": "code",
   "execution_count": null,
   "id": "60476248-ee72-407d-be8b-841fe925e6d2",
   "metadata": {},
   "outputs": [],
   "source": [
    "# Exécuter la recherche\n",
    "random_search.fit(X_samp_train, y_samp_train)"
   ]
  },
  {
   "cell_type": "code",
   "execution_count": null,
   "id": "c836c36a-3a6e-4ccc-ac1e-4650ec283ed1",
   "metadata": {},
   "outputs": [],
   "source": [
    "# Enregistrer les meilleurs paramètres\n",
    "best_params = random_search.best_params_"
   ]
  },
  {
   "cell_type": "code",
   "execution_count": null,
   "id": "c626cc7b-acea-407f-93b1-090d829b602f",
   "metadata": {},
   "outputs": [],
   "source": [
    "best_params"
   ]
  },
  {
   "cell_type": "code",
   "execution_count": null,
   "id": "a4f768d4-90ac-4aaa-a552-5d4707c2d608",
   "metadata": {},
   "outputs": [],
   "source": [
    "random_search.best_estimator_"
   ]
  },
  {
   "cell_type": "code",
   "execution_count": null,
   "id": "d0ae61af-fbdd-4c6b-97a0-1761e855d32a",
   "metadata": {},
   "outputs": [],
   "source": [
    "# Entraîner le modèle final avec les meilleurs paramètres\n",
    "\n",
    "train_data = lgb.Dataset(X_samp_train, label=y_samp_train)\n",
    "test_data = lgb.Dataset(X_samp_test, label=y_samp_test, reference=train_data)\n",
    "\n",
    "gbm = lgb.train(best_params, train_data, num_boost_round=100, valid_sets=[test_data])"
   ]
  },
  {
   "cell_type": "code",
   "execution_count": null,
   "id": "f83eb404-9873-4f73-98c2-b8348c32c429",
   "metadata": {},
   "outputs": [],
   "source": [
    "# Démarrer une run MLflow\n",
    "with mlflow.start_run() as run:\n",
    "    #  Enregistrer les paramètres du modèle\n",
    "    mlflow.log_params(best_params)\n",
    "    mlflow.log_param(\"model_type\", \"LightGBM\")\n",
    "\n",
    "    # Prédire les probabilités\n",
    "    y_pred_prob = gbm.predict(X_samp_test, num_iteration=gbm.best_iteration)\n",
    "    # Calculer l'AUC\n",
    "    auc = roc_auc_score(y_samp_test, y_pred_prob)\n",
    "    mlflow.log_metric(\"auc\", auc)\n",
    "\n",
    "    # Optimiser le seuil de décision\n",
    "    thresholds = np.linspace(0, 1, 100)\n",
    "    costs = [cost_function(y_samp_test, y_pred_prob, threshold) for threshold in thresholds]\n",
    "    best_threshold = thresholds[np.argmin(costs)]\n",
    "\n",
    "    # Enregistrer le meilleur seuil\n",
    "    mlflow.log_param(\"best_threshold\", best_threshold)\n",
    "\n",
    "    # Évaluer le modèle avec le meilleur seuil\n",
    "    y_pred = (y_pred_prob >= best_threshold).astype(int)\n",
    "    min_cost = min(costs)\n",
    "    mlflow.log_metric(\"min_cost\", min_cost)\n",
    "\n",
    "    # Enregistrer le modèle avec un exemple d'entrée pour la signature\n",
    "    signature = mlflow.models.infer_signature(X_samp_train, gbm.predict(X_samp_train))\n",
    "    mlflow.lightgbm.log_model(gbm, \"LGBM\", signature=signature)\n",
    "\n",
    "    # Enregistrer le modèle dans le Model Registry\n",
    "    model_uri = f\"runs:/{run.info.run_id}/model\"\n",
    "    mlflow.register_model(model_uri, \"LGBM_echantillon_optim\")"
   ]
  },
  {
   "cell_type": "code",
   "execution_count": null,
   "id": "4465c2e4-7a53-491b-bd50-8d0216b0472f",
   "metadata": {
    "scrolled": true
   },
   "outputs": [],
   "source": [
    "# Tracer la courbe ROC\n",
    "fpr, tpr, thresholds = roc_curve(y_samp_test, y_pred_prob)\n",
    "plt.figure()\n",
    "plt.plot(fpr, tpr, color='darkorange', lw=2, label='Courbe ROC (AUC = %0.2f)' % auc)\n",
    "plt.plot([0, 1], [0, 1], color='navy', lw=2, linestyle='--')\n",
    "plt.xlim([0.0, 1.0])\n",
    "plt.ylim([0.0, 1.05])\n",
    "plt.xlabel('Taux de faux positifs')\n",
    "plt.ylabel('Taux de vrais positifs')\n",
    "plt.title('Courbe ROC')\n",
    "plt.legend(loc=\"lower right\")\n",
    "plt.show()"
   ]
  },
  {
   "cell_type": "code",
   "execution_count": null,
   "id": "3eb21637-4b52-4041-8af1-3d1d8691e052",
   "metadata": {},
   "outputs": [],
   "source": []
  },
  {
   "cell_type": "code",
   "execution_count": null,
   "id": "150523b9-0085-4ce9-9673-c84a764b5810",
   "metadata": {},
   "outputs": [],
   "source": []
  },
  {
   "cell_type": "markdown",
   "id": "a96e01ab-87c0-4eb6-b868-3cc1df19e520",
   "metadata": {},
   "source": [
    "## XGBoost sur échantillon"
   ]
  },
  {
   "cell_type": "code",
   "execution_count": null,
   "id": "692daafe-3c18-4977-a94a-2ce53dde869a",
   "metadata": {},
   "outputs": [],
   "source": [
    "# Démarrer une run MLflow\n",
    "with mlflow.start_run() as run:\n",
    "    # Enregistrer les paramètres du modèle\n",
    "    mlflow.log_param(\"model_type\", \"XGboost\")\n",
    "\n",
    "    # Initialiser et entraîner le modèle\n",
    "    model = XGBClassifier(random_state=42, n_estimators=100, learning_rate=0.1, max_depth=6,  scale_pos_weight=10)\n",
    "    model.fit(X_samp_train, y_samp_train)\n",
    "\n",
    "    # Enregistrer les métriques\n",
    "    y_pred_prob = model.predict_proba(X_samp_test)[:, 1]\n",
    "    auc = roc_auc_score(y_samp_test, y_pred_prob)\n",
    "    mlflow.log_metric(\"auc\", auc)\n",
    "\n",
    "    # Optimiser le seuil de décision\n",
    "    thresholds = np.linspace(0, 1, 100)\n",
    "    costs = [cost_function(y_samp_test, y_pred_prob, threshold) for threshold in thresholds]\n",
    "    best_threshold = thresholds[np.argmin(costs)]\n",
    "\n",
    "    # Enregistrer le meilleur seuil\n",
    "    mlflow.log_param(\"best_threshold\", best_threshold)\n",
    "\n",
    "    # Évaluer le modèle avec le meilleur seuil\n",
    "    y_pred = (y_pred_prob >= best_threshold).astype(int)\n",
    "    min_cost = min(costs)\n",
    "    mlflow.log_metric(\"min_cost\", min_cost)\n",
    "\n",
    "    # Enregistrer le modèle avec un exemple d'entrée pour la signature\n",
    "    signature = mlflow.models.infer_signature(X_train, model.predict_proba(X_train))\n",
    "    mlflow.sklearn.log_model(model, \"model\", signature=signature)\n",
    "\n",
    "    # Enregistrer le modèle dans le Model Registry\n",
    "    model_uri = f\"runs:/{run.info.run_id}/model\"\n",
    "    mlflow.register_model(model_uri, \"XGBoost_echantillon\")"
   ]
  },
  {
   "cell_type": "code",
   "execution_count": null,
   "id": "d0c6a488-ae7c-45b0-8b6e-b614c413f646",
   "metadata": {},
   "outputs": [],
   "source": [
    "# Tracer la courbe ROC\n",
    "fpr, tpr, thresholds = roc_curve(y_samp_test, y_pred_prob)\n",
    "plt.figure()\n",
    "plt.plot(fpr, tpr, color='darkorange', lw=2, label='Courbe ROC (AUC = %0.2f)' % auc)\n",
    "plt.plot([0, 1], [0, 1], color='navy', lw=2, linestyle='--')\n",
    "plt.xlim([0.0, 1.0])\n",
    "plt.ylim([0.0, 1.05])\n",
    "plt.xlabel('Taux de faux positifs')\n",
    "plt.ylabel('Taux de vrais positifs')\n",
    "plt.title('Courbe ROC')\n",
    "plt.legend(loc=\"lower right\")\n",
    "plt.show()"
   ]
  },
  {
   "cell_type": "markdown",
   "id": "794d0099-12b7-4bdb-adbb-caf98fe340b6",
   "metadata": {},
   "source": [
    "### optimisation hyperparamètres sur échantillon"
   ]
  },
  {
   "cell_type": "code",
   "execution_count": null,
   "id": "7c1540af-2fce-47d2-b4f6-f5288d579ce6",
   "metadata": {},
   "outputs": [],
   "source": [
    "# Définition du modèle\n",
    "model = XGBClassifier(random_state=42, n_estimators=100, learning_rate=0.1, max_depth=6,  scale_pos_weight=10)\n",
    "\n"
   ]
  },
  {
   "cell_type": "code",
   "execution_count": null,
   "id": "5acd6fbb-f1f6-4a76-a0fb-2dab4f1f5134",
   "metadata": {},
   "outputs": [],
   "source": [
    "# Optimisation des hyperparamètres\n",
    "param_dist = {\n",
    "    'n_estimators': [100, 200],\n",
    "    'learning_rate': [0.01, 0.1],\n",
    "    'max_depth': [6, 10],\n",
    "    'scale_pos_weight': [1, 10]\n",
    "}"
   ]
  },
  {
   "cell_type": "code",
   "execution_count": null,
   "id": "6609788f-aa60-4037-b108-1aabe590218d",
   "metadata": {},
   "outputs": [],
   "source": [
    "random_search = RandomizedSearchCV(model, param_dist, n_iter=10, cv=3, scoring='roc_auc', n_jobs=2)\n",
    "random_search.fit(X_samp_train, y_samp_train)"
   ]
  },
  {
   "cell_type": "code",
   "execution_count": null,
   "id": "ee7f223a-3cd8-48de-81da-02c544a0d398",
   "metadata": {},
   "outputs": [],
   "source": [
    "# Démarrer une run MLflow\n",
    "with mlflow.start_run() as run:\n",
    "    # Enregistrer les paramètres du modèle\n",
    "    mlflow.log_param(\"model_type\", \"XGBoost\")\n",
    "\n",
    "    # Initialiser et entraîner le modèle\n",
    "    best_model = random_search.best_estimator_\n",
    "    best_model.fit(X_samp_train, y_samp_train)\n",
    "\n",
    "    # Enregistrer les métriques\n",
    "    y_pred_prob = best_model.predict_proba(X_samp_test)[:, 1]\n",
    "    auc = roc_auc_score(y_samp_test, y_pred_prob)\n",
    "    mlflow.log_metric(\"auc\", auc)\n",
    "\n",
    "    # Optimiser le seuil de décision\n",
    "    thresholds = np.linspace(0, 1, 100)\n",
    "    costs = [cost_function(y_samp_test, y_pred_prob, threshold) for threshold in thresholds]\n",
    "    best_threshold = thresholds[np.argmin(costs)]\n",
    "\n",
    "    # Enregistrer le meilleur seuil\n",
    "    mlflow.log_param(\"best_threshold\", best_threshold)\n",
    "\n",
    "    # Évaluer le modèle avec le meilleur seuil\n",
    "    y_pred = (y_pred_prob >= best_threshold).astype(int)\n",
    "    min_cost = min(costs)\n",
    "    mlflow.log_metric(\"min_cost\", min_cost)\n",
    "\n",
    "    # Enregistrer le modèle avec un exemple d'entrée pour la signature\n",
    "    signature = mlflow.models.infer_signature(X_train, best_model.predict_proba(X_train))\n",
    "    mlflow.sklearn.log_model(model, \"model\", signature=signature)\n",
    "\n",
    "    # Enregistrer le modèle dans le Model Registry\n",
    "    model_uri = f\"runs:/{run.info.run_id}/model\"\n",
    "    mlflow.register_model(model_uri, \"XGBoost_optim_echantillon\")"
   ]
  },
  {
   "cell_type": "code",
   "execution_count": null,
   "id": "b1ce8259-a8a1-4bb6-ac0d-32f7e0f3dfed",
   "metadata": {
    "scrolled": true
   },
   "outputs": [],
   "source": [
    "# Tracer la courbe ROC\n",
    "fpr, tpr, thresholds = roc_curve(y_samp_test, y_pred_prob)\n",
    "plt.figure()\n",
    "plt.plot(fpr, tpr, color='darkorange', lw=2, label='Courbe ROC (AUC = %0.2f)' % auc)\n",
    "plt.plot([0, 1], [0, 1], color='navy', lw=2, linestyle='--')\n",
    "plt.xlim([0.0, 1.0])\n",
    "plt.ylim([0.0, 1.05])\n",
    "plt.xlabel('Taux de faux positifs')\n",
    "plt.ylabel('Taux de vrais positifs')\n",
    "plt.title('Courbe ROC')\n",
    "plt.legend(loc=\"lower right\")\n",
    "plt.show()"
   ]
  },
  {
   "cell_type": "code",
   "execution_count": null,
   "id": "022d5405-4e9b-427b-9a90-f30cafe6025f",
   "metadata": {},
   "outputs": [],
   "source": []
  }
 ],
 "metadata": {
  "kernelspec": {
   "display_name": "Python 3 (ipykernel)",
   "language": "python",
   "name": "python3"
  },
  "language_info": {
   "codemirror_mode": {
    "name": "ipython",
    "version": 3
   },
   "file_extension": ".py",
   "mimetype": "text/x-python",
   "name": "python",
   "nbconvert_exporter": "python",
   "pygments_lexer": "ipython3",
   "version": "3.11.9"
  }
 },
 "nbformat": 4,
 "nbformat_minor": 5
}
