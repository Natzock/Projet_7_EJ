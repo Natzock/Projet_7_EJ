{
 "cells": [
  {
   "cell_type": "code",
   "execution_count": 1,
   "id": "8b231406-1b50-4740-b76d-41c95366b664",
   "metadata": {},
   "outputs": [],
   "source": [
    "import mlflow\n",
    "import mlflow.sklearn\n",
    "from mlflow.models import infer_signature\n",
    "import pandas as pd\n",
    "import numpy as np\n",
    "import seaborn as sns\n",
    "from sklearn import datasets\n",
    "from sklearn.model_selection import train_test_split, GridSearchCV,  KFold, StratifiedKFold, RandomizedSearchCV\n",
    "from sklearn.linear_model import LogisticRegression\n",
    "from sklearn.ensemble import RandomForestClassifier\n",
    "from sklearn.metrics import accuracy_score, precision_score, recall_score, f1_score\n",
    "from sklearn.feature_selection import SelectKBest, f_classif\n",
    "import gc\n",
    "import time\n",
    "from contextlib import contextmanager\n",
    "from lightgbm import LGBMClassifier\n",
    "from sklearn.metrics import roc_auc_score, roc_curve, accuracy_score, confusion_matrix\n",
    "from xgboost import XGBClassifier\n",
    "from imblearn.over_sampling import SMOTE\n",
    "from sklearn.pipeline import Pipeline\n",
    "from sklearn.impute import SimpleImputer\n",
    "from imblearn.pipeline import Pipeline as imbPipeline\n",
    "from collections import Counter\n",
    "import matplotlib.pyplot as plt\n",
    "import seaborn as sns\n",
    "import warnings\n",
    "import mlflow\n",
    "import mlflow.lightgbm\n",
    "import lightgbm as lgb\n",
    "import re\n",
    "from sklearn.preprocessing import LabelEncoder, StandardScaler"
   ]
  },
  {
   "cell_type": "markdown",
   "id": "b4582e84-e655-43ff-b89e-c301c0f80607",
   "metadata": {},
   "source": [
    "## charger les données"
   ]
  },
  {
   "cell_type": "code",
   "execution_count": 2,
   "id": "f40beedc-4368-4ed7-873d-841fe466fcf7",
   "metadata": {},
   "outputs": [],
   "source": [
    "data = pd.read_csv(\"preprocess_table.csv\")"
   ]
  },
  {
   "cell_type": "markdown",
   "id": "40073aeb-e8fe-4d55-ba5b-cde2c6686f1d",
   "metadata": {},
   "source": [
    "## classe déséquilibrée"
   ]
  },
  {
   "cell_type": "code",
   "execution_count": 3,
   "id": "6398aaa7-21e1-4456-b799-4b0c13f0677e",
   "metadata": {},
   "outputs": [
    {
     "name": "stdout",
     "output_type": "stream",
     "text": [
      "Counter({0: 282682, 1: 24825})\n"
     ]
    }
   ],
   "source": [
    "# Séparer les caractéristiques (X) et les étiquettes (y)\n",
    "X = data.drop(columns=['TARGET'])\n",
    "y = data['TARGET']\n",
    "# summarize class distribution\n",
    "counter = Counter(y)\n",
    "print(counter)"
   ]
  },
  {
   "cell_type": "code",
   "execution_count": 4,
   "id": "0bad5d08-7603-4fa6-a6e9-3508cbb61043",
   "metadata": {},
   "outputs": [
    {
     "data": {
      "text/plain": [
       "(307507, 774)"
      ]
     },
     "execution_count": 4,
     "metadata": {},
     "output_type": "execute_result"
    }
   ],
   "source": [
    "X.shape"
   ]
  },
  {
   "cell_type": "markdown",
   "id": "5b41b49f-d553-4c52-b764-0d91d2bde951",
   "metadata": {},
   "source": [
    "### traitement des données"
   ]
  },
  {
   "cell_type": "code",
   "execution_count": 5,
   "id": "a27cfe68-842e-4aea-97e9-92a96c4b27cb",
   "metadata": {},
   "outputs": [],
   "source": [
    "# Séparation des données\n",
    "X_train, X_test, y_train, y_test = train_test_split(X, y, test_size=0.2, random_state=42, stratify=y)"
   ]
  },
  {
   "cell_type": "code",
   "execution_count": 6,
   "id": "5284e989-5dba-4f82-8b19-ff545bb01df0",
   "metadata": {},
   "outputs": [],
   "source": [
    "# imputation\n",
    "imputer = SimpleImputer(strategy='mean')\n",
    "X_train = imputer.fit_transform(X_train)\n",
    "X_test = imputer.transform(X_test)"
   ]
  },
  {
   "cell_type": "code",
   "execution_count": 7,
   "id": "946fcb70-da7a-4796-85b2-5d7ed444c846",
   "metadata": {},
   "outputs": [],
   "source": [
    "# Normalisation des données\n",
    "scaler = StandardScaler()\n",
    "X_train = scaler.fit_transform(X_train)\n",
    "X_test = scaler.transform(X_test)"
   ]
  },
  {
   "cell_type": "code",
   "execution_count": 8,
   "id": "78b83fd8-5b80-4ee8-9654-c5da5ecb8dec",
   "metadata": {},
   "outputs": [
    {
     "name": "stdout",
     "output_type": "stream",
     "text": [
      "Counter({0: 226145, 1: 19860})\n"
     ]
    }
   ],
   "source": [
    "counter = Counter(y_train)\n",
    "print(counter)\n",
    "\n"
   ]
  },
  {
   "cell_type": "code",
   "execution_count": 9,
   "id": "c4d0162b-fa49-40e5-aae6-310c3775c0f0",
   "metadata": {},
   "outputs": [],
   "source": [
    "train_data = lgb.Dataset(X_train, label=y_train)\n",
    "test_data = lgb.Dataset(X_test, label=y_test, reference=train_data)\n"
   ]
  },
  {
   "cell_type": "code",
   "execution_count": 13,
   "id": "1a873479-243a-49ca-bdbb-75402ee6ee2e",
   "metadata": {},
   "outputs": [
    {
     "data": {
      "text/plain": [
       "<lightgbm.basic.Dataset at 0x21f754a15d0>"
      ]
     },
     "execution_count": 13,
     "metadata": {},
     "output_type": "execute_result"
    }
   ],
   "source": [
    "train_data"
   ]
  },
  {
   "cell_type": "code",
   "execution_count": 12,
   "id": "33bf7be7-4808-4f61-8d0a-d89b4e4c4597",
   "metadata": {},
   "outputs": [
    {
     "ename": "MlflowException",
     "evalue": "Input data must be one of (<class 'pandas.core.frame.DataFrame'>, <class 'pandas.core.series.Series'>, <class 'numpy.ndarray'>, <class 'scipy.sparse._csc.csc_matrix'>, <class 'scipy.sparse._csr.csr_matrix'>, <class 'list'>, <class 'dict'>, <class 'datetime.datetime'>, <class 'bool'>, <class 'bytes'>, <class 'float'>, <class 'int'>, <class 'str'>) when content type is 'json', but got <class 'lightgbm.basic.Dataset'>.",
     "output_type": "error",
     "traceback": [
      "\u001b[1;31m---------------------------------------------------------------------------\u001b[0m",
      "\u001b[1;31mMlflowException\u001b[0m                           Traceback (most recent call last)",
      "Cell \u001b[1;32mIn[12], line 10\u001b[0m\n\u001b[0;32m      1\u001b[0m model_uri \u001b[38;5;241m=\u001b[39m \u001b[38;5;124m'\u001b[39m\u001b[38;5;124mruns:/5a040d526de040cc8f527f0cc8b5cc30/LGBM\u001b[39m\u001b[38;5;124m'\u001b[39m\n\u001b[0;32m      3\u001b[0m \u001b[38;5;66;03m# Replace INPUT_EXAMPLE with your own input example to the model\u001b[39;00m\n\u001b[0;32m      4\u001b[0m \u001b[38;5;66;03m# A valid input example is a data instance suitable for pyfunc prediction\u001b[39;00m\n\u001b[0;32m      5\u001b[0m \n\u001b[1;32m   (...)\u001b[0m\n\u001b[0;32m      8\u001b[0m \u001b[38;5;66;03m# For more details, refer to:\u001b[39;00m\n\u001b[0;32m      9\u001b[0m \u001b[38;5;66;03m# https://mlflow.org/docs/latest/models.html#validate-models-before-deployment\u001b[39;00m\n\u001b[1;32m---> 10\u001b[0m mlflow\u001b[38;5;241m.\u001b[39mmodels\u001b[38;5;241m.\u001b[39mpredict(\n\u001b[0;32m     11\u001b[0m     model_uri\u001b[38;5;241m=\u001b[39mmodel_uri,\n\u001b[0;32m     12\u001b[0m     input_data\u001b[38;5;241m=\u001b[39mtrain_data,\n\u001b[0;32m     13\u001b[0m     env_manager\u001b[38;5;241m=\u001b[39m\u001b[38;5;124m\"\u001b[39m\u001b[38;5;124muv\u001b[39m\u001b[38;5;124m\"\u001b[39m,\n\u001b[0;32m     14\u001b[0m )\n",
      "File \u001b[1;32m~\\anaconda3\\envs\\P7_py311\\Lib\\site-packages\\mlflow\\models\\python_api.py:257\u001b[0m, in \u001b[0;36mpredict\u001b[1;34m(model_uri, input_data, input_path, content_type, output_path, env_manager, install_mlflow, pip_requirements_override, extra_envs)\u001b[0m\n\u001b[0;32m    253\u001b[0m     \u001b[38;5;28;01mraise\u001b[39;00m MlflowException\u001b[38;5;241m.\u001b[39minvalid_parameter_value(\n\u001b[0;32m    254\u001b[0m         \u001b[38;5;124m\"\u001b[39m\u001b[38;5;124mBoth input_data and input_path are provided. Only one of them should be specified.\u001b[39m\u001b[38;5;124m\"\u001b[39m\n\u001b[0;32m    255\u001b[0m     )\n\u001b[0;32m    256\u001b[0m \u001b[38;5;28;01melif\u001b[39;00m input_data \u001b[38;5;129;01mis\u001b[39;00m \u001b[38;5;129;01mnot\u001b[39;00m \u001b[38;5;28;01mNone\u001b[39;00m:\n\u001b[1;32m--> 257\u001b[0m     input_data \u001b[38;5;241m=\u001b[39m _serialize_input_data(input_data, content_type)\n\u001b[0;32m    259\u001b[0m     \u001b[38;5;66;03m# Write input data to a temporary file\u001b[39;00m\n\u001b[0;32m    260\u001b[0m     \u001b[38;5;28;01mwith\u001b[39;00m TempDir() \u001b[38;5;28;01mas\u001b[39;00m tmp:\n",
      "File \u001b[1;32m~\\anaconda3\\envs\\P7_py311\\Lib\\site-packages\\mlflow\\models\\python_api.py:304\u001b[0m, in \u001b[0;36m_serialize_input_data\u001b[1;34m(input_data, content_type)\u001b[0m\n\u001b[0;32m    298\u001b[0m valid_input_types \u001b[38;5;241m=\u001b[39m {\n\u001b[0;32m    299\u001b[0m     _CONTENT_TYPE_CSV: (\u001b[38;5;28mstr\u001b[39m, \u001b[38;5;28mlist\u001b[39m, \u001b[38;5;28mdict\u001b[39m, pd\u001b[38;5;241m.\u001b[39mDataFrame),\n\u001b[0;32m    300\u001b[0m     _CONTENT_TYPE_JSON: _get_pyfunc_supported_input_types(),\n\u001b[0;32m    301\u001b[0m }\u001b[38;5;241m.\u001b[39mget(content_type)\n\u001b[0;32m    303\u001b[0m \u001b[38;5;28;01mif\u001b[39;00m \u001b[38;5;129;01mnot\u001b[39;00m \u001b[38;5;28misinstance\u001b[39m(input_data, valid_input_types):\n\u001b[1;32m--> 304\u001b[0m     \u001b[38;5;28;01mraise\u001b[39;00m MlflowException\u001b[38;5;241m.\u001b[39minvalid_parameter_value(\n\u001b[0;32m    305\u001b[0m         \u001b[38;5;124mf\u001b[39m\u001b[38;5;124m\"\u001b[39m\u001b[38;5;124mInput data must be one of \u001b[39m\u001b[38;5;132;01m{\u001b[39;00mvalid_input_types\u001b[38;5;132;01m}\u001b[39;00m\u001b[38;5;124m when content type is \u001b[39m\u001b[38;5;124m'\u001b[39m\u001b[38;5;132;01m{\u001b[39;00mcontent_type\u001b[38;5;132;01m}\u001b[39;00m\u001b[38;5;124m'\u001b[39m\u001b[38;5;124m, \u001b[39m\u001b[38;5;124m\"\u001b[39m\n\u001b[0;32m    306\u001b[0m         \u001b[38;5;124mf\u001b[39m\u001b[38;5;124m\"\u001b[39m\u001b[38;5;124mbut got \u001b[39m\u001b[38;5;132;01m{\u001b[39;00m\u001b[38;5;28mtype\u001b[39m(input_data)\u001b[38;5;132;01m}\u001b[39;00m\u001b[38;5;124m.\u001b[39m\u001b[38;5;124m\"\u001b[39m\n\u001b[0;32m    307\u001b[0m     )\n\u001b[0;32m    309\u001b[0m \u001b[38;5;28;01mif\u001b[39;00m content_type \u001b[38;5;241m==\u001b[39m _CONTENT_TYPE_CSV:\n\u001b[0;32m    310\u001b[0m     \u001b[38;5;28;01mif\u001b[39;00m \u001b[38;5;28misinstance\u001b[39m(input_data, \u001b[38;5;28mstr\u001b[39m):\n",
      "\u001b[1;31mMlflowException\u001b[0m: Input data must be one of (<class 'pandas.core.frame.DataFrame'>, <class 'pandas.core.series.Series'>, <class 'numpy.ndarray'>, <class 'scipy.sparse._csc.csc_matrix'>, <class 'scipy.sparse._csr.csr_matrix'>, <class 'list'>, <class 'dict'>, <class 'datetime.datetime'>, <class 'bool'>, <class 'bytes'>, <class 'float'>, <class 'int'>, <class 'str'>) when content type is 'json', but got <class 'lightgbm.basic.Dataset'>."
     ]
    }
   ],
   "source": [
    "model_uri = 'runs:/5a040d526de040cc8f527f0cc8b5cc30/LGBM'\n",
    "\n",
    "# Replace INPUT_EXAMPLE with your own input example to the model\n",
    "# A valid input example is a data instance suitable for pyfunc prediction\n",
    "\n",
    "\n",
    "# Verify the model with the provided input data using the logged dependencies.\n",
    "# For more details, refer to:\n",
    "# https://mlflow.org/docs/latest/models.html#validate-models-before-deployment\n",
    "mlflow.models.predict(\n",
    "    model_uri=model_uri,\n",
    "    input_data=train_data,\n",
    "    env_manager=\"uv\",\n",
    ")"
   ]
  },
  {
   "cell_type": "markdown",
   "id": "b43377db-7c55-4588-b3f8-a5f4871eef54",
   "metadata": {},
   "source": [
    "## configurer ML_flow"
   ]
  },
  {
   "cell_type": "code",
   "execution_count": 9,
   "id": "3c5636af-b306-45b4-a6fa-0e20f0b019a7",
   "metadata": {},
   "outputs": [],
   "source": [
    "#définition du serveur de suivi mlflow\n",
    "mlflow.set_tracking_uri(uri=\"http://127.0.0.1:5000/\")  #équivalent à http://localhost:5000\n",
    "# le lancer sur un prompt : mlflow server --host 127.0.0.1 --port 5000"
   ]
  },
  {
   "cell_type": "markdown",
   "id": "aed8b1e1-9bfb-4a3f-92c5-70528567600a",
   "metadata": {},
   "source": [
    "### score"
   ]
  },
  {
   "cell_type": "code",
   "execution_count": 10,
   "id": "6b1775a6-fa84-43ca-9c09-2bd11ff0e015",
   "metadata": {},
   "outputs": [],
   "source": [
    "# Définir la fonction de coût\n",
    "def cost_function(y_true, y_pred_prob, threshold, cost_fn=10, cost_fp=1):\n",
    "    y_pred = (y_pred_prob >= threshold).astype(int)\n",
    "    tn, fp, fn, tp = confusion_matrix(y_true, y_pred).ravel()\n",
    "    cost = (fn * cost_fn) + (fp * cost_fp)\n",
    "    return cost"
   ]
  },
  {
   "cell_type": "code",
   "execution_count": 16,
   "id": "35e60ec6-0645-439c-8628-1d65f1ccf209",
   "metadata": {},
   "outputs": [
    {
     "data": {
      "text/plain": [
       "<Experiment: artifact_location='mlflow-artifacts:/597761251475126147', creation_time=1738935086267, experiment_id='597761251475126147', last_update_time=1738935086267, lifecycle_stage='active', name='P7_score_cost', tags={}>"
      ]
     },
     "execution_count": 16,
     "metadata": {},
     "output_type": "execute_result"
    }
   ],
   "source": [
    "experiment_name=\"P7_score_cost\"\n",
    "mlflow.set_experiment(experiment_name)"
   ]
  },
  {
   "cell_type": "markdown",
   "id": "b9523f56-c9dd-4373-b455-e26952e83b0b",
   "metadata": {},
   "source": [
    "## ligthGBM"
   ]
  },
  {
   "cell_type": "code",
   "execution_count": 11,
   "id": "055f289d-8a26-4f69-8c9c-6f49d70d791b",
   "metadata": {},
   "outputs": [],
   "source": [
    "train_data = lgb.Dataset(X_train, label=y_train)\n",
    "test_data = lgb.Dataset(X_test, label=y_test, reference=train_data)\n"
   ]
  },
  {
   "cell_type": "code",
   "execution_count": 14,
   "id": "21728f3e-215e-4b69-a708-7ced511b27a2",
   "metadata": {},
   "outputs": [],
   "source": [
    "'''# Créer un pipeline avec SMOTE et LightGBM\n",
    "pipeline = imbPipeline([\n",
    "    ('smote', SMOTE(random_state=42)),\n",
    "    ('lgbm', lgb.LGBMClassifier(boosting_type='gbdt', objective='binary', metric='auc', random_state=42))\n",
    "])'''"
   ]
  },
  {
   "cell_type": "code",
   "execution_count": 13,
   "id": "685a4525-d9d2-4793-be17-020f3a860c68",
   "metadata": {},
   "outputs": [
    {
     "name": "stdout",
     "output_type": "stream",
     "text": [
      "[LightGBM] [Warning] Unknown parameter: lgbm__learning_rate\n",
      "[LightGBM] [Warning] Unknown parameter: lgbm__min_child_samples\n",
      "[LightGBM] [Warning] Unknown parameter: lgbm__num_leaves\n",
      "[LightGBM] [Warning] Unknown parameter: lgbm__max_depth\n",
      "[LightGBM] [Warning] Unknown parameter: lgbm__feature_fraction\n",
      "[LightGBM] [Warning] Unknown parameter: lgbm__scale_pos_weight\n",
      "[LightGBM] [Warning] Unknown parameter: lgbm__bagging_fraction\n",
      "[LightGBM] [Warning] Unknown parameter: lgbm__bagging_freq\n",
      "[LightGBM] [Warning] Unknown parameter: lgbm__reg_lambda\n",
      "[LightGBM] [Warning] Unknown parameter: lgbm__reg_alpha\n",
      "[LightGBM] [Warning] Unknown parameter: lgbm__learning_rate\n",
      "[LightGBM] [Warning] Unknown parameter: lgbm__min_child_samples\n",
      "[LightGBM] [Warning] Unknown parameter: lgbm__num_leaves\n",
      "[LightGBM] [Warning] Unknown parameter: lgbm__max_depth\n",
      "[LightGBM] [Warning] Unknown parameter: lgbm__feature_fraction\n",
      "[LightGBM] [Warning] Unknown parameter: lgbm__scale_pos_weight\n",
      "[LightGBM] [Warning] Unknown parameter: lgbm__bagging_fraction\n",
      "[LightGBM] [Warning] Unknown parameter: lgbm__bagging_freq\n",
      "[LightGBM] [Warning] Unknown parameter: lgbm__reg_lambda\n",
      "[LightGBM] [Warning] Unknown parameter: lgbm__reg_alpha\n",
      "[LightGBM] [Info] Auto-choosing col-wise multi-threading, the overhead of testing was 2.521735 seconds.\n",
      "You can set `force_col_wise=true` to remove the overhead.\n",
      "[LightGBM] [Info] Total Bins 98784\n",
      "[LightGBM] [Info] Number of data points in the train set: 246005, number of used features: 739\n",
      "[LightGBM] [Warning] Unknown parameter: lgbm__learning_rate\n",
      "[LightGBM] [Warning] Unknown parameter: lgbm__min_child_samples\n",
      "[LightGBM] [Warning] Unknown parameter: lgbm__num_leaves\n",
      "[LightGBM] [Warning] Unknown parameter: lgbm__max_depth\n",
      "[LightGBM] [Warning] Unknown parameter: lgbm__feature_fraction\n",
      "[LightGBM] [Warning] Unknown parameter: lgbm__scale_pos_weight\n",
      "[LightGBM] [Warning] Unknown parameter: lgbm__bagging_fraction\n",
      "[LightGBM] [Warning] Unknown parameter: lgbm__bagging_freq\n",
      "[LightGBM] [Warning] Unknown parameter: lgbm__reg_lambda\n",
      "[LightGBM] [Warning] Unknown parameter: lgbm__reg_alpha\n",
      "[LightGBM] [Info] Start training from score 0.080730\n"
     ]
    }
   ],
   "source": [
    "# Paramètres du modèle\n",
    "params = {'lgbm__learning_rate': 0.1,\n",
    " 'lgbm__num_leaves': 50,\n",
    " 'lgbm__max_depth': 10,\n",
    " 'lgbm__min_child_samples': 30,\n",
    " 'lgbm__feature_fraction': 0.8,\n",
    " 'lgbm__bagging_fraction': 0.8,\n",
    " 'lgbm__bagging_freq': 5,\n",
    " 'lgbm__reg_alpha': 0.5,\n",
    " 'lgbm__reg_lambda': 0.5,\n",
    " 'lgbm__scale_pos_weight': 1}\n",
    "\n",
    "gbm = lgb.train(params, train_data, num_boost_round=100, valid_sets=[test_data])\n",
    "\n",
    "\n"
   ]
  },
  {
   "cell_type": "code",
   "execution_count": 18,
   "id": "be963fb4-594f-460b-9550-d1822ce21e6b",
   "metadata": {},
   "outputs": [
    {
     "name": "stderr",
     "output_type": "stream",
     "text": [
      "Registered model 'LGBM_optim' already exists. Creating a new version of this model...\n",
      "2025/04/07 21:25:58 INFO mlflow.store.model_registry.abstract_store: Waiting up to 300 seconds for model version to finish creation. Model name: LGBM_optim, version 2\n"
     ]
    },
    {
     "name": "stdout",
     "output_type": "stream",
     "text": [
      "🏃 View run loud-sloth-411 at: http://127.0.0.1:5000/#/experiments/597761251475126147/runs/5a040d526de040cc8f527f0cc8b5cc30\n",
      "🧪 View experiment at: http://127.0.0.1:5000/#/experiments/597761251475126147\n"
     ]
    },
    {
     "name": "stderr",
     "output_type": "stream",
     "text": [
      "Created version '2' of model 'LGBM_optim'.\n"
     ]
    }
   ],
   "source": [
    "# Démarrer une run MLflow\n",
    "with mlflow.start_run() as run:\n",
    "    #  Enregistrer les paramètres du modèle\n",
    "    mlflow.log_params(params)\n",
    "    mlflow.log_param(\"model_type\", \"LightGBM\")\n",
    "\n",
    "    # Prédire les probabilités\n",
    "    y_pred_prob = gbm.predict(X_test, num_iteration=gbm.best_iteration)\n",
    "    # Calculer l'AUC\n",
    "    auc = roc_auc_score(y_test, y_pred_prob)\n",
    "    mlflow.log_metric(\"auc\", auc)\n",
    "\n",
    "    # Optimiser le seuil de décision\n",
    "    thresholds = np.linspace(0, 1, 100)\n",
    "    costs = [cost_function(y_test, y_pred_prob, threshold) for threshold in thresholds]\n",
    "    best_threshold = thresholds[np.argmin(costs)]\n",
    "\n",
    "    # Enregistrer le meilleur seuil\n",
    "    mlflow.log_param(\"best_threshold\", best_threshold)\n",
    "\n",
    "    # Évaluer le modèle avec le meilleur seuil\n",
    "    y_pred = (y_pred_prob >= best_threshold).astype(int)\n",
    "    min_cost = min(costs)\n",
    "    mlflow.log_metric(\"min_cost\", min_cost)\n",
    "\n",
    "    # Enregistrer le modèle avec un exemple d'entrée pour la signature\n",
    "    signature = mlflow.models.infer_signature(X_train, gbm.predict(X_train))\n",
    "    mlflow.lightgbm.log_model(gbm, \"LGBM\", signature=signature)\n",
    "\n",
    "    # Enregistrer le modèle dans le Model Registry\n",
    "    model_uri = f\"runs:/{run.info.run_id}/model\"\n",
    "    mlflow.register_model(model_uri, \"LGBM_optim\")"
   ]
  },
  {
   "cell_type": "code",
   "execution_count": 19,
   "id": "d45ad189-6fd8-4a8f-9671-1eb497816d9f",
   "metadata": {},
   "outputs": [
    {
     "data": {
      "text/plain": [
       "'runs:/5a040d526de040cc8f527f0cc8b5cc30/model'"
      ]
     },
     "execution_count": 19,
     "metadata": {},
     "output_type": "execute_result"
    }
   ],
   "source": [
    "model_uri"
   ]
  },
  {
   "cell_type": "code",
   "execution_count": 21,
   "id": "4d00883b-590d-466b-978f-51dab375aa0b",
   "metadata": {},
   "outputs": [],
   "source": [
    "mlflow.sklearn.save_model(gbm, 'LGBM', signature=signature)"
   ]
  },
  {
   "cell_type": "code",
   "execution_count": null,
   "id": "97ffa9c0-ddc8-48c9-8d6d-e435ef098762",
   "metadata": {},
   "outputs": [],
   "source": []
  },
  {
   "cell_type": "code",
   "execution_count": 20,
   "id": "f92b8031-0013-43c3-b2fb-461f34c3331b",
   "metadata": {
    "scrolled": true
   },
   "outputs": [
    {
     "data": {
      "image/png": "[encoded data removed]",
      "text/plain": [
       "<Figure size 640x480 with 1 Axes>"
      ]
     },
     "metadata": {},
     "output_type": "display_data"
    }
   ],
   "source": [
    "# Tracer la courbe ROC\n",
    "fpr, tpr, thresholds = roc_curve(y_test, y_pred_prob)\n",
    "plt.figure()\n",
    "plt.plot(fpr, tpr, color='darkorange', lw=2, label='Courbe ROC (AUC = %0.2f)' % auc)\n",
    "plt.plot([0, 1], [0, 1], color='navy', lw=2, linestyle='--')\n",
    "plt.xlim([0.0, 1.0])\n",
    "plt.ylim([0.0, 1.05])\n",
    "plt.xlabel('Taux de faux positifs')\n",
    "plt.ylabel('Taux de vrais positifs')\n",
    "plt.title('Courbe ROC')\n",
    "plt.legend(loc=\"lower right\")\n",
    "plt.show()"
   ]
  },
  {
   "cell_type": "markdown",
   "id": "725615c0-14d8-4cce-9ddc-77fd121b4e56",
   "metadata": {},
   "source": [
    "df : échantillon de montableau_entree\n",
    "fonction = transform df ie lgb.dataset(df)\n",
    "X =lgb.dataset(df)\n",
    "curl api.request(X)\n",
    "dans l'API request"
   ]
  },
  {
   "cell_type": "code",
   "execution_count": null,
   "id": "a8847e78-48bb-4244-9aa5-1ddd5fd452a2",
   "metadata": {},
   "outputs": [],
   "source": []
  },
  {
   "cell_type": "code",
   "execution_count": null,
   "id": "74f60197-e662-48f8-90bf-56690b5c7b72",
   "metadata": {},
   "outputs": [],
   "source": []
  },
  {
   "cell_type": "code",
   "execution_count": null,
   "id": "51eb7013-37be-4021-a438-dd18f0615573",
   "metadata": {},
   "outputs": [],
   "source": []
  },
  {
   "cell_type": "code",
   "execution_count": null,
   "id": "90805442-25b6-471e-83d8-ec7b1377b4d7",
   "metadata": {},
   "outputs": [],
   "source": []
  }
 ],
 "metadata": {
  "kernelspec": {
   "display_name": "Python 3 (ipykernel)",
   "language": "python",
   "name": "python3"
  },
  "language_info": {
   "codemirror_mode": {
    "name": "ipython",
    "version": 3
   },
   "file_extension": ".py",
   "mimetype": "text/x-python",
   "name": "python",
   "nbconvert_exporter": "python",
   "pygments_lexer": "ipython3",
   "version": "3.11.9"
  }
 },
 "nbformat": 4,
 "nbformat_minor": 5
}
