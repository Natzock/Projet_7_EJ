{
 "cells": [
  {
   "cell_type": "code",
   "execution_count": 1,
   "id": "8b231406-1b50-4740-b76d-41c95366b664",
   "metadata": {},
   "outputs": [],
   "source": [
    "import mlflow\n",
    "import mlflow.sklearn\n",
    "from mlflow.models import infer_signature\n",
    "import pandas as pd\n",
    "import numpy as np\n",
    "import seaborn as sns\n",
    "from sklearn import datasets\n",
    "from sklearn.model_selection import train_test_split, GridSearchCV,  KFold, StratifiedKFold, RandomizedSearchCV\n",
    "from sklearn.linear_model import LogisticRegression\n",
    "from sklearn.ensemble import RandomForestClassifier\n",
    "from sklearn.metrics import accuracy_score, precision_score, recall_score, f1_score\n",
    "from sklearn.feature_selection import SelectKBest, f_classif\n",
    "import gc\n",
    "import time\n",
    "from contextlib import contextmanager\n",
    "from lightgbm import LGBMClassifier\n",
    "from sklearn.metrics import roc_auc_score, roc_curve, accuracy_score, confusion_matrix\n",
    "from xgboost import XGBClassifier\n",
    "from imblearn.over_sampling import SMOTE\n",
    "from sklearn.pipeline import Pipeline\n",
    "from sklearn.impute import SimpleImputer\n",
    "from imblearn.pipeline import Pipeline as imbPipeline\n",
    "from collections import Counter\n",
    "import matplotlib.pyplot as plt\n",
    "import seaborn as sns\n",
    "import warnings\n",
    "import mlflow\n",
    "import mlflow.lightgbm\n",
    "import lightgbm as lgb\n",
    "import re\n",
    "from sklearn.preprocessing import LabelEncoder, StandardScaler"
   ]
  },
  {
   "cell_type": "markdown",
   "id": "b4582e84-e655-43ff-b89e-c301c0f80607",
   "metadata": {},
   "source": [
    "## charger les données"
   ]
  },
  {
   "cell_type": "code",
   "execution_count": 3,
   "id": "f40beedc-4368-4ed7-873d-841fe466fcf7",
   "metadata": {},
   "outputs": [],
   "source": [
    "data = pd.read_csv(\"../data/preprocess_table.csv\")"
   ]
  },
  {
   "cell_type": "markdown",
   "id": "40073aeb-e8fe-4d55-ba5b-cde2c6686f1d",
   "metadata": {},
   "source": [
    "## classe déséquilibrée"
   ]
  },
  {
   "cell_type": "code",
   "execution_count": 4,
   "id": "6398aaa7-21e1-4456-b799-4b0c13f0677e",
   "metadata": {},
   "outputs": [
    {
     "name": "stdout",
     "output_type": "stream",
     "text": [
      "Counter({0.0: 282682, 1.0: 24825})\n"
     ]
    }
   ],
   "source": [
    "# Séparer les caractéristiques (X) et les étiquettes (y)\n",
    "X = data.drop(columns=['TARGET'])\n",
    "y = data['TARGET']\n",
    "# summarize class distribution\n",
    "counter = Counter(y)\n",
    "print(counter)"
   ]
  },
  {
   "cell_type": "code",
   "execution_count": 5,
   "id": "0bad5d08-7603-4fa6-a6e9-3508cbb61043",
   "metadata": {},
   "outputs": [
    {
     "data": {
      "text/plain": [
       "(307507, 776)"
      ]
     },
     "execution_count": 5,
     "metadata": {},
     "output_type": "execute_result"
    }
   ],
   "source": [
    "X.shape"
   ]
  },
  {
   "cell_type": "markdown",
   "id": "5b41b49f-d553-4c52-b764-0d91d2bde951",
   "metadata": {},
   "source": [
    "### traitement des données"
   ]
  },
  {
   "cell_type": "code",
   "execution_count": 6,
   "id": "a27cfe68-842e-4aea-97e9-92a96c4b27cb",
   "metadata": {},
   "outputs": [],
   "source": [
    "# Séparation des données\n",
    "X_train, X_test, y_train, y_test = train_test_split(X, y, test_size=0.2, random_state=42, stratify=y)"
   ]
  },
  {
   "cell_type": "code",
   "execution_count": 7,
   "id": "5284e989-5dba-4f82-8b19-ff545bb01df0",
   "metadata": {},
   "outputs": [],
   "source": [
    "# imputation\n",
    "imputer = SimpleImputer(strategy='mean')\n",
    "X_train = imputer.fit_transform(X_train)\n",
    "X_test = imputer.transform(X_test)"
   ]
  },
  {
   "cell_type": "code",
   "execution_count": 8,
   "id": "946fcb70-da7a-4796-85b2-5d7ed444c846",
   "metadata": {},
   "outputs": [],
   "source": [
    "# Normalisation des données\n",
    "scaler = StandardScaler()\n",
    "X_train = scaler.fit_transform(X_train)\n",
    "X_test = scaler.transform(X_test)"
   ]
  },
  {
   "cell_type": "code",
   "execution_count": 9,
   "id": "78b83fd8-5b80-4ee8-9654-c5da5ecb8dec",
   "metadata": {},
   "outputs": [
    {
     "name": "stdout",
     "output_type": "stream",
     "text": [
      "Counter({0.0: 226145, 1.0: 19860})\n"
     ]
    }
   ],
   "source": [
    "counter = Counter(y_train)\n",
    "print(counter)\n",
    "\n"
   ]
  },
  {
   "cell_type": "code",
   "execution_count": 10,
   "id": "c4d0162b-fa49-40e5-aae6-310c3775c0f0",
   "metadata": {},
   "outputs": [],
   "source": [
    "train_data = lgb.Dataset(X_train, label=y_train)\n",
    "test_data = lgb.Dataset(X_test, label=y_test, reference=train_data)\n"
   ]
  },
  {
   "cell_type": "code",
   "execution_count": 11,
   "id": "1a873479-243a-49ca-bdbb-75402ee6ee2e",
   "metadata": {},
   "outputs": [
    {
     "data": {
      "text/plain": [
       "<lightgbm.basic.Dataset at 0x1d0383bec10>"
      ]
     },
     "execution_count": 11,
     "metadata": {},
     "output_type": "execute_result"
    }
   ],
   "source": [
    "train_data"
   ]
  },
  {
   "cell_type": "markdown",
   "id": "b43377db-7c55-4588-b3f8-a5f4871eef54",
   "metadata": {},
   "source": [
    "## configurer ML_flow"
   ]
  },
  {
   "cell_type": "code",
   "execution_count": 12,
   "id": "3c5636af-b306-45b4-a6fa-0e20f0b019a7",
   "metadata": {},
   "outputs": [],
   "source": [
    "#définition du serveur de suivi mlflow\n",
    "mlflow.set_tracking_uri(uri=\"http://127.0.0.1:5000/\")  #équivalent à http://localhost:5000\n",
    "# le lancer sur un prompt : mlflow server --host 127.0.0.1 --port 5000"
   ]
  },
  {
   "cell_type": "markdown",
   "id": "aed8b1e1-9bfb-4a3f-92c5-70528567600a",
   "metadata": {},
   "source": [
    "### score"
   ]
  },
  {
   "cell_type": "code",
   "execution_count": 13,
   "id": "6b1775a6-fa84-43ca-9c09-2bd11ff0e015",
   "metadata": {},
   "outputs": [],
   "source": [
    "# Définir la fonction de coût\n",
    "def cost_function(y_true, y_pred_prob, threshold, cost_fn=10, cost_fp=1):\n",
    "    y_pred = (y_pred_prob >= threshold).astype(int)\n",
    "    tn, fp, fn, tp = confusion_matrix(y_true, y_pred).ravel()\n",
    "    cost = (fn * cost_fn) + (fp * cost_fp)\n",
    "    return cost"
   ]
  },
  {
   "cell_type": "code",
   "execution_count": 14,
   "id": "35e60ec6-0645-439c-8628-1d65f1ccf209",
   "metadata": {},
   "outputs": [
    {
     "data": {
      "text/plain": [
       "<Experiment: artifact_location='mlflow-artifacts:/885410989458547713', creation_time=1744652016843, experiment_id='885410989458547713', last_update_time=1744652016843, lifecycle_stage='active', name='P7_EJ_score', tags={}>"
      ]
     },
     "execution_count": 14,
     "metadata": {},
     "output_type": "execute_result"
    }
   ],
   "source": [
    "experiment_name=\"P7_EJ_score\"\n",
    "mlflow.set_experiment(experiment_name)"
   ]
  },
  {
   "cell_type": "markdown",
   "id": "b9523f56-c9dd-4373-b455-e26952e83b0b",
   "metadata": {},
   "source": [
    "## ligthGBM"
   ]
  },
  {
   "cell_type": "code",
   "execution_count": 15,
   "id": "055f289d-8a26-4f69-8c9c-6f49d70d791b",
   "metadata": {},
   "outputs": [],
   "source": [
    "train_data = lgb.Dataset(X_train, label=y_train)\n",
    "test_data = lgb.Dataset(X_test, label=y_test, reference=train_data)\n"
   ]
  },
  {
   "cell_type": "code",
   "execution_count": 14,
   "id": "21728f3e-215e-4b69-a708-7ced511b27a2",
   "metadata": {},
   "outputs": [],
   "source": [
    "'''# Créer un pipeline avec SMOTE et LightGBM\n",
    "pipeline = imbPipeline([\n",
    "    ('smote', SMOTE(random_state=42)),\n",
    "    ('lgbm', lgb.LGBMClassifier(boosting_type='gbdt', objective='binary', metric='auc', random_state=42))\n",
    "])'''"
   ]
  },
  {
   "cell_type": "code",
   "execution_count": 18,
   "id": "685a4525-d9d2-4793-be17-020f3a860c68",
   "metadata": {},
   "outputs": [
    {
     "name": "stdout",
     "output_type": "stream",
     "text": [
      "[LightGBM] [Warning] Unknown parameter: lgbm__learning_rate\n",
      "[LightGBM] [Warning] Unknown parameter: lgbm__min_child_samples\n",
      "[LightGBM] [Warning] Unknown parameter: lgbm__num_leaves\n",
      "[LightGBM] [Warning] Unknown parameter: lgbm__max_depth\n",
      "[LightGBM] [Warning] Unknown parameter: lgbm__feature_fraction\n",
      "[LightGBM] [Warning] Unknown parameter: lgbm__scale_pos_weight\n",
      "[LightGBM] [Warning] Unknown parameter: lgbm__bagging_fraction\n",
      "[LightGBM] [Warning] Unknown parameter: lgbm__bagging_freq\n",
      "[LightGBM] [Warning] Unknown parameter: lgbm__reg_lambda\n",
      "[LightGBM] [Warning] Unknown parameter: lgbm__reg_alpha\n",
      "[LightGBM] [Warning] Unknown parameter: lgbm__learning_rate\n",
      "[LightGBM] [Warning] Unknown parameter: lgbm__min_child_samples\n",
      "[LightGBM] [Warning] Unknown parameter: lgbm__num_leaves\n",
      "[LightGBM] [Warning] Unknown parameter: lgbm__max_depth\n",
      "[LightGBM] [Warning] Unknown parameter: lgbm__feature_fraction\n",
      "[LightGBM] [Warning] Unknown parameter: lgbm__scale_pos_weight\n",
      "[LightGBM] [Warning] Unknown parameter: lgbm__bagging_fraction\n",
      "[LightGBM] [Warning] Unknown parameter: lgbm__bagging_freq\n",
      "[LightGBM] [Warning] Unknown parameter: lgbm__reg_lambda\n",
      "[LightGBM] [Warning] Unknown parameter: lgbm__reg_alpha\n",
      "[LightGBM] [Info] Auto-choosing col-wise multi-threading, the overhead of testing was 1.398914 seconds.\n",
      "You can set `force_col_wise=true` to remove the overhead.\n",
      "[LightGBM] [Info] Total Bins 99257\n",
      "[LightGBM] [Info] Number of data points in the train set: 246005, number of used features: 741\n",
      "[LightGBM] [Info] Start training from score 0.080730\n"
     ]
    }
   ],
   "source": [
    "# Paramètres du modèle\n",
    "params = {'learning_rate': 0.1,\n",
    " 'num_leaves': 50,\n",
    " 'max_depth': 10,\n",
    " 'min_child_samples': 30,\n",
    " 'feature_fraction': 0.8,\n",
    " 'bagging_fraction': 0.8,\n",
    " 'bagging_freq': 5,\n",
    " 'reg_alpha': 0.5,\n",
    " 'reg_lambda': 0.5,\n",
    " 'scale_pos_weight': 1}\n",
    "\n",
    "gbm = lgb.train(params, train_data, num_boost_round=100, valid_sets=[test_data])\n",
    "\n",
    "\n"
   ]
  },
  {
   "cell_type": "code",
   "execution_count": 19,
   "id": "be963fb4-594f-460b-9550-d1822ce21e6b",
   "metadata": {},
   "outputs": [
    {
     "name": "stderr",
     "output_type": "stream",
     "text": [
      "Registered model 'LGBM_optim' already exists. Creating a new version of this model...\n",
      "2025/04/15 17:45:53 INFO mlflow.store.model_registry.abstract_store: Waiting up to 300 seconds for model version to finish creation. Model name: LGBM_optim, version 2\n"
     ]
    },
    {
     "name": "stdout",
     "output_type": "stream",
     "text": [
      "🏃 View run chill-tern-275 at: http://127.0.0.1:5000/#/experiments/885410989458547713/runs/11cdf0825c584494992609ef0dae2001\n",
      "🧪 View experiment at: http://127.0.0.1:5000/#/experiments/885410989458547713\n"
     ]
    },
    {
     "name": "stderr",
     "output_type": "stream",
     "text": [
      "Created version '2' of model 'LGBM_optim'.\n"
     ]
    }
   ],
   "source": [
    "# Démarrer une run MLflow\n",
    "with mlflow.start_run() as run:\n",
    "    #  Enregistrer les paramètres du modèle\n",
    "    mlflow.log_params(params)\n",
    "    mlflow.log_param(\"model_type\", \"LightGBM\")\n",
    "\n",
    "    # Prédire les probabilités\n",
    "    y_pred_prob = gbm.predict(X_test, num_iteration=gbm.best_iteration)\n",
    "    # Calculer l'AUC\n",
    "    auc = roc_auc_score(y_test, y_pred_prob)\n",
    "    mlflow.log_metric(\"auc\", auc)\n",
    "\n",
    "    # Optimiser le seuil de décision\n",
    "    thresholds = np.linspace(0, 1, 100)\n",
    "    costs = [cost_function(y_test, y_pred_prob, threshold) for threshold in thresholds]\n",
    "    best_threshold = thresholds[np.argmin(costs)]\n",
    "\n",
    "    # Enregistrer le meilleur seuil\n",
    "    mlflow.log_param(\"best_threshold\", best_threshold)\n",
    "\n",
    "    # Évaluer le modèle avec le meilleur seuil\n",
    "    y_pred = (y_pred_prob >= best_threshold).astype(int)\n",
    "    min_cost = min(costs)\n",
    "    mlflow.log_metric(\"min_cost\", min_cost)\n",
    "\n",
    "    # Enregistrer le modèle avec un exemple d'entrée pour la signature\n",
    "    signature = mlflow.models.infer_signature(X_train, gbm.predict(X_train))\n",
    "    mlflow.lightgbm.log_model(gbm, \"LGBM\", signature=signature)\n",
    "\n",
    "    # Enregistrer le modèle dans le Model Registry\n",
    "    model_uri = f\"runs:/{run.info.run_id}/model\"\n",
    "    mlflow.register_model(model_uri, \"LGBM_optim\")"
   ]
  },
  {
   "cell_type": "code",
   "execution_count": 20,
   "id": "d45ad189-6fd8-4a8f-9671-1eb497816d9f",
   "metadata": {},
   "outputs": [
    {
     "data": {
      "text/plain": [
       "'runs:/11cdf0825c584494992609ef0dae2001/model'"
      ]
     },
     "execution_count": 20,
     "metadata": {},
     "output_type": "execute_result"
    }
   ],
   "source": [
    "model_uri"
   ]
  },
  {
   "cell_type": "code",
   "execution_count": 21,
   "id": "4d00883b-590d-466b-978f-51dab375aa0b",
   "metadata": {},
   "outputs": [],
   "source": [
    "mlflow.sklearn.save_model(gbm, 'LGBM', signature=signature)"
   ]
  },
  {
   "cell_type": "code",
   "execution_count": null,
   "id": "97ffa9c0-ddc8-48c9-8d6d-e435ef098762",
   "metadata": {},
   "outputs": [],
   "source": []
  },
  {
   "cell_type": "code",
   "execution_count": 22,
   "id": "f92b8031-0013-43c3-b2fb-461f34c3331b",
   "metadata": {
    "scrolled": true
   },
   "outputs": [
    {
     "data": {
      "image/png": "[encoded data removed]",
      "text/plain": [
       "<Figure size 640x480 with 1 Axes>"
      ]
     },
     "metadata": {},
     "output_type": "display_data"
    }
   ],
   "source": [
    "# Tracer la courbe ROC\n",
    "fpr, tpr, thresholds = roc_curve(y_test, y_pred_prob)\n",
    "plt.figure()\n",
    "plt.plot(fpr, tpr, color='darkorange', lw=2, label='Courbe ROC (AUC = %0.2f)' % auc)\n",
    "plt.plot([0, 1], [0, 1], color='navy', lw=2, linestyle='--')\n",
    "plt.xlim([0.0, 1.0])\n",
    "plt.ylim([0.0, 1.05])\n",
    "plt.xlabel('Taux de faux positifs')\n",
    "plt.ylabel('Taux de vrais positifs')\n",
    "plt.title('Courbe ROC')\n",
    "plt.legend(loc=\"lower right\")\n",
    "plt.show()"
   ]
  },
  {
   "cell_type": "markdown",
   "id": "725615c0-14d8-4cce-9ddc-77fd121b4e56",
   "metadata": {},
   "source": [
    "df : échantillon de montableau_entree\n",
    "fonction = transform df ie lgb.dataset(df)\n",
    "X =lgb.dataset(df)\n",
    "curl api.request(X)\n",
    "dans l'API request"
   ]
  },
  {
   "cell_type": "code",
   "execution_count": null,
   "id": "a8847e78-48bb-4244-9aa5-1ddd5fd452a2",
   "metadata": {},
   "outputs": [],
   "source": []
  },
  {
   "cell_type": "code",
   "execution_count": null,
   "id": "74f60197-e662-48f8-90bf-56690b5c7b72",
   "metadata": {},
   "outputs": [],
   "source": []
  },
  {
   "cell_type": "code",
   "execution_count": null,
   "id": "51eb7013-37be-4021-a438-dd18f0615573",
   "metadata": {},
   "outputs": [],
   "source": []
  },
  {
   "cell_type": "code",
   "execution_count": null,
   "id": "90805442-25b6-471e-83d8-ec7b1377b4d7",
   "metadata": {},
   "outputs": [],
   "source": []
  }
 ],
 "metadata": {
  "kernelspec": {
   "display_name": "Python 3 (ipykernel)",
   "language": "python",
   "name": "python3"
  },
  "language_info": {
   "codemirror_mode": {
    "name": "ipython",
    "version": 3
   },
   "file_extension": ".py",
   "mimetype": "text/x-python",
   "name": "python",
   "nbconvert_exporter": "python",
   "pygments_lexer": "ipython3",
   "version": "3.11.9"
  }
 },
 "nbformat": 4,
 "nbformat_minor": 5
}
