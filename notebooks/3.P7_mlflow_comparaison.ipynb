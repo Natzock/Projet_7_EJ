{
 "cells": [
  {
   "cell_type": "code",
   "execution_count": 1,
   "id": "8b231406-1b50-4740-b76d-41c95366b664",
   "metadata": {},
   "outputs": [],
   "source": [
    "import mlflow\n",
    "import mlflow.sklearn\n",
    "from mlflow.models import infer_signature\n",
    "import pandas as pd\n",
    "import numpy as np\n",
    "import seaborn as sns\n",
    "from sklearn import datasets\n",
    "from sklearn.model_selection import train_test_split, GridSearchCV,  KFold, StratifiedKFold, RandomizedSearchCV\n",
    "from sklearn.linear_model import LogisticRegression\n",
    "from sklearn.ensemble import RandomForestClassifier\n",
    "from sklearn.metrics import accuracy_score, precision_score, recall_score, f1_score\n",
    "from sklearn.feature_selection import SelectKBest, f_classif\n",
    "import gc\n",
    "import time\n",
    "from contextlib import contextmanager\n",
    "from lightgbm import LGBMClassifier\n",
    "from sklearn.metrics import roc_auc_score, roc_curve, accuracy_score, confusion_matrix\n",
    "from xgboost import XGBClassifier\n",
    "from imblearn.over_sampling import SMOTE\n",
    "from sklearn.pipeline import Pipeline\n",
    "from sklearn.impute import SimpleImputer\n",
    "from imblearn.pipeline import Pipeline as imbPipeline\n",
    "from collections import Counter\n",
    "import matplotlib.pyplot as plt\n",
    "\n",
    "import warnings\n",
    "import mlflow\n",
    "import mlflow.lightgbm\n",
    "import lightgbm as lgb\n",
    "import re\n",
    "from sklearn.preprocessing import LabelEncoder, StandardScaler"
   ]
  },
  {
   "cell_type": "markdown",
   "id": "b4582e84-e655-43ff-b89e-c301c0f80607",
   "metadata": {},
   "source": [
    "## charger les données"
   ]
  },
  {
   "cell_type": "code",
   "execution_count": 2,
   "id": "f40beedc-4368-4ed7-873d-841fe466fcf7",
   "metadata": {},
   "outputs": [],
   "source": [
    "data = pd.read_csv(\"../data/preprocess_table.csv\")"
   ]
  },
  {
   "cell_type": "markdown",
   "id": "40073aeb-e8fe-4d55-ba5b-cde2c6686f1d",
   "metadata": {},
   "source": [
    "## classe déséquilibrée"
   ]
  },
  {
   "cell_type": "code",
   "execution_count": 3,
   "id": "6398aaa7-21e1-4456-b799-4b0c13f0677e",
   "metadata": {},
   "outputs": [
    {
     "name": "stdout",
     "output_type": "stream",
     "text": [
      "Counter({0.0: 282682, 1.0: 24825})\n"
     ]
    }
   ],
   "source": [
    "# Séparer les caractéristiques (X) et les étiquettes (y)\n",
    "X = data.drop(columns=['TARGET'])\n",
    "y = data['TARGET']\n",
    "# summarize class distribution\n",
    "counter = Counter(y)\n",
    "print(counter)"
   ]
  },
  {
   "cell_type": "code",
   "execution_count": 4,
   "id": "0bad5d08-7603-4fa6-a6e9-3508cbb61043",
   "metadata": {},
   "outputs": [
    {
     "data": {
      "text/plain": [
       "(307507, 776)"
      ]
     },
     "execution_count": 4,
     "metadata": {},
     "output_type": "execute_result"
    }
   ],
   "source": [
    "X.shape"
   ]
  },
  {
   "cell_type": "markdown",
   "id": "5b41b49f-d553-4c52-b764-0d91d2bde951",
   "metadata": {},
   "source": [
    "### traitement des données"
   ]
  },
  {
   "cell_type": "code",
   "execution_count": 5,
   "id": "a27cfe68-842e-4aea-97e9-92a96c4b27cb",
   "metadata": {},
   "outputs": [],
   "source": [
    "# Séparation des données\n",
    "X_train, X_test, y_train, y_test = train_test_split(X, y, test_size=0.2, random_state=42, stratify=y)"
   ]
  },
  {
   "cell_type": "code",
   "execution_count": 6,
   "id": "5284e989-5dba-4f82-8b19-ff545bb01df0",
   "metadata": {},
   "outputs": [],
   "source": [
    "# imputation\n",
    "imputer = SimpleImputer(strategy='mean')\n",
    "X_train = imputer.fit_transform(X_train)\n",
    "X_test = imputer.transform(X_test)"
   ]
  },
  {
   "cell_type": "code",
   "execution_count": 7,
   "id": "946fcb70-da7a-4796-85b2-5d7ed444c846",
   "metadata": {},
   "outputs": [],
   "source": [
    "# Normalisation des données\n",
    "scaler = StandardScaler()\n",
    "X_train = scaler.fit_transform(X_train)\n",
    "X_test = scaler.transform(X_test)"
   ]
  },
  {
   "cell_type": "code",
   "execution_count": 8,
   "id": "78b83fd8-5b80-4ee8-9654-c5da5ecb8dec",
   "metadata": {},
   "outputs": [
    {
     "name": "stdout",
     "output_type": "stream",
     "text": [
      "Counter({0.0: 226145, 1.0: 19860})\n"
     ]
    }
   ],
   "source": [
    "counter = Counter(y_train)\n",
    "print(counter)\n",
    "\n"
   ]
  },
  {
   "cell_type": "markdown",
   "id": "b43377db-7c55-4588-b3f8-a5f4871eef54",
   "metadata": {},
   "source": [
    "## configurer ML_flow"
   ]
  },
  {
   "cell_type": "code",
   "execution_count": 9,
   "id": "3c5636af-b306-45b4-a6fa-0e20f0b019a7",
   "metadata": {},
   "outputs": [],
   "source": [
    "#définition du serveur de suivi mlflow\n",
    "mlflow.set_tracking_uri(uri=\"http://127.0.0.1:5000/\")  #équivalent à http://localhost:5000\n",
    "# le lancer sur un prompt : mlflow server --host 127.0.0.1 --port 5000"
   ]
  },
  {
   "cell_type": "markdown",
   "id": "aed8b1e1-9bfb-4a3f-92c5-70528567600a",
   "metadata": {},
   "source": [
    "### score"
   ]
  },
  {
   "cell_type": "code",
   "execution_count": 10,
   "id": "6b1775a6-fa84-43ca-9c09-2bd11ff0e015",
   "metadata": {},
   "outputs": [],
   "source": [
    "# Définir la fonction de coût\n",
    "def cost_function(y_true, y_pred_prob, threshold, cost_fn=10, cost_fp=1):\n",
    "    y_pred = (y_pred_prob >= threshold).astype(int)\n",
    "    tn, fp, fn, tp = confusion_matrix(y_true, y_pred).ravel()\n",
    "    cost = (fn * cost_fn) + (fp * cost_fp)\n",
    "    return cost"
   ]
  },
  {
   "cell_type": "code",
   "execution_count": 11,
   "id": "35e60ec6-0645-439c-8628-1d65f1ccf209",
   "metadata": {},
   "outputs": [
    {
     "data": {
      "text/plain": [
       "<Experiment: artifact_location='mlflow-artifacts:/885410989458547713', creation_time=1744652016843, experiment_id='885410989458547713', last_update_time=1744652016843, lifecycle_stage='active', name='P7_EJ_score', tags={}>"
      ]
     },
     "execution_count": 11,
     "metadata": {},
     "output_type": "execute_result"
    }
   ],
   "source": [
    "experiment_name=\"P7_EJ_score\"\n",
    "mlflow.set_experiment(experiment_name)"
   ]
  },
  {
   "cell_type": "markdown",
   "id": "7c38e79b-2b1c-4752-b988-ce31da95d7d1",
   "metadata": {},
   "source": [
    "## baseline"
   ]
  },
  {
   "cell_type": "markdown",
   "id": "577a35fa-67cf-4f1e-af33-76199437887c",
   "metadata": {},
   "source": [
    "### régression logistique"
   ]
  },
  {
   "cell_type": "code",
   "execution_count": 12,
   "id": "15ff43f4-a97a-4927-bf97-96b156b9720a",
   "metadata": {},
   "outputs": [
    {
     "name": "stderr",
     "output_type": "stream",
     "text": [
      "Registered model 'LR_simple_déséquilibré' already exists. Creating a new version of this model...\n",
      "2025/05/05 16:36:53 INFO mlflow.store.model_registry.abstract_store: Waiting up to 300 seconds for model version to finish creation. Model name: LR_simple_déséquilibré, version 2\n"
     ]
    },
    {
     "name": "stdout",
     "output_type": "stream",
     "text": [
      "🏃 View run zealous-robin-873 at: http://127.0.0.1:5000/#/experiments/885410989458547713/runs/04ba88df5a0f482aa1757de7bb0d91cf\n",
      "🧪 View experiment at: http://127.0.0.1:5000/#/experiments/885410989458547713\n"
     ]
    },
    {
     "name": "stderr",
     "output_type": "stream",
     "text": [
      "Created version '2' of model 'LR_simple_déséquilibré'.\n"
     ]
    }
   ],
   "source": [
    "# Démarrer une run MLflow\n",
    "with mlflow.start_run() as run:\n",
    "    # Enregistrer les paramètres du modèle\n",
    "    mlflow.log_param(\"model_type\", \"Logistic Regression\")\n",
    "\n",
    "    # Initialiser et entraîner le modèle\n",
    "    model = LogisticRegression(random_state=42, class_weight='balanced', max_iter=1000)\n",
    "    model.fit(X_train, y_train)\n",
    "\n",
    "    # Enregistrer les métriques\n",
    "    y_pred_prob = model.predict_proba(X_test)[:, 1]\n",
    "    auc = roc_auc_score(y_test, y_pred_prob)\n",
    "    mlflow.log_metric(\"auc\", auc)\n",
    "\n",
    "    # Enregistrer le modèle avec un exemple d'entrée pour la signature\n",
    "    signature = mlflow.models.infer_signature(X_train, model.predict_proba(X_train))\n",
    "    mlflow.sklearn.log_model(model, \"model\", signature=signature)\n",
    "\n",
    "    # Enregistrer le modèle dans le Model Registry\n",
    "    model_uri = f\"runs:/{run.info.run_id}/model\"\n",
    "    mlflow.register_model(model_uri, \"LR_simple_déséquilibré\")"
   ]
  },
  {
   "cell_type": "markdown",
   "id": "66a3818c-34f1-45b3-bdd4-e89a0f1fd874",
   "metadata": {},
   "source": [
    "### utilisation du score cost"
   ]
  },
  {
   "cell_type": "code",
   "execution_count": 13,
   "id": "d4569d1d-3f14-45b2-ae1b-ee8d81d691e4",
   "metadata": {},
   "outputs": [
    {
     "name": "stderr",
     "output_type": "stream",
     "text": [
      "Registered model 'LR_cost_déséquilibré' already exists. Creating a new version of this model...\n",
      "2025/05/05 16:37:38 INFO mlflow.store.model_registry.abstract_store: Waiting up to 300 seconds for model version to finish creation. Model name: LR_cost_déséquilibré, version 2\n"
     ]
    },
    {
     "name": "stdout",
     "output_type": "stream",
     "text": [
      "🏃 View run melodic-rook-437 at: http://127.0.0.1:5000/#/experiments/885410989458547713/runs/807da57c25eb4d178740951174ceeb29\n",
      "🧪 View experiment at: http://127.0.0.1:5000/#/experiments/885410989458547713\n"
     ]
    },
    {
     "name": "stderr",
     "output_type": "stream",
     "text": [
      "Created version '2' of model 'LR_cost_déséquilibré'.\n"
     ]
    }
   ],
   "source": [
    "# Démarrer une run MLflow\n",
    "with mlflow.start_run() as run:\n",
    "    # Enregistrer les paramètres du modèle\n",
    "    mlflow.log_param(\"model_type\", \"Logistic Regression\")\n",
    "\n",
    "    # Initialiser et entraîner le modèle\n",
    "    model = LogisticRegression(random_state=42, class_weight='balanced', max_iter=1000)\n",
    "    model.fit(X_train, y_train)\n",
    "\n",
    "    # Enregistrer les métriques\n",
    "    y_pred_prob = model.predict_proba(X_test)[:, 1]\n",
    "    auc = roc_auc_score(y_test, y_pred_prob)\n",
    "    mlflow.log_metric(\"auc\", auc)\n",
    "\n",
    "    # Optimiser le seuil de décision\n",
    "    thresholds = np.linspace(0, 1, 100)\n",
    "    costs = [cost_function(y_test, y_pred_prob, threshold) for threshold in thresholds]\n",
    "    best_threshold = thresholds[np.argmin(costs)]\n",
    "\n",
    "    # Enregistrer le meilleur seuil\n",
    "    mlflow.log_param(\"best_threshold\", best_threshold)\n",
    "\n",
    "    # Évaluer le modèle avec le meilleur seuil\n",
    "    y_pred = (y_pred_prob >= best_threshold).astype(int)\n",
    "    min_cost = min(costs)\n",
    "    mlflow.log_metric(\"min_cost\", min_cost)\n",
    "\n",
    "    # Enregistrer le modèle avec un exemple d'entrée pour la signature\n",
    "    signature = mlflow.models.infer_signature(X_train, model.predict_proba(X_train))\n",
    "    mlflow.sklearn.log_model(model, \"model\", signature=signature)\n",
    "\n",
    "    # Enregistrer le modèle dans le Model Registry\n",
    "    model_uri = f\"runs:/{run.info.run_id}/model\"\n",
    "    mlflow.register_model(model_uri, \"LR_cost_déséquilibré\")"
   ]
  },
  {
   "cell_type": "code",
   "execution_count": 14,
   "id": "2f2f6801-f328-42ce-a1a8-1ef505400e72",
   "metadata": {},
   "outputs": [
    {
     "data": {
      "image/png": "[encoded data removed]",
      "text/plain": [
       "<Figure size 640x480 with 1 Axes>"
      ]
     },
     "metadata": {},
     "output_type": "display_data"
    }
   ],
   "source": [
    "# Tracer la courbe ROC\n",
    "fpr, tpr, thresholds = roc_curve(y_test, y_pred_prob)\n",
    "plt.figure()\n",
    "plt.plot(fpr, tpr, color='darkorange', lw=2, label='Courbe ROC (AUC = %0.2f)' % auc)\n",
    "plt.plot([0, 1], [0, 1], color='navy', lw=2, linestyle='--')\n",
    "plt.xlim([0.0, 1.0])\n",
    "plt.ylim([0.0, 1.05])\n",
    "plt.xlabel('Taux de faux positifs')\n",
    "plt.ylabel('Taux de vrais positifs')\n",
    "plt.title('Courbe ROC')\n",
    "plt.legend(loc=\"lower right\")\n",
    "plt.show()"
   ]
  },
  {
   "cell_type": "markdown",
   "id": "b53aa716-a4a8-4168-8b18-400b02e7a3f4",
   "metadata": {},
   "source": [
    "### optimisation hyperparamètres sur échantillon"
   ]
  },
  {
   "cell_type": "markdown",
   "id": "5dfe08a0-ce96-4d20-963c-7a8f58f577ca",
   "metadata": {},
   "source": [
    "gridsearchCV et randomsearchCV plante faute de mémoire\n",
    "on va donc chercher à optimiser les hyperparamètres sur un éhcantillon"
   ]
  },
  {
   "cell_type": "code",
   "execution_count": 15,
   "id": "7ad35e31-9a77-4bae-b977-0c4c7af35c4a",
   "metadata": {},
   "outputs": [
    {
     "data": {
      "text/plain": [
       "((246005, 776), (246005,))"
      ]
     },
     "execution_count": 15,
     "metadata": {},
     "output_type": "execute_result"
    }
   ],
   "source": [
    "X_train.shape, y_train.shape"
   ]
  },
  {
   "cell_type": "markdown",
   "id": "b1a9f90c-168a-4963-b631-2f3e38e7c092",
   "metadata": {},
   "source": [
    "### recherche hyperparamètre LR sur échantillon"
   ]
  },
  {
   "cell_type": "code",
   "execution_count": 16,
   "id": "6532c350-9c8e-4d78-88f5-e516bcae50c2",
   "metadata": {},
   "outputs": [],
   "source": [
    "# Sous-échantillonnage des données\n",
    "sample_size = 10000  # Taille de l'échantillon\n",
    "X_sample, _, y_sample, _ = train_test_split(X_train, y_train, train_size=sample_size, stratify=y_train, random_state=42)\n",
    "\n",
    "# Séparer les données échantillonnées en ensembles d'entraînement et de test\n",
    "X_samp_train, X_samp_test, y_samp_train, y_samp_test = train_test_split(X_sample, y_sample, test_size=0.2, random_state=42)"
   ]
  },
  {
   "cell_type": "code",
   "execution_count": 17,
   "id": "2d1ca94b-565c-429e-a841-239952de5336",
   "metadata": {},
   "outputs": [],
   "source": [
    "# Réduire la précision des données\n",
    "X_samp_train = X_samp_train.astype(np.float32)\n",
    "X_samp_test = X_samp_test.astype(np.float32)"
   ]
  },
  {
   "cell_type": "code",
   "execution_count": 18,
   "id": "5061f9ce-2a90-4c83-adc6-58224cddfc3d",
   "metadata": {},
   "outputs": [],
   "source": [
    "# Vérifier qu'il n'y a pas de valeurs manquantes dans X_train\n",
    "assert not np.isnan(X_train).any(), \"Il y a des valeurs manquantes dans X_train après l'imputation.\""
   ]
  },
  {
   "cell_type": "code",
   "execution_count": 19,
   "id": "3a3d5a14-2c1c-4203-bc0c-71037769525f",
   "metadata": {},
   "outputs": [],
   "source": [
    "# Définir une grille d'hyperparamètres\n",
    "param_dist = {\n",
    "    'C': [ 0.1, 10],\n",
    "    'penalty': ['l1', 'l2'],\n",
    "    'solver': ['liblinear'],  # 'liblinear' supporte à la fois 'l1' et 'l2'\n",
    "    'class_weight': [None, 'balanced']}"
   ]
  },
  {
   "cell_type": "code",
   "execution_count": 20,
   "id": "14fb8e9b-74c8-441f-850d-900e246c43c1",
   "metadata": {},
   "outputs": [],
   "source": [
    "# Initialiser le modèle\n",
    "model = LogisticRegression(random_state=42, class_weight='balanced')\n",
    "# Initialiser RandomizedSearchCV\n",
    "random_search = RandomizedSearchCV(model, param_distributions=param_dist, n_iter=10, cv=3, scoring='roc_auc', n_jobs=2)\n"
   ]
  },
  {
   "cell_type": "code",
   "execution_count": 21,
   "id": "f70950a3-51a7-4bb7-a6b8-5937a8f80523",
   "metadata": {},
   "outputs": [
    {
     "name": "stderr",
     "output_type": "stream",
     "text": [
      "C:\\Users\\Emmanuel\\anaconda3\\envs\\P7_py311\\Lib\\site-packages\\sklearn\\model_selection\\_search.py:317: UserWarning: The total space of parameters 8 is smaller than n_iter=10. Running 8 iterations. For exhaustive searches, use GridSearchCV.\n",
      "  warnings.warn(\n",
      "\n",
      "KeyboardInterrupt\n",
      "\n"
     ]
    }
   ],
   "source": [
    "# Effectuer la recherche d'hyperparamètres\n",
    "random_search.fit(X_samp_train, y_samp_train)\n",
    "\n",
    "# Enregistrer les meilleurs paramètres\n",
    "best_params = random_search.best_params_\n",
    "    "
   ]
  },
  {
   "cell_type": "code",
   "execution_count": null,
   "id": "fd4ab7ae-5589-4d63-a160-9c87a043faa4",
   "metadata": {},
   "outputs": [],
   "source": [
    "best_params"
   ]
  },
  {
   "cell_type": "code",
   "execution_count": null,
   "id": "35dd16d7-a086-4614-b4d6-c988796d4606",
   "metadata": {},
   "outputs": [],
   "source": [
    "random_search.best_estimator_"
   ]
  },
  {
   "cell_type": "code",
   "execution_count": null,
   "id": "c6ed8ed1-11f3-45bc-826e-6e842e6c27c0",
   "metadata": {},
   "outputs": [],
   "source": [
    "# Démarrer une run MLflow\n",
    "with mlflow.start_run() as run:\n",
    "    # Enregistrer les paramètres    \n",
    "    mlflow.log_params(best_params)\n",
    "   \n",
    "\n",
    "    # Enregistrer les métriques\n",
    "    best_model = random_search.best_estimator_\n",
    "    y_pred_prob = best_model.predict_proba(X_samp_test)[:, 1]\n",
    "    auc = roc_auc_score(y_samp_test, y_pred_prob)\n",
    "    mlflow.log_metric(\"auc\", auc)\n",
    "\n",
    "    # Optimiser le seuil de décision\n",
    "    thresholds = np.linspace(0, 1, 100)\n",
    "    costs = [cost_function(y_samp_test, y_pred_prob, threshold) for threshold in thresholds]\n",
    "    best_threshold = thresholds[np.argmin(costs)]\n",
    "\n",
    "    # Enregistrer le meilleur seuil\n",
    "    mlflow.log_param(\"best_threshold\", best_threshold)\n",
    "\n",
    "    # Évaluer le modèle avec le meilleur seuil\n",
    "    y_pred = (y_pred_prob >= best_threshold).astype(int)\n",
    "    min_cost = min(costs)\n",
    "    mlflow.log_metric(\"min_cost\", min_cost)\n",
    "\n",
    "    # Enregistrer le modèle avec un exemple d'entrée pour la signature\n",
    "    signature = mlflow.models.infer_signature(X_train, best_model.predict_proba(X_train))\n",
    "    mlflow.sklearn.log_model(best_model, \"model\", signature=signature)\n",
    "\n",
    "    # Enregistrer le modèle dans le Model Registry\n",
    "    model_uri = f\"runs:/{run.info.run_id}/model\"\n",
    "    mlflow.register_model(model_uri, \"LR_partiellement_optimisée_échantillon\")"
   ]
  },
  {
   "cell_type": "code",
   "execution_count": null,
   "id": "f04eed65-0bfb-477a-a416-eff934ad0302",
   "metadata": {
    "scrolled": true
   },
   "outputs": [],
   "source": [
    "# Tracer la courbe ROC\n",
    "fpr, tpr, thresholds = roc_curve(y_samp_test, y_pred_prob)\n",
    "plt.figure()\n",
    "plt.plot(fpr, tpr, color='darkorange', lw=2, label='Courbe ROC (AUC = %0.2f)' % auc)\n",
    "plt.plot([0, 1], [0, 1], color='navy', lw=2, linestyle='--')\n",
    "plt.xlim([0.0, 1.0])\n",
    "plt.ylim([0.0, 1.05])\n",
    "plt.xlabel('Taux de faux positifs')\n",
    "plt.ylabel('Taux de vrais positifs')\n",
    "plt.title('Courbe ROC')\n",
    "plt.legend(loc=\"lower right\")\n",
    "plt.show()"
   ]
  },
  {
   "cell_type": "markdown",
   "id": "8bf17d96-a182-4487-9374-2ff23c9f6f57",
   "metadata": {},
   "source": [
    "## random forest sur échantillon"
   ]
  },
  {
   "cell_type": "code",
   "execution_count": null,
   "id": "01910dff-fd17-459c-b305-cf8f553ae436",
   "metadata": {},
   "outputs": [],
   "source": [
    "# Démarrer une run MLflow\n",
    "with mlflow.start_run() as run:\n",
    "    # Enregistrer les paramètres du modèle\n",
    "    mlflow.log_param(\"model_type\", \"Random forest classifier\")\n",
    "\n",
    "    # Initialiser et entraîner le modèle\n",
    "    model = RandomForestClassifier(n_estimators=100, random_state=42)\n",
    "    model.fit(X_samp_train, y_samp_train)\n",
    "\n",
    "    # Enregistrer les métriques\n",
    "    y_pred_prob = model.predict_proba(X_samp_test)[:, 1]\n",
    "    auc = roc_auc_score(y_samp_test, y_pred_prob)\n",
    "    mlflow.log_metric(\"auc\", auc)\n",
    "\n",
    "    # Optimiser le seuil de décision\n",
    "    thresholds = np.linspace(0, 1, 100)\n",
    "    costs = [cost_function(y_samp_test, y_pred_prob, threshold) for threshold in thresholds]\n",
    "    best_threshold = thresholds[np.argmin(costs)]\n",
    "\n",
    "    # Enregistrer le meilleur seuil\n",
    "    mlflow.log_param(\"best_threshold\", best_threshold)\n",
    "\n",
    "    # Évaluer le modèle avec le meilleur seuil\n",
    "    y_pred = (y_pred_prob >= best_threshold).astype(int)\n",
    "    min_cost = min(costs)\n",
    "    mlflow.log_metric(\"min_cost\", min_cost)\n",
    "\n",
    "    # Enregistrer le modèle avec un exemple d'entrée pour la signature\n",
    "    signature = mlflow.models.infer_signature(X_train, model.predict_proba(X_train))\n",
    "    mlflow.sklearn.log_model(model, \"model\", signature=signature)\n",
    "\n",
    "    # Enregistrer le modèle dans le Model Registry\n",
    "    model_uri = f\"runs:/{run.info.run_id}/model\"\n",
    "    mlflow.register_model(model_uri, \"RF_echantillon\")"
   ]
  },
  {
   "cell_type": "code",
   "execution_count": null,
   "id": "169f316c-e176-495e-8066-f88b0b63a381",
   "metadata": {},
   "outputs": [],
   "source": [
    "# Tracer la courbe ROC\n",
    "fpr, tpr, thresholds = roc_curve(y_samp_test, y_pred_prob)\n",
    "plt.figure()\n",
    "plt.plot(fpr, tpr, color='darkorange', lw=2, label='Courbe ROC (AUC = %0.2f)' % auc)\n",
    "plt.plot([0, 1], [0, 1], color='navy', lw=2, linestyle='--')\n",
    "plt.xlim([0.0, 1.0])\n",
    "plt.ylim([0.0, 1.05])\n",
    "plt.xlabel('Taux de faux positifs')\n",
    "plt.ylabel('Taux de vrais positifs')\n",
    "plt.title('Courbe ROC')\n",
    "plt.legend(loc=\"lower right\")\n",
    "plt.show()"
   ]
  },
  {
   "cell_type": "markdown",
   "id": "e136a840-6502-40e2-b269-fd3cf1bcc231",
   "metadata": {},
   "source": [
    "### optimisation hyperparamètres sur échantillon"
   ]
  },
  {
   "cell_type": "code",
   "execution_count": null,
   "id": "bdef30a5-0807-42a3-8137-6ad5c08a1bf4",
   "metadata": {},
   "outputs": [],
   "source": [
    "# Initialiser le modèle\n",
    "model = RandomForestClassifier(random_state=42)\n",
    "# Définir les hyperparamètres à tester\n",
    "param_dist = {\n",
    "    'n_estimators': [100, 200],\n",
    "    'max_depth': [None, 20],\n",
    "    'min_samples_split': [2,  10],\n",
    "    'min_samples_leaf': [1, 3],\n",
    "    'max_features': ['log2', 'sqrt'],\n",
    "    'class_weight': [None, 'balanced'],\n",
    "    'bootstrap': [True, False]\n",
    "}\n",
    "# Initialiser RandomizedSearchCV\n",
    "random_search = RandomizedSearchCV(model, param_distributions=param_dist, n_iter=10, cv=3, scoring='roc_auc', n_jobs=2)\n"
   ]
  },
  {
   "cell_type": "code",
   "execution_count": null,
   "id": "10b8037f-9abb-4ec8-a855-b1e8fee97778",
   "metadata": {},
   "outputs": [],
   "source": [
    "# Effectuer la recherche d'hyperparamètres\n",
    "random_search.fit(X_samp_train, y_samp_train)\n",
    "\n",
    "# Enregistrer les meilleurs paramètres\n",
    "best_params = random_search.best_params_\n",
    "    "
   ]
  },
  {
   "cell_type": "code",
   "execution_count": null,
   "id": "c2a04abd-5fb6-4de8-b95b-29f906e3fa08",
   "metadata": {},
   "outputs": [],
   "source": [
    "best_params"
   ]
  },
  {
   "cell_type": "code",
   "execution_count": null,
   "id": "d8f8eeca-ca73-4d7d-908e-afc3dec3631f",
   "metadata": {},
   "outputs": [],
   "source": [
    "random_search.best_estimator_"
   ]
  },
  {
   "cell_type": "code",
   "execution_count": null,
   "id": "43815e6b-f244-4b26-8f70-df83c97f6223",
   "metadata": {},
   "outputs": [],
   "source": [
    "# Démarrer une run MLflow\n",
    "with mlflow.start_run() as run:\n",
    "    # Enregistrer les paramètres du modèle\n",
    "    mlflow.log_param(\"model_type\", \"Random forest classifier\")\n",
    "\n",
    "    # Initialiser et entraîner le modèle\n",
    "    best_model = random_search.best_estimator_\n",
    "    best_model.fit(X_samp_train, y_samp_train)\n",
    "\n",
    "    # Enregistrer les métriques\n",
    "    y_pred_prob = best_model.predict_proba(X_samp_test)[:, 1]\n",
    "    auc = roc_auc_score(y_samp_test, y_pred_prob)\n",
    "    mlflow.log_metric(\"auc\", auc)\n",
    "\n",
    "    # Optimiser le seuil de décision\n",
    "    thresholds = np.linspace(0, 1, 100)\n",
    "    costs = [cost_function(y_samp_test, y_pred_prob, threshold) for threshold in thresholds]\n",
    "    best_threshold = thresholds[np.argmin(costs)]\n",
    "\n",
    "    # Enregistrer le meilleur seuil\n",
    "    mlflow.log_param(\"best_threshold\", best_threshold)\n",
    "\n",
    "    # Évaluer le modèle avec le meilleur seuil\n",
    "    y_pred = (y_pred_prob >= best_threshold).astype(int)\n",
    "    min_cost = min(costs)\n",
    "    mlflow.log_metric(\"min_cost\", min_cost)\n",
    "\n",
    "    # Enregistrer le modèle avec un exemple d'entrée pour la signature\n",
    "    signature = mlflow.models.infer_signature(X_train, best_model.predict_proba(X_train))\n",
    "    mlflow.sklearn.log_model(model, \"model\", signature=signature)\n",
    "\n",
    "    # Enregistrer le modèle dans le Model Registry\n",
    "    model_uri = f\"runs:/{run.info.run_id}/model\"\n",
    "    mlflow.register_model(model_uri, \"RF_optim_echantillon\")"
   ]
  },
  {
   "cell_type": "code",
   "execution_count": null,
   "id": "df2981cf-2929-4e3a-a9d4-5996d0cf6bea",
   "metadata": {},
   "outputs": [],
   "source": [
    "# Tracer la courbe ROC\n",
    "fpr, tpr, thresholds = roc_curve(y_samp_test, y_pred_prob)\n",
    "plt.figure()\n",
    "plt.plot(fpr, tpr, color='darkorange', lw=2, label='Courbe ROC (AUC = %0.2f)' % auc)\n",
    "plt.plot([0, 1], [0, 1], color='navy', lw=2, linestyle='--')\n",
    "plt.xlim([0.0, 1.0])\n",
    "plt.ylim([0.0, 1.05])\n",
    "plt.xlabel('Taux de faux positifs')\n",
    "plt.ylabel('Taux de vrais positifs')\n",
    "plt.title('Courbe ROC')\n",
    "plt.legend(loc=\"lower right\")\n",
    "plt.show()"
   ]
  },
  {
   "cell_type": "markdown",
   "id": "7f275227-47dc-4de0-81b4-0d93332a517e",
   "metadata": {},
   "source": [
    "## ligthGBM sur echantillon"
   ]
  },
  {
   "cell_type": "code",
   "execution_count": null,
   "id": "35269f31-7f6a-4ec5-b507-3aead3517775",
   "metadata": {},
   "outputs": [],
   "source": [
    "train_data = lgb.Dataset(X_samp_train, label=y_samp_train)\n",
    "test_data = lgb.Dataset(X_samp_test, label=y_samp_test, reference=train_data)\n"
   ]
  },
  {
   "cell_type": "code",
   "execution_count": null,
   "id": "92750d13-a591-4d81-96fd-b3514261c1c3",
   "metadata": {},
   "outputs": [],
   "source": [
    "# Définir les paramètres et entraîner le modèle\n",
    "params = {\n",
    "    'objective': 'binary',\n",
    "    'metric': 'binary_logloss',\n",
    "    'boosting_type': 'gbdt',\n",
    "    'num_leaves': 31,\n",
    "    'learning_rate': 0.05,\n",
    "    'feature_fraction': 0.9\n",
    "}\n",
    "\n",
    "gbm = lgb.train(params, train_data, num_boost_round=100, valid_sets=[test_data])\n",
    "\n"
   ]
  },
  {
   "cell_type": "code",
   "execution_count": null,
   "id": "13134b55-61b9-4438-8f7b-87c0544d0af2",
   "metadata": {},
   "outputs": [],
   "source": [
    "# Démarrer une run MLflow\n",
    "with mlflow.start_run() as run:\n",
    "    # Enregistrer les paramètres du modèle\n",
    "    mlflow.log_param(\"model_type\", \"LightGBM\")\n",
    "\n",
    "    \n",
    "    # Prédire les probabilités\n",
    "    y_pred_prob = gbm.predict(X_samp_test, num_iteration=gbm.best_iteration)\n",
    "    # Calculer l'AUC\n",
    "    auc = roc_auc_score(y_samp_test, y_pred_prob)\n",
    "    mlflow.log_metric(\"auc\", auc)\n",
    "\n",
    "    # Optimiser le seuil de décision\n",
    "    thresholds = np.linspace(0, 1, 100)\n",
    "    costs = [cost_function(y_samp_test, y_pred_prob, threshold) for threshold in thresholds]\n",
    "    best_threshold = thresholds[np.argmin(costs)]\n",
    "\n",
    "    # Enregistrer le meilleur seuil\n",
    "    mlflow.log_param(\"best_threshold\", best_threshold)\n",
    "\n",
    "    # Évaluer le modèle avec le meilleur seuil\n",
    "    y_pred = (y_pred_prob >= best_threshold).astype(int)\n",
    "    min_cost = min(costs)\n",
    "    mlflow.log_metric(\"min_cost\", min_cost)\n",
    "\n",
    "    # Enregistrer le modèle avec un exemple d'entrée pour la signature\n",
    "    signature = mlflow.models.infer_signature(X_samp_train, gbm.predict(X_samp_train))\n",
    "    mlflow.lightgbm.log_model(gbm, \"LGBM\", signature=signature)\n",
    "\n",
    "    # Enregistrer le modèle dans le Model Registry\n",
    "    model_uri = f\"runs:/{run.info.run_id}/model\"\n",
    "    mlflow.register_model(model_uri, \"LGBM_echantillon\")"
   ]
  },
  {
   "cell_type": "code",
   "execution_count": null,
   "id": "8cea5b8b-9235-47bb-b71a-7cb14da01524",
   "metadata": {
    "scrolled": true
   },
   "outputs": [],
   "source": [
    "# Tracer la courbe ROC\n",
    "fpr, tpr, thresholds = roc_curve(y_samp_test, y_pred_prob)\n",
    "plt.figure()\n",
    "plt.plot(fpr, tpr, color='darkorange', lw=2, label='Courbe ROC (AUC = %0.2f)' % auc)\n",
    "plt.plot([0, 1], [0, 1], color='navy', lw=2, linestyle='--')\n",
    "plt.xlim([0.0, 1.0])\n",
    "plt.ylim([0.0, 1.05])\n",
    "plt.xlabel('Taux de faux positifs')\n",
    "plt.ylabel('Taux de vrais positifs')\n",
    "plt.title('Courbe ROC')\n",
    "plt.legend(loc=\"lower right\")\n",
    "plt.show()"
   ]
  },
  {
   "cell_type": "markdown",
   "id": "d99bb651-f655-4ea1-a6c9-159186f7f5dc",
   "metadata": {},
   "source": [
    "### optimisation lgbm"
   ]
  },
  {
   "cell_type": "code",
   "execution_count": null,
   "id": "3c7efd0e-e963-4007-a975-5431dc9868da",
   "metadata": {},
   "outputs": [],
   "source": [
    "# Définir les hyperparamètres à tester\n",
    "param_grid = {\n",
    "    'num_leaves': [31, 50],\n",
    "    'learning_rate': [0.01, 0.1],\n",
    "    'n_estimators': [100, 200],\n",
    "    'max_depth': [5, 20],\n",
    "    'min_child_samples': [5, 20],\n",
    "    'subsample': [0.7,  0.9],\n",
    "    'colsample_bytree': [0.7,  0.9],\n",
    "    'reg_alpha': [ 0.1, 0.5],\n",
    "    'reg_lambda': [ 0.1, 0.5],\n",
    "    'class_weight': [None, 'balanced']\n",
    "}\n",
    "# Initialiser le modèle LightGBM\n",
    "lgbm = lgb.LGBMClassifier()\n",
    "\n",
    "# Initialiser RandomizedSearchCV\n",
    "random_search = RandomizedSearchCV(estimator=lgbm, param_distributions=param_dist, n_iter=10, cv=3, scoring='roc_auc', n_jobs=2)\n",
    "\n",
    "\n"
   ]
  },
  {
   "cell_type": "code",
   "execution_count": null,
   "id": "60476248-ee72-407d-be8b-841fe925e6d2",
   "metadata": {},
   "outputs": [],
   "source": [
    "# Exécuter la recherche\n",
    "random_search.fit(X_samp_train, y_samp_train)"
   ]
  },
  {
   "cell_type": "code",
   "execution_count": null,
   "id": "c836c36a-3a6e-4ccc-ac1e-4650ec283ed1",
   "metadata": {},
   "outputs": [],
   "source": [
    "# Enregistrer les meilleurs paramètres\n",
    "best_params = random_search.best_params_"
   ]
  },
  {
   "cell_type": "code",
   "execution_count": null,
   "id": "c626cc7b-acea-407f-93b1-090d829b602f",
   "metadata": {},
   "outputs": [],
   "source": [
    "best_params"
   ]
  },
  {
   "cell_type": "code",
   "execution_count": null,
   "id": "a4f768d4-90ac-4aaa-a552-5d4707c2d608",
   "metadata": {},
   "outputs": [],
   "source": [
    "random_search.best_estimator_"
   ]
  },
  {
   "cell_type": "code",
   "execution_count": null,
   "id": "d0ae61af-fbdd-4c6b-97a0-1761e855d32a",
   "metadata": {},
   "outputs": [],
   "source": [
    "# Entraîner le modèle final avec les meilleurs paramètres\n",
    "\n",
    "train_data = lgb.Dataset(X_samp_train, label=y_samp_train)\n",
    "test_data = lgb.Dataset(X_samp_test, label=y_samp_test, reference=train_data)\n",
    "\n",
    "gbm = lgb.train(best_params, train_data, num_boost_round=100, valid_sets=[test_data])"
   ]
  },
  {
   "cell_type": "code",
   "execution_count": null,
   "id": "f83eb404-9873-4f73-98c2-b8348c32c429",
   "metadata": {},
   "outputs": [],
   "source": [
    "# Démarrer une run MLflow\n",
    "with mlflow.start_run() as run:\n",
    "    #  Enregistrer les paramètres du modèle\n",
    "    mlflow.log_params(best_params)\n",
    "    mlflow.log_param(\"model_type\", \"LightGBM\")\n",
    "\n",
    "    # Prédire les probabilités\n",
    "    y_pred_prob = gbm.predict(X_samp_test, num_iteration=gbm.best_iteration)\n",
    "    # Calculer l'AUC\n",
    "    auc = roc_auc_score(y_samp_test, y_pred_prob)\n",
    "    mlflow.log_metric(\"auc\", auc)\n",
    "\n",
    "    # Optimiser le seuil de décision\n",
    "    thresholds = np.linspace(0, 1, 100)\n",
    "    costs = [cost_function(y_samp_test, y_pred_prob, threshold) for threshold in thresholds]\n",
    "    best_threshold = thresholds[np.argmin(costs)]\n",
    "\n",
    "    # Enregistrer le meilleur seuil\n",
    "    mlflow.log_param(\"best_threshold\", best_threshold)\n",
    "\n",
    "    # Évaluer le modèle avec le meilleur seuil\n",
    "    y_pred = (y_pred_prob >= best_threshold).astype(int)\n",
    "    min_cost = min(costs)\n",
    "    mlflow.log_metric(\"min_cost\", min_cost)\n",
    "\n",
    "    # Enregistrer le modèle avec un exemple d'entrée pour la signature\n",
    "    signature = mlflow.models.infer_signature(X_samp_train, gbm.predict(X_samp_train))\n",
    "    mlflow.lightgbm.log_model(gbm, \"LGBM\", signature=signature)\n",
    "\n",
    "    # Enregistrer le modèle dans le Model Registry\n",
    "    model_uri = f\"runs:/{run.info.run_id}/model\"\n",
    "    mlflow.register_model(model_uri, \"LGBM_echantillon_optim\")"
   ]
  },
  {
   "cell_type": "code",
   "execution_count": null,
   "id": "4465c2e4-7a53-491b-bd50-8d0216b0472f",
   "metadata": {
    "scrolled": true
   },
   "outputs": [],
   "source": [
    "# Tracer la courbe ROC\n",
    "fpr, tpr, thresholds = roc_curve(y_samp_test, y_pred_prob)\n",
    "plt.figure()\n",
    "plt.plot(fpr, tpr, color='darkorange', lw=2, label='Courbe ROC (AUC = %0.2f)' % auc)\n",
    "plt.plot([0, 1], [0, 1], color='navy', lw=2, linestyle='--')\n",
    "plt.xlim([0.0, 1.0])\n",
    "plt.ylim([0.0, 1.05])\n",
    "plt.xlabel('Taux de faux positifs')\n",
    "plt.ylabel('Taux de vrais positifs')\n",
    "plt.title('Courbe ROC')\n",
    "plt.legend(loc=\"lower right\")\n",
    "plt.show()"
   ]
  },
  {
   "cell_type": "code",
   "execution_count": null,
   "id": "3eb21637-4b52-4041-8af1-3d1d8691e052",
   "metadata": {},
   "outputs": [],
   "source": []
  },
  {
   "cell_type": "code",
   "execution_count": null,
   "id": "150523b9-0085-4ce9-9673-c84a764b5810",
   "metadata": {},
   "outputs": [],
   "source": []
  },
  {
   "cell_type": "markdown",
   "id": "a96e01ab-87c0-4eb6-b868-3cc1df19e520",
   "metadata": {},
   "source": [
    "## XGBoost sur échantillon"
   ]
  },
  {
   "cell_type": "code",
   "execution_count": null,
   "id": "692daafe-3c18-4977-a94a-2ce53dde869a",
   "metadata": {},
   "outputs": [],
   "source": [
    "# Démarrer une run MLflow\n",
    "with mlflow.start_run() as run:\n",
    "    # Enregistrer les paramètres du modèle\n",
    "    mlflow.log_param(\"model_type\", \"XGboost\")\n",
    "\n",
    "    # Initialiser et entraîner le modèle\n",
    "    model = XGBClassifier(random_state=42, n_estimators=100, learning_rate=0.1, max_depth=6,  scale_pos_weight=10)\n",
    "    model.fit(X_samp_train, y_samp_train)\n",
    "\n",
    "    # Enregistrer les métriques\n",
    "    y_pred_prob = model.predict_proba(X_samp_test)[:, 1]\n",
    "    auc = roc_auc_score(y_samp_test, y_pred_prob)\n",
    "    mlflow.log_metric(\"auc\", auc)\n",
    "\n",
    "    # Optimiser le seuil de décision\n",
    "    thresholds = np.linspace(0, 1, 100)\n",
    "    costs = [cost_function(y_samp_test, y_pred_prob, threshold) for threshold in thresholds]\n",
    "    best_threshold = thresholds[np.argmin(costs)]\n",
    "\n",
    "    # Enregistrer le meilleur seuil\n",
    "    mlflow.log_param(\"best_threshold\", best_threshold)\n",
    "\n",
    "    # Évaluer le modèle avec le meilleur seuil\n",
    "    y_pred = (y_pred_prob >= best_threshold).astype(int)\n",
    "    min_cost = min(costs)\n",
    "    mlflow.log_metric(\"min_cost\", min_cost)\n",
    "\n",
    "    # Enregistrer le modèle avec un exemple d'entrée pour la signature\n",
    "    signature = mlflow.models.infer_signature(X_train, model.predict_proba(X_train))\n",
    "    mlflow.sklearn.log_model(model, \"model\", signature=signature)\n",
    "\n",
    "    # Enregistrer le modèle dans le Model Registry\n",
    "    model_uri = f\"runs:/{run.info.run_id}/model\"\n",
    "    mlflow.register_model(model_uri, \"XGBoost_echantillon\")"
   ]
  },
  {
   "cell_type": "code",
   "execution_count": null,
   "id": "d0c6a488-ae7c-45b0-8b6e-b614c413f646",
   "metadata": {},
   "outputs": [],
   "source": [
    "# Tracer la courbe ROC\n",
    "fpr, tpr, thresholds = roc_curve(y_samp_test, y_pred_prob)\n",
    "plt.figure()\n",
    "plt.plot(fpr, tpr, color='darkorange', lw=2, label='Courbe ROC (AUC = %0.2f)' % auc)\n",
    "plt.plot([0, 1], [0, 1], color='navy', lw=2, linestyle='--')\n",
    "plt.xlim([0.0, 1.0])\n",
    "plt.ylim([0.0, 1.05])\n",
    "plt.xlabel('Taux de faux positifs')\n",
    "plt.ylabel('Taux de vrais positifs')\n",
    "plt.title('Courbe ROC')\n",
    "plt.legend(loc=\"lower right\")\n",
    "plt.show()"
   ]
  },
  {
   "cell_type": "markdown",
   "id": "794d0099-12b7-4bdb-adbb-caf98fe340b6",
   "metadata": {},
   "source": [
    "### optimisation hyperparamètres sur échantillon"
   ]
  },
  {
   "cell_type": "code",
   "execution_count": null,
   "id": "7c1540af-2fce-47d2-b4f6-f5288d579ce6",
   "metadata": {},
   "outputs": [],
   "source": [
    "# Définition du modèle\n",
    "model = XGBClassifier(random_state=42, n_estimators=100, learning_rate=0.1, max_depth=6,  scale_pos_weight=10)\n",
    "\n"
   ]
  },
  {
   "cell_type": "code",
   "execution_count": null,
   "id": "5acd6fbb-f1f6-4a76-a0fb-2dab4f1f5134",
   "metadata": {},
   "outputs": [],
   "source": [
    "# Optimisation des hyperparamètres\n",
    "param_dist = {\n",
    "    'n_estimators': [100, 200],\n",
    "    'learning_rate': [0.01, 0.1],\n",
    "    'max_depth': [6, 10],\n",
    "    'scale_pos_weight': [1, 10]\n",
    "}"
   ]
  },
  {
   "cell_type": "code",
   "execution_count": null,
   "id": "6609788f-aa60-4037-b108-1aabe590218d",
   "metadata": {},
   "outputs": [],
   "source": [
    "random_search = RandomizedSearchCV(model, param_dist, n_iter=10, cv=3, scoring='roc_auc', n_jobs=2)\n",
    "random_search.fit(X_samp_train, y_samp_train)"
   ]
  },
  {
   "cell_type": "code",
   "execution_count": null,
   "id": "ee7f223a-3cd8-48de-81da-02c544a0d398",
   "metadata": {},
   "outputs": [],
   "source": [
    "# Démarrer une run MLflow\n",
    "with mlflow.start_run() as run:\n",
    "    # Enregistrer les paramètres du modèle\n",
    "    mlflow.log_param(\"model_type\", \"XGBoost\")\n",
    "\n",
    "    # Initialiser et entraîner le modèle\n",
    "    best_model = random_search.best_estimator_\n",
    "    best_model.fit(X_samp_train, y_samp_train)\n",
    "\n",
    "    # Enregistrer les métriques\n",
    "    y_pred_prob = best_model.predict_proba(X_samp_test)[:, 1]\n",
    "    auc = roc_auc_score(y_samp_test, y_pred_prob)\n",
    "    mlflow.log_metric(\"auc\", auc)\n",
    "\n",
    "    # Optimiser le seuil de décision\n",
    "    thresholds = np.linspace(0, 1, 100)\n",
    "    costs = [cost_function(y_samp_test, y_pred_prob, threshold) for threshold in thresholds]\n",
    "    best_threshold = thresholds[np.argmin(costs)]\n",
    "\n",
    "    # Enregistrer le meilleur seuil\n",
    "    mlflow.log_param(\"best_threshold\", best_threshold)\n",
    "\n",
    "    # Évaluer le modèle avec le meilleur seuil\n",
    "    y_pred = (y_pred_prob >= best_threshold).astype(int)\n",
    "    min_cost = min(costs)\n",
    "    mlflow.log_metric(\"min_cost\", min_cost)\n",
    "\n",
    "    # Enregistrer le modèle avec un exemple d'entrée pour la signature\n",
    "    signature = mlflow.models.infer_signature(X_train, best_model.predict_proba(X_train))\n",
    "    mlflow.sklearn.log_model(model, \"model\", signature=signature)\n",
    "\n",
    "    # Enregistrer le modèle dans le Model Registry\n",
    "    model_uri = f\"runs:/{run.info.run_id}/model\"\n",
    "    mlflow.register_model(model_uri, \"XGBoost_optim_echantillon\")"
   ]
  },
  {
   "cell_type": "code",
   "execution_count": null,
   "id": "b1ce8259-a8a1-4bb6-ac0d-32f7e0f3dfed",
   "metadata": {
    "scrolled": true
   },
   "outputs": [],
   "source": [
    "# Tracer la courbe ROC\n",
    "fpr, tpr, thresholds = roc_curve(y_samp_test, y_pred_prob)\n",
    "plt.figure()\n",
    "plt.plot(fpr, tpr, color='darkorange', lw=2, label='Courbe ROC (AUC = %0.2f)' % auc)\n",
    "plt.plot([0, 1], [0, 1], color='navy', lw=2, linestyle='--')\n",
    "plt.xlim([0.0, 1.0])\n",
    "plt.ylim([0.0, 1.05])\n",
    "plt.xlabel('Taux de faux positifs')\n",
    "plt.ylabel('Taux de vrais positifs')\n",
    "plt.title('Courbe ROC')\n",
    "plt.legend(loc=\"lower right\")\n",
    "plt.show()"
   ]
  },
  {
   "cell_type": "code",
   "execution_count": null,
   "id": "022d5405-4e9b-427b-9a90-f30cafe6025f",
   "metadata": {},
   "outputs": [],
   "source": []
  }
 ],
 "metadata": {
  "kernelspec": {
   "display_name": "Python 3 (ipykernel)",
   "language": "python",
   "name": "python3"
  },
  "language_info": {
   "codemirror_mode": {
    "name": "ipython",
    "version": 3
   },
   "file_extension": ".py",
   "mimetype": "text/x-python",
   "name": "python",
   "nbconvert_exporter": "python",
   "pygments_lexer": "ipython3",
   "version": "3.9.20"
  }
 },
 "nbformat": 4,
 "nbformat_minor": 5
}
