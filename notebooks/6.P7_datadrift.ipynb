{
 "cells": [
  {
   "cell_type": "code",
   "execution_count": 1,
   "id": "ecd4d338-cf16-4593-811d-1240e0698c5e",
   "metadata": {},
   "outputs": [],
   "source": [
    "import pandas as pd\n",
    "import evidently"
   ]
  },
  {
   "cell_type": "code",
   "execution_count": 3,
   "id": "6c03d520-9147-4caf-8ca2-7edf305748bf",
   "metadata": {},
   "outputs": [],
   "source": [
    "# Charger les données d'entraînement\n",
    "application_train = pd.read_csv('../data/application_train.csv')\n",
    "\n",
    "# Charger les données de test (production)\n",
    "application_test = pd.read_csv('../data/application_test.csv')"
   ]
  },
  {
   "cell_type": "code",
   "execution_count": 4,
   "id": "ebfaff29-2b16-4208-a558-9ceacb874812",
   "metadata": {},
   "outputs": [
    {
     "data": {
      "text/plain": [
       "((307511, 122), (48744, 121))"
      ]
     },
     "execution_count": 4,
     "metadata": {},
     "output_type": "execute_result"
    }
   ],
   "source": [
    "application_train.shape, application_test.shape"
   ]
  },
  {
   "cell_type": "code",
   "execution_count": 5,
   "id": "7c0b25f7-8db9-42d0-afea-cb5c2b5ff911",
   "metadata": {},
   "outputs": [
    {
     "ename": "ImportError",
     "evalue": "cannot import name 'Report' from 'evidently.future' (c:\\Users\\Emmanuel\\anaconda3\\envs\\P7_vinf\\Lib\\site-packages\\evidently\\future\\__init__.py)",
     "output_type": "error",
     "traceback": [
      "\u001b[31m---------------------------------------------------------------------------\u001b[39m",
      "\u001b[31mImportError\u001b[39m                               Traceback (most recent call last)",
      "\u001b[36mCell\u001b[39m\u001b[36m \u001b[39m\u001b[32mIn[5]\u001b[39m\u001b[32m, line 1\u001b[39m\n\u001b[32m----> \u001b[39m\u001b[32m1\u001b[39m \u001b[38;5;28;01mfrom\u001b[39;00m\u001b[38;5;250m \u001b[39m\u001b[34;01mevidently\u001b[39;00m\u001b[34;01m.\u001b[39;00m\u001b[34;01mfuture\u001b[39;00m\u001b[38;5;250m \u001b[39m\u001b[38;5;28;01mimport\u001b[39;00m Report\n",
      "\u001b[31mImportError\u001b[39m: cannot import name 'Report' from 'evidently.future' (c:\\Users\\Emmanuel\\anaconda3\\envs\\P7_vinf\\Lib\\site-packages\\evidently\\future\\__init__.py)"
     ]
    }
   ],
   "source": [
    "from evidently.future import Report"
   ]
  },
  {
   "cell_type": "code",
   "execution_count": 10,
   "id": "0a9d78ef-27a3-4bc2-9e59-bb8f6b47dd8b",
   "metadata": {},
   "outputs": [],
   "source": [
    "import sys"
   ]
  },
  {
   "cell_type": "code",
   "execution_count": null,
   "id": "eb43dd52-d883-4c28-9594-0d7d324a4ac0",
   "metadata": {},
   "outputs": [],
   "source": []
  }
 ],
 "metadata": {
  "kernelspec": {
   "display_name": "P7_vinf",
   "language": "python",
   "name": "python3"
  },
  "language_info": {
   "codemirror_mode": {
    "name": "ipython",
    "version": 3
   },
   "file_extension": ".py",
   "mimetype": "text/x-python",
   "name": "python",
   "nbconvert_exporter": "python",
   "pygments_lexer": "ipython3",
   "version": "3.11.11"
  }
 },
 "nbformat": 4,
 "nbformat_minor": 5
}
